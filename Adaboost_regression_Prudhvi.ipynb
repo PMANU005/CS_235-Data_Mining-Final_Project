{
  "nbformat": 4,
  "nbformat_minor": 5,
  "metadata": {
    "colab": {
      "name": "Copy_of_revision_project (1).ipynb",
      "provenance": []
    },
    "kernelspec": {
      "display_name": "Python 3",
      "language": "python",
      "name": "python3"
    },
    "language_info": {
      "codemirror_mode": {
        "name": "ipython",
        "version": 3
      },
      "file_extension": ".py",
      "mimetype": "text/x-python",
      "name": "python",
      "nbconvert_exporter": "python",
      "pygments_lexer": "ipython3",
      "version": "3.8.8"
    }
  },
  "cells": [
    {
      "cell_type": "code",
      "metadata": {
        "colab": {
          "base_uri": "https://localhost:8080/"
        },
        "id": "0ed50b11",
        "outputId": "407e16d6-ffcd-45e5-9ca9-9ff95bfb748b"
      },
      "source": [
        "from google.colab import drive\n",
        "drive.mount('/content/drive')\n",
        "import numpy as np\n",
        "import pandas as pd\n",
        "import matplotlib.pyplot as plt\n",
        "import seaborn as sns\n",
        "from sklearn import preprocessing\n",
        "from sklearn.model_selection import train_test_split\n",
        "from datetime import datetime\n",
        "import calendar\n",
        "\n",
        "\n",
        "%matplotlib inline\n",
        "plt.style.use('seaborn-whitegrid') \n",
        "import matplotlib.pyplot as plt\n",
        "#import squarify \n",
        "#pip install squarify"
      ],
      "id": "0ed50b11",
      "execution_count": 2,
      "outputs": [
        {
          "output_type": "stream",
          "name": "stdout",
          "text": [
            "Mounted at /content/drive\n"
          ]
        }
      ]
    },
    {
      "cell_type": "code",
      "metadata": {
        "colab": {
          "base_uri": "https://localhost:8080/",
          "height": 293
        },
        "id": "50adab44",
        "outputId": "835a3914-bafa-40b8-fe83-239aeb6038e2"
      },
      "source": [
        "df_train = pd.read_csv(\"/content/drive/MyDrive/train.csv\",nrows=200000)\n",
        "df_train.head()"
      ],
      "id": "50adab44",
      "execution_count": 3,
      "outputs": [
        {
          "output_type": "execute_result",
          "data": {
            "text/html": [
              "<div>\n",
              "<style scoped>\n",
              "    .dataframe tbody tr th:only-of-type {\n",
              "        vertical-align: middle;\n",
              "    }\n",
              "\n",
              "    .dataframe tbody tr th {\n",
              "        vertical-align: top;\n",
              "    }\n",
              "\n",
              "    .dataframe thead th {\n",
              "        text-align: right;\n",
              "    }\n",
              "</style>\n",
              "<table border=\"1\" class=\"dataframe\">\n",
              "  <thead>\n",
              "    <tr style=\"text-align: right;\">\n",
              "      <th></th>\n",
              "      <th>key</th>\n",
              "      <th>fare_amount</th>\n",
              "      <th>pickup_datetime</th>\n",
              "      <th>pickup_longitude</th>\n",
              "      <th>pickup_latitude</th>\n",
              "      <th>dropoff_longitude</th>\n",
              "      <th>dropoff_latitude</th>\n",
              "      <th>passenger_count</th>\n",
              "    </tr>\n",
              "  </thead>\n",
              "  <tbody>\n",
              "    <tr>\n",
              "      <th>0</th>\n",
              "      <td>2009-06-15 17:26:21.0000001</td>\n",
              "      <td>4.5</td>\n",
              "      <td>2009-06-15 17:26:21 UTC</td>\n",
              "      <td>-73.844311</td>\n",
              "      <td>40.721319</td>\n",
              "      <td>-73.841610</td>\n",
              "      <td>40.712278</td>\n",
              "      <td>1</td>\n",
              "    </tr>\n",
              "    <tr>\n",
              "      <th>1</th>\n",
              "      <td>2010-01-05 16:52:16.0000002</td>\n",
              "      <td>16.9</td>\n",
              "      <td>2010-01-05 16:52:16 UTC</td>\n",
              "      <td>-74.016048</td>\n",
              "      <td>40.711303</td>\n",
              "      <td>-73.979268</td>\n",
              "      <td>40.782004</td>\n",
              "      <td>1</td>\n",
              "    </tr>\n",
              "    <tr>\n",
              "      <th>2</th>\n",
              "      <td>2011-08-18 00:35:00.00000049</td>\n",
              "      <td>5.7</td>\n",
              "      <td>2011-08-18 00:35:00 UTC</td>\n",
              "      <td>-73.982738</td>\n",
              "      <td>40.761270</td>\n",
              "      <td>-73.991242</td>\n",
              "      <td>40.750562</td>\n",
              "      <td>2</td>\n",
              "    </tr>\n",
              "    <tr>\n",
              "      <th>3</th>\n",
              "      <td>2012-04-21 04:30:42.0000001</td>\n",
              "      <td>7.7</td>\n",
              "      <td>2012-04-21 04:30:42 UTC</td>\n",
              "      <td>-73.987130</td>\n",
              "      <td>40.733143</td>\n",
              "      <td>-73.991567</td>\n",
              "      <td>40.758092</td>\n",
              "      <td>1</td>\n",
              "    </tr>\n",
              "    <tr>\n",
              "      <th>4</th>\n",
              "      <td>2010-03-09 07:51:00.000000135</td>\n",
              "      <td>5.3</td>\n",
              "      <td>2010-03-09 07:51:00 UTC</td>\n",
              "      <td>-73.968095</td>\n",
              "      <td>40.768008</td>\n",
              "      <td>-73.956655</td>\n",
              "      <td>40.783762</td>\n",
              "      <td>1</td>\n",
              "    </tr>\n",
              "  </tbody>\n",
              "</table>\n",
              "</div>"
            ],
            "text/plain": [
              "                             key  ...  passenger_count\n",
              "0    2009-06-15 17:26:21.0000001  ...                1\n",
              "1    2010-01-05 16:52:16.0000002  ...                1\n",
              "2   2011-08-18 00:35:00.00000049  ...                2\n",
              "3    2012-04-21 04:30:42.0000001  ...                1\n",
              "4  2010-03-09 07:51:00.000000135  ...                1\n",
              "\n",
              "[5 rows x 8 columns]"
            ]
          },
          "metadata": {},
          "execution_count": 3
        }
      ]
    },
    {
      "cell_type": "code",
      "metadata": {
        "colab": {
          "base_uri": "https://localhost:8080/"
        },
        "id": "99c73dab",
        "outputId": "028a6964-4421-44c7-e5b7-52f25e45d0f8"
      },
      "source": [
        "df_train.shape"
      ],
      "id": "99c73dab",
      "execution_count": 4,
      "outputs": [
        {
          "output_type": "execute_result",
          "data": {
            "text/plain": [
              "(200000, 8)"
            ]
          },
          "metadata": {},
          "execution_count": 4
        }
      ]
    },
    {
      "cell_type": "code",
      "metadata": {
        "colab": {
          "base_uri": "https://localhost:8080/"
        },
        "id": "955d2e70",
        "outputId": "9e8d318b-d76b-40c8-fc9f-10958406fed3"
      },
      "source": [
        "df_train.dtypes"
      ],
      "id": "955d2e70",
      "execution_count": 5,
      "outputs": [
        {
          "output_type": "execute_result",
          "data": {
            "text/plain": [
              "key                   object\n",
              "fare_amount          float64\n",
              "pickup_datetime       object\n",
              "pickup_longitude     float64\n",
              "pickup_latitude      float64\n",
              "dropoff_longitude    float64\n",
              "dropoff_latitude     float64\n",
              "passenger_count        int64\n",
              "dtype: object"
            ]
          },
          "metadata": {},
          "execution_count": 5
        }
      ]
    },
    {
      "cell_type": "code",
      "metadata": {
        "colab": {
          "base_uri": "https://localhost:8080/",
          "height": 300
        },
        "id": "e202de10",
        "outputId": "ed86f6a9-e562-4cf1-8755-997f71f4fe4d"
      },
      "source": [
        "df_train.describe()\n"
      ],
      "id": "e202de10",
      "execution_count": 6,
      "outputs": [
        {
          "output_type": "execute_result",
          "data": {
            "text/html": [
              "<div>\n",
              "<style scoped>\n",
              "    .dataframe tbody tr th:only-of-type {\n",
              "        vertical-align: middle;\n",
              "    }\n",
              "\n",
              "    .dataframe tbody tr th {\n",
              "        vertical-align: top;\n",
              "    }\n",
              "\n",
              "    .dataframe thead th {\n",
              "        text-align: right;\n",
              "    }\n",
              "</style>\n",
              "<table border=\"1\" class=\"dataframe\">\n",
              "  <thead>\n",
              "    <tr style=\"text-align: right;\">\n",
              "      <th></th>\n",
              "      <th>fare_amount</th>\n",
              "      <th>pickup_longitude</th>\n",
              "      <th>pickup_latitude</th>\n",
              "      <th>dropoff_longitude</th>\n",
              "      <th>dropoff_latitude</th>\n",
              "      <th>passenger_count</th>\n",
              "    </tr>\n",
              "  </thead>\n",
              "  <tbody>\n",
              "    <tr>\n",
              "      <th>count</th>\n",
              "      <td>200000.000000</td>\n",
              "      <td>200000.000000</td>\n",
              "      <td>200000.000000</td>\n",
              "      <td>199999.000000</td>\n",
              "      <td>199999.000000</td>\n",
              "      <td>200000.000000</td>\n",
              "    </tr>\n",
              "    <tr>\n",
              "      <th>mean</th>\n",
              "      <td>11.342877</td>\n",
              "      <td>-72.506121</td>\n",
              "      <td>39.922326</td>\n",
              "      <td>-72.518673</td>\n",
              "      <td>39.925579</td>\n",
              "      <td>1.682445</td>\n",
              "    </tr>\n",
              "    <tr>\n",
              "      <th>std</th>\n",
              "      <td>9.837855</td>\n",
              "      <td>11.608097</td>\n",
              "      <td>10.048947</td>\n",
              "      <td>10.724226</td>\n",
              "      <td>6.751120</td>\n",
              "      <td>1.306730</td>\n",
              "    </tr>\n",
              "    <tr>\n",
              "      <th>min</th>\n",
              "      <td>-44.900000</td>\n",
              "      <td>-736.550000</td>\n",
              "      <td>-3116.285383</td>\n",
              "      <td>-1251.195890</td>\n",
              "      <td>-1189.615440</td>\n",
              "      <td>0.000000</td>\n",
              "    </tr>\n",
              "    <tr>\n",
              "      <th>25%</th>\n",
              "      <td>6.000000</td>\n",
              "      <td>-73.992050</td>\n",
              "      <td>40.735007</td>\n",
              "      <td>-73.991295</td>\n",
              "      <td>40.734092</td>\n",
              "      <td>1.000000</td>\n",
              "    </tr>\n",
              "    <tr>\n",
              "      <th>50%</th>\n",
              "      <td>8.500000</td>\n",
              "      <td>-73.981743</td>\n",
              "      <td>40.752761</td>\n",
              "      <td>-73.980072</td>\n",
              "      <td>40.753225</td>\n",
              "      <td>1.000000</td>\n",
              "    </tr>\n",
              "    <tr>\n",
              "      <th>75%</th>\n",
              "      <td>12.500000</td>\n",
              "      <td>-73.967068</td>\n",
              "      <td>40.767127</td>\n",
              "      <td>-73.963508</td>\n",
              "      <td>40.768070</td>\n",
              "      <td>2.000000</td>\n",
              "    </tr>\n",
              "    <tr>\n",
              "      <th>max</th>\n",
              "      <td>500.000000</td>\n",
              "      <td>2140.601160</td>\n",
              "      <td>1703.092772</td>\n",
              "      <td>40.851027</td>\n",
              "      <td>404.616667</td>\n",
              "      <td>6.000000</td>\n",
              "    </tr>\n",
              "  </tbody>\n",
              "</table>\n",
              "</div>"
            ],
            "text/plain": [
              "         fare_amount  pickup_longitude  ...  dropoff_latitude  passenger_count\n",
              "count  200000.000000     200000.000000  ...     199999.000000    200000.000000\n",
              "mean       11.342877        -72.506121  ...         39.925579         1.682445\n",
              "std         9.837855         11.608097  ...          6.751120         1.306730\n",
              "min       -44.900000       -736.550000  ...      -1189.615440         0.000000\n",
              "25%         6.000000        -73.992050  ...         40.734092         1.000000\n",
              "50%         8.500000        -73.981743  ...         40.753225         1.000000\n",
              "75%        12.500000        -73.967068  ...         40.768070         2.000000\n",
              "max       500.000000       2140.601160  ...        404.616667         6.000000\n",
              "\n",
              "[8 rows x 6 columns]"
            ]
          },
          "metadata": {},
          "execution_count": 6
        }
      ]
    },
    {
      "cell_type": "code",
      "metadata": {
        "colab": {
          "base_uri": "https://localhost:8080/",
          "height": 206
        },
        "id": "94e83daf",
        "outputId": "b9dbee34-cc8e-4fbf-eac1-54d903754ecc"
      },
      "source": [
        "df_test=pd.read_csv(\"/content/drive/MyDrive/test.csv\",nrows=1_000)\n",
        "df_test.head()"
      ],
      "id": "94e83daf",
      "execution_count": 7,
      "outputs": [
        {
          "output_type": "execute_result",
          "data": {
            "text/html": [
              "<div>\n",
              "<style scoped>\n",
              "    .dataframe tbody tr th:only-of-type {\n",
              "        vertical-align: middle;\n",
              "    }\n",
              "\n",
              "    .dataframe tbody tr th {\n",
              "        vertical-align: top;\n",
              "    }\n",
              "\n",
              "    .dataframe thead th {\n",
              "        text-align: right;\n",
              "    }\n",
              "</style>\n",
              "<table border=\"1\" class=\"dataframe\">\n",
              "  <thead>\n",
              "    <tr style=\"text-align: right;\">\n",
              "      <th></th>\n",
              "      <th>key</th>\n",
              "      <th>pickup_datetime</th>\n",
              "      <th>pickup_longitude</th>\n",
              "      <th>pickup_latitude</th>\n",
              "      <th>dropoff_longitude</th>\n",
              "      <th>dropoff_latitude</th>\n",
              "      <th>passenger_count</th>\n",
              "    </tr>\n",
              "  </thead>\n",
              "  <tbody>\n",
              "    <tr>\n",
              "      <th>0</th>\n",
              "      <td>2015-01-27 13:08:24.0000002</td>\n",
              "      <td>2015-01-27 13:08:24 UTC</td>\n",
              "      <td>-73.973320</td>\n",
              "      <td>40.763805</td>\n",
              "      <td>-73.981430</td>\n",
              "      <td>40.743835</td>\n",
              "      <td>1</td>\n",
              "    </tr>\n",
              "    <tr>\n",
              "      <th>1</th>\n",
              "      <td>2015-01-27 13:08:24.0000003</td>\n",
              "      <td>2015-01-27 13:08:24 UTC</td>\n",
              "      <td>-73.986862</td>\n",
              "      <td>40.719383</td>\n",
              "      <td>-73.998886</td>\n",
              "      <td>40.739201</td>\n",
              "      <td>1</td>\n",
              "    </tr>\n",
              "    <tr>\n",
              "      <th>2</th>\n",
              "      <td>2011-10-08 11:53:44.0000002</td>\n",
              "      <td>2011-10-08 11:53:44 UTC</td>\n",
              "      <td>-73.982524</td>\n",
              "      <td>40.751260</td>\n",
              "      <td>-73.979654</td>\n",
              "      <td>40.746139</td>\n",
              "      <td>1</td>\n",
              "    </tr>\n",
              "    <tr>\n",
              "      <th>3</th>\n",
              "      <td>2012-12-01 21:12:12.0000002</td>\n",
              "      <td>2012-12-01 21:12:12 UTC</td>\n",
              "      <td>-73.981160</td>\n",
              "      <td>40.767807</td>\n",
              "      <td>-73.990448</td>\n",
              "      <td>40.751635</td>\n",
              "      <td>1</td>\n",
              "    </tr>\n",
              "    <tr>\n",
              "      <th>4</th>\n",
              "      <td>2012-12-01 21:12:12.0000003</td>\n",
              "      <td>2012-12-01 21:12:12 UTC</td>\n",
              "      <td>-73.966046</td>\n",
              "      <td>40.789775</td>\n",
              "      <td>-73.988565</td>\n",
              "      <td>40.744427</td>\n",
              "      <td>1</td>\n",
              "    </tr>\n",
              "  </tbody>\n",
              "</table>\n",
              "</div>"
            ],
            "text/plain": [
              "                           key  ... passenger_count\n",
              "0  2015-01-27 13:08:24.0000002  ...               1\n",
              "1  2015-01-27 13:08:24.0000003  ...               1\n",
              "2  2011-10-08 11:53:44.0000002  ...               1\n",
              "3  2012-12-01 21:12:12.0000002  ...               1\n",
              "4  2012-12-01 21:12:12.0000003  ...               1\n",
              "\n",
              "[5 rows x 7 columns]"
            ]
          },
          "metadata": {},
          "execution_count": 7
        }
      ]
    },
    {
      "cell_type": "code",
      "metadata": {
        "colab": {
          "base_uri": "https://localhost:8080/"
        },
        "id": "bfec0db3",
        "outputId": "7a32561c-9811-4c19-cb38-df30d30da14f"
      },
      "source": [
        "df_test.dtypes"
      ],
      "id": "bfec0db3",
      "execution_count": 8,
      "outputs": [
        {
          "output_type": "execute_result",
          "data": {
            "text/plain": [
              "key                   object\n",
              "pickup_datetime       object\n",
              "pickup_longitude     float64\n",
              "pickup_latitude      float64\n",
              "dropoff_longitude    float64\n",
              "dropoff_latitude     float64\n",
              "passenger_count        int64\n",
              "dtype: object"
            ]
          },
          "metadata": {},
          "execution_count": 8
        }
      ]
    },
    {
      "cell_type": "code",
      "metadata": {
        "colab": {
          "base_uri": "https://localhost:8080/",
          "height": 363
        },
        "id": "f2b83f93",
        "scrolled": true,
        "outputId": "95bc21bc-2877-488a-e4f3-e78ec2010df9"
      },
      "source": [
        "sns.distplot(df_train['fare_amount'])\n",
        "plt.title('Distribution of Fare Amount')"
      ],
      "id": "f2b83f93",
      "execution_count": 9,
      "outputs": [
        {
          "output_type": "stream",
          "name": "stderr",
          "text": [
            "/usr/local/lib/python3.7/dist-packages/seaborn/distributions.py:2619: FutureWarning: `distplot` is a deprecated function and will be removed in a future version. Please adapt your code to use either `displot` (a figure-level function with similar flexibility) or `histplot` (an axes-level function for histograms).\n",
            "  warnings.warn(msg, FutureWarning)\n"
          ]
        },
        {
          "output_type": "execute_result",
          "data": {
            "text/plain": [
              "Text(0.5, 1.0, 'Distribution of Fare Amount')"
            ]
          },
          "metadata": {},
          "execution_count": 9
        },
        {
          "output_type": "display_data",
          "data": {
            "image/png": "[encoded data removed]",
            "text/plain": [
              "<Figure size 432x288 with 1 Axes>"
            ]
          },
          "metadata": {}
        }
      ]
    },
    {
      "cell_type": "markdown",
      "metadata": {
        "id": "b6ec1c33"
      },
      "source": [
        "## 1. Removing all the taxi trips which has negative fare amount.\n"
      ],
      "id": "b6ec1c33"
    },
    {
      "cell_type": "code",
      "metadata": {
        "colab": {
          "base_uri": "https://localhost:8080/"
        },
        "id": "44a58ba8",
        "outputId": "280d1e00-2417-45c3-a500-128972bf29c5"
      },
      "source": [
        "#Remove data which has the fare amount negative.\n",
        "print('Old size: %d' % len(df_train))\n",
        "df_train = df_train[df_train.fare_amount>=0]\n",
        "print('New size: %d' % len(df_train))"
      ],
      "id": "44a58ba8",
      "execution_count": 10,
      "outputs": [
        {
          "output_type": "stream",
          "name": "stdout",
          "text": [
            "Old size: 200000\n",
            "New size: 199987\n"
          ]
        }
      ]
    },
    {
      "cell_type": "markdown",
      "metadata": {
        "id": "3d8f6f84"
      },
      "source": [
        "## 2.Removing taxi trips that have missing data."
      ],
      "id": "3d8f6f84"
    },
    {
      "cell_type": "code",
      "metadata": {
        "colab": {
          "base_uri": "https://localhost:8080/"
        },
        "id": "23fe67f7",
        "outputId": "7138115b-5d80-4e37-9371-d11e9e5bee0c"
      },
      "source": [
        "#count of missing data with respect to attributes:\n",
        "print(df_train.isnull().sum())"
      ],
      "id": "23fe67f7",
      "execution_count": 11,
      "outputs": [
        {
          "output_type": "stream",
          "name": "stdout",
          "text": [
            "key                  0\n",
            "fare_amount          0\n",
            "pickup_datetime      0\n",
            "pickup_longitude     0\n",
            "pickup_latitude      0\n",
            "dropoff_longitude    1\n",
            "dropoff_latitude     1\n",
            "passenger_count      0\n",
            "dtype: int64\n"
          ]
        }
      ]
    },
    {
      "cell_type": "code",
      "metadata": {
        "colab": {
          "base_uri": "https://localhost:8080/"
        },
        "id": "90029647",
        "outputId": "5a442654-6930-447e-8b29-75427f8148cb"
      },
      "source": [
        "#Removing the records with missing data.\n",
        "print('Old size: %d' % len(df_train))\n",
        "df_train = df_train.dropna(how = 'any', axis = 'rows')\n",
        "print('New size: %d' % len(df_train))\n"
      ],
      "id": "90029647",
      "execution_count": 12,
      "outputs": [
        {
          "output_type": "stream",
          "name": "stdout",
          "text": [
            "Old size: 199987\n",
            "New size: 199986\n"
          ]
        }
      ]
    },
    {
      "cell_type": "markdown",
      "metadata": {
        "id": "903d2ef3"
      },
      "source": [
        "## 3. Removing taxi trips those have passenger count less than zero and greater than six."
      ],
      "id": "903d2ef3"
    },
    {
      "cell_type": "code",
      "metadata": {
        "colab": {
          "base_uri": "https://localhost:8080/"
        },
        "id": "95c75b99",
        "outputId": "113339d4-add4-4819-ea5c-4f32e489387b"
      },
      "source": [
        "print('Old size: %d' % len(df_train))\n",
        "df_train = df_train[df_train.passenger_count<=6]\n",
        "df_train = df_train[df_train.passenger_count>0]\n",
        "print('New size: %d' % len(df_train))"
      ],
      "id": "95c75b99",
      "execution_count": null,
      "outputs": [
        {
          "name": "stdout",
          "output_type": "stream",
          "text": [
            "Old size: 199986\n",
            "New size: 199273\n"
          ]
        }
      ]
    },
    {
      "cell_type": "code",
      "metadata": {
        "colab": {
          "base_uri": "https://localhost:8080/",
          "height": 346
        },
        "id": "b372f6d0",
        "outputId": "81f88cdd-2f74-4450-ea2f-130f73559334"
      },
      "source": [
        "passenger = df_train.groupby(['passenger_count']).count()\n",
        "sns.barplot(passenger.index, passenger['key'], palette = \"Set3\")\n",
        "plt.xlabel('Number of Passengers')\n",
        "plt.ylabel('Count')\n",
        "plt.title('Count of Passengers')\n",
        "plt.show()"
      ],
      "id": "b372f6d0",
      "execution_count": null,
      "outputs": [
        {
          "name": "stderr",
          "output_type": "stream",
          "text": [
            "/Users/ghannesh59/opt/anaconda3/lib/python3.8/site-packages/seaborn/_decorators.py:36: FutureWarning: Pass the following variables as keyword args: x, y. From version 0.12, the only valid positional argument will be `data`, and passing other arguments without an explicit keyword will result in an error or misinterpretation.\n",
            "  warnings.warn(\n"
          ]
        },
        {
          "data": {
            "image/png": "[encoded data removed]",
            "text/plain": [
              "<Figure size 432x288 with 1 Axes>"
            ]
          },
          "metadata": {},
          "output_type": "display_data"
        }
      ]
    },
    {
      "cell_type": "code",
      "metadata": {
        "colab": {
          "base_uri": "https://localhost:8080/",
          "height": 293
        },
        "id": "5c1c13aa",
        "outputId": "0a7137eb-b73b-4d0a-87a4-01211b0ae835"
      },
      "source": [
        "df_train.head()"
      ],
      "id": "5c1c13aa",
      "execution_count": null,
      "outputs": [
        {
          "data": {
            "text/html": [
              "<div>\n",
              "<style scoped>\n",
              "    .dataframe tbody tr th:only-of-type {\n",
              "        vertical-align: middle;\n",
              "    }\n",
              "\n",
              "    .dataframe tbody tr th {\n",
              "        vertical-align: top;\n",
              "    }\n",
              "\n",
              "    .dataframe thead th {\n",
              "        text-align: right;\n",
              "    }\n",
              "</style>\n",
              "<table border=\"1\" class=\"dataframe\">\n",
              "  <thead>\n",
              "    <tr style=\"text-align: right;\">\n",
              "      <th></th>\n",
              "      <th>key</th>\n",
              "      <th>fare_amount</th>\n",
              "      <th>pickup_datetime</th>\n",
              "      <th>pickup_longitude</th>\n",
              "      <th>pickup_latitude</th>\n",
              "      <th>dropoff_longitude</th>\n",
              "      <th>dropoff_latitude</th>\n",
              "      <th>passenger_count</th>\n",
              "    </tr>\n",
              "  </thead>\n",
              "  <tbody>\n",
              "    <tr>\n",
              "      <th>0</th>\n",
              "      <td>2009-06-15 17:26:21.0000001</td>\n",
              "      <td>4.5</td>\n",
              "      <td>2009-06-15 17:26:21 UTC</td>\n",
              "      <td>-73.844311</td>\n",
              "      <td>40.721319</td>\n",
              "      <td>-73.841610</td>\n",
              "      <td>40.712278</td>\n",
              "      <td>1</td>\n",
              "    </tr>\n",
              "    <tr>\n",
              "      <th>1</th>\n",
              "      <td>2010-01-05 16:52:16.0000002</td>\n",
              "      <td>16.9</td>\n",
              "      <td>2010-01-05 16:52:16 UTC</td>\n",
              "      <td>-74.016048</td>\n",
              "      <td>40.711303</td>\n",
              "      <td>-73.979268</td>\n",
              "      <td>40.782004</td>\n",
              "      <td>1</td>\n",
              "    </tr>\n",
              "    <tr>\n",
              "      <th>2</th>\n",
              "      <td>2011-08-18 00:35:00.00000049</td>\n",
              "      <td>5.7</td>\n",
              "      <td>2011-08-18 00:35:00 UTC</td>\n",
              "      <td>-73.982738</td>\n",
              "      <td>40.761270</td>\n",
              "      <td>-73.991242</td>\n",
              "      <td>40.750562</td>\n",
              "      <td>2</td>\n",
              "    </tr>\n",
              "    <tr>\n",
              "      <th>3</th>\n",
              "      <td>2012-04-21 04:30:42.0000001</td>\n",
              "      <td>7.7</td>\n",
              "      <td>2012-04-21 04:30:42 UTC</td>\n",
              "      <td>-73.987130</td>\n",
              "      <td>40.733143</td>\n",
              "      <td>-73.991567</td>\n",
              "      <td>40.758092</td>\n",
              "      <td>1</td>\n",
              "    </tr>\n",
              "    <tr>\n",
              "      <th>4</th>\n",
              "      <td>2010-03-09 07:51:00.000000135</td>\n",
              "      <td>5.3</td>\n",
              "      <td>2010-03-09 07:51:00 UTC</td>\n",
              "      <td>-73.968095</td>\n",
              "      <td>40.768008</td>\n",
              "      <td>-73.956655</td>\n",
              "      <td>40.783762</td>\n",
              "      <td>1</td>\n",
              "    </tr>\n",
              "  </tbody>\n",
              "</table>\n",
              "</div>"
            ],
            "text/plain": [
              "                             key  fare_amount          pickup_datetime  \\\n",
              "0    2009-06-15 17:26:21.0000001          4.5  2009-06-15 17:26:21 UTC   \n",
              "1    2010-01-05 16:52:16.0000002         16.9  2010-01-05 16:52:16 UTC   \n",
              "2   2011-08-18 00:35:00.00000049          5.7  2011-08-18 00:35:00 UTC   \n",
              "3    2012-04-21 04:30:42.0000001          7.7  2012-04-21 04:30:42 UTC   \n",
              "4  2010-03-09 07:51:00.000000135          5.3  2010-03-09 07:51:00 UTC   \n",
              "\n",
              "   pickup_longitude  pickup_latitude  dropoff_longitude  dropoff_latitude  \\\n",
              "0        -73.844311        40.721319         -73.841610         40.712278   \n",
              "1        -74.016048        40.711303         -73.979268         40.782004   \n",
              "2        -73.982738        40.761270         -73.991242         40.750562   \n",
              "3        -73.987130        40.733143         -73.991567         40.758092   \n",
              "4        -73.968095        40.768008         -73.956655         40.783762   \n",
              "\n",
              "   passenger_count  \n",
              "0                1  \n",
              "1                1  \n",
              "2                2  \n",
              "3                1  \n",
              "4                1  "
            ]
          },
          "execution_count": 81,
          "metadata": {},
          "output_type": "execute_result"
        }
      ]
    },
    {
      "cell_type": "code",
      "metadata": {
        "id": "41a43897"
      },
      "source": [
        "def groupandplot(data,groupby_key,value,aggregate='mean'):\n",
        "    #plt.figure(figsize=(16,10))\n",
        "    agg_data=data.groupby([groupby_key])[value].agg(aggregate).reset_index().rename(columns={value:aggregate+'_'+value})\n",
        "    #plt.subplot(1,2,1)\n",
        "    #count_data=train_df.groupby([groupby_key])['key'].count().reset_index().rename(columns={'key':'Num_Trips'})\n",
        "    #sns.barplot(x=groupby_key,y='Num_Trips',data=count_data).set_title(\"Number of Trips vs \"+groupby_key)\n",
        "    \n",
        "    #plt.subplot(1,2,2)\n",
        "    sns.barplot(x=groupby_key,y=aggregate+'_'+value,data=agg_data).set_title(aggregate+'_'+value+\" vs \"+groupby_key)"
      ],
      "id": "41a43897",
      "execution_count": null,
      "outputs": []
    },
    {
      "cell_type": "code",
      "metadata": {
        "colab": {
          "base_uri": "https://localhost:8080/",
          "height": 291
        },
        "id": "2356cb17",
        "outputId": "97362a6f-5494-423b-8ce5-7c89955ca49b"
      },
      "source": [
        "groupandplot(df_train,'passenger_count','fare_amount')"
      ],
      "id": "2356cb17",
      "execution_count": null,
      "outputs": [
        {
          "data": {
            "image/png": "[encoded data removed]",
            "text/plain": [
              "<Figure size 432x288 with 1 Axes>"
            ]
          },
          "metadata": {},
          "output_type": "display_data"
        }
      ]
    },
    {
      "cell_type": "markdown",
      "metadata": {
        "id": "e3025a90"
      },
      "source": [
        "## 4. Removing taxi trips having zero feature value which is not useful."
      ],
      "id": "e3025a90"
    },
    {
      "cell_type": "code",
      "metadata": {
        "colab": {
          "base_uri": "https://localhost:8080/"
        },
        "id": "615874d1",
        "outputId": "2b626075-ad98-4147-8527-d25f4ab7337f"
      },
      "source": [
        "print('Old size: %d' % len(df_train))\n",
        "df_train = df_train.loc[~(df_train == 0).any(axis=1)]\n",
        "print('New size: %d' % len(df_train))"
      ],
      "id": "615874d1",
      "execution_count": 13,
      "outputs": [
        {
          "output_type": "stream",
          "name": "stdout",
          "text": [
            "Old size: 199986\n",
            "New size: 195334\n"
          ]
        }
      ]
    },
    {
      "cell_type": "markdown",
      "metadata": {
        "id": "7c0e8153"
      },
      "source": [
        "## Converting the pickup_datetime attribute of type Object to different primitive types using lambda functions."
      ],
      "id": "7c0e8153"
    },
    {
      "cell_type": "code",
      "metadata": {
        "id": "15a299f7"
      },
      "source": [
        "df_train['pickup_datetime']=pd.to_datetime(df_train['pickup_datetime'],format='%Y-%m-%d %H:%M:%S UTC')\n",
        "\n",
        "df_train['pickup_date']= df_train['pickup_datetime'].dt.date\n",
        "df_train['pickup_day']=df_train['pickup_datetime'].apply(lambda x:x.day)\n",
        "df_train['pickup_hour']=df_train['pickup_datetime'].apply(lambda x:x.hour)\n",
        "df_train['pickup_day_of_week']=df_train['pickup_datetime'].apply(lambda x:calendar.day_name[x.weekday()])\n",
        "df_train['pickup_month']=df_train['pickup_datetime'].apply(lambda x:x.month)\n",
        "df_train['pickup_year']=df_train['pickup_datetime'].apply(lambda x:x.year)"
      ],
      "id": "15a299f7",
      "execution_count": 14,
      "outputs": []
    },
    {
      "cell_type": "markdown",
      "metadata": {
        "id": "0fZSappH96Cv"
      },
      "source": [
        ""
      ],
      "id": "0fZSappH96Cv"
    },
    {
      "cell_type": "markdown",
      "metadata": {
        "id": "1041e7bd"
      },
      "source": [
        "## Statistical Visualizations using Matplotlib"
      ],
      "id": "1041e7bd"
    },
    {
      "cell_type": "code",
      "metadata": {
        "colab": {
          "base_uri": "https://localhost:8080/",
          "height": 0
        },
        "id": "8e61bb99",
        "outputId": "2be5bffe-94d1-4d25-cde7-ddb289b69ed6"
      },
      "source": [
        "day_count = df_train.groupby(['pickup_day_of_week']).count().sort_values(by ='key', ascending = False)\n",
        "sns.barplot(day_count.index, day_count['key'], palette = \"Set3\")\n",
        "plt.xlabel('Day of Week')\n",
        "plt.ylabel('Count')\n",
        "plt.title('Count of Taxi Rides per Day of Week')"
      ],
      "id": "8e61bb99",
      "execution_count": 15,
      "outputs": [
        {
          "output_type": "stream",
          "name": "stderr",
          "text": [
            "/usr/local/lib/python3.7/dist-packages/seaborn/_decorators.py:43: FutureWarning: Pass the following variables as keyword args: x, y. From version 0.12, the only valid positional argument will be `data`, and passing other arguments without an explicit keyword will result in an error or misinterpretation.\n",
            "  FutureWarning\n"
          ]
        },
        {
          "output_type": "execute_result",
          "data": {
            "text/plain": [
              "Text(0.5, 1.0, 'Count of Taxi Rides per Day of Week')"
            ]
          },
          "metadata": {},
          "execution_count": 15
        },
        {
          "output_type": "display_data",
          "data": {
            "image/png": "[encoded data removed]",
            "text/plain": [
              "<Figure size 432x288 with 1 Axes>"
            ]
          },
          "metadata": {}
        }
      ]
    },
    {
      "cell_type": "code",
      "metadata": {
        "colab": {
          "base_uri": "https://localhost:8080/",
          "height": 0
        },
        "id": "2f2edc5a",
        "outputId": "473d4f37-a581-4984-8014-6d2790d04618"
      },
      "source": [
        "day_count = df_train.groupby(['pickup_day']).count().sort_values(by = 'key', ascending = False)\n",
        "sns.barplot(day_count.index, day_count['key'], palette = \"Set3\")\n",
        "plt.xlabel('Day of month')\n",
        "plt.ylabel('Count')\n",
        "plt.title('Count of Taxi Rides per Day of Month')"
      ],
      "id": "2f2edc5a",
      "execution_count": 16,
      "outputs": [
        {
          "output_type": "stream",
          "name": "stderr",
          "text": [
            "/usr/local/lib/python3.7/dist-packages/seaborn/_decorators.py:43: FutureWarning: Pass the following variables as keyword args: x, y. From version 0.12, the only valid positional argument will be `data`, and passing other arguments without an explicit keyword will result in an error or misinterpretation.\n",
            "  FutureWarning\n"
          ]
        },
        {
          "output_type": "execute_result",
          "data": {
            "text/plain": [
              "Text(0.5, 1.0, 'Count of Taxi Rides per Day of Month')"
            ]
          },
          "metadata": {},
          "execution_count": 16
        },
        {
          "output_type": "display_data",
          "data": {
            "image/png": "[encoded data removed]",
            "text/plain": [
              "<Figure size 432x288 with 1 Axes>"
            ]
          },
          "metadata": {}
        }
      ]
    },
    {
      "cell_type": "code",
      "metadata": {
        "colab": {
          "base_uri": "https://localhost:8080/",
          "height": 0
        },
        "id": "6ae07a7f",
        "outputId": "e3950294-c7f0-4352-8c3e-6084e3fc0a77"
      },
      "source": [
        "day_fare = df_train.groupby(['pickup_day_of_week']).mean().sort_values(by = 'fare_amount', ascending = False)\n",
        "\n",
        "sns.barplot(day_fare.index, day_fare.fare_amount, palette = \"Set3\")\n",
        "\n",
        "plt.xlabel('Day of Week')\n",
        "plt.ylabel('Average Fare Amount')\n",
        "plt.title('Average Fare Amount per Day of Week')"
      ],
      "id": "6ae07a7f",
      "execution_count": 17,
      "outputs": [
        {
          "output_type": "stream",
          "name": "stderr",
          "text": [
            "/usr/local/lib/python3.7/dist-packages/seaborn/_decorators.py:43: FutureWarning: Pass the following variables as keyword args: x, y. From version 0.12, the only valid positional argument will be `data`, and passing other arguments without an explicit keyword will result in an error or misinterpretation.\n",
            "  FutureWarning\n"
          ]
        },
        {
          "output_type": "execute_result",
          "data": {
            "text/plain": [
              "Text(0.5, 1.0, 'Average Fare Amount per Day of Week')"
            ]
          },
          "metadata": {},
          "execution_count": 17
        },
        {
          "output_type": "display_data",
          "data": {
            "image/png": "[encoded data removed]",
            "text/plain": [
              "<Figure size 432x288 with 1 Axes>"
            ]
          },
          "metadata": {}
        }
      ]
    },
    {
      "cell_type": "code",
      "metadata": {
        "colab": {
          "base_uri": "https://localhost:8080/",
          "height": 0
        },
        "id": "b23595b1",
        "outputId": "61e9ea41-5896-4433-9d29-cfd0c2d8a6ca"
      },
      "source": [
        "day_sum = df_train.groupby(['pickup_day_of_week']).sum().sort_values(by = 'fare_amount', ascending = False)\n",
        "\n",
        "sns.barplot(day_sum.index, day_sum.fare_amount, palette = \"Set3\")\n",
        "\n",
        "plt.xlabel('Day of Week')\n",
        "plt.ylabel('Count')\n",
        "plt.title('Count of Total Rides Given During Each Day')\n",
        "\n"
      ],
      "id": "b23595b1",
      "execution_count": 18,
      "outputs": [
        {
          "output_type": "stream",
          "name": "stderr",
          "text": [
            "/usr/local/lib/python3.7/dist-packages/seaborn/_decorators.py:43: FutureWarning: Pass the following variables as keyword args: x, y. From version 0.12, the only valid positional argument will be `data`, and passing other arguments without an explicit keyword will result in an error or misinterpretation.\n",
            "  FutureWarning\n"
          ]
        },
        {
          "output_type": "execute_result",
          "data": {
            "text/plain": [
              "Text(0.5, 1.0, 'Count of Total Rides Given During Each Day')"
            ]
          },
          "metadata": {},
          "execution_count": 18
        },
        {
          "output_type": "display_data",
          "data": {
            "image/png": "[encoded data removed]",
            "text/plain": [
              "<Figure size 432x288 with 1 Axes>"
            ]
          },
          "metadata": {}
        }
      ]
    },
    {
      "cell_type": "code",
      "metadata": {
        "colab": {
          "base_uri": "https://localhost:8080/",
          "height": 0
        },
        "id": "367b111e",
        "outputId": "903ad7e3-0444-401e-d99a-590c1009d182"
      },
      "source": [
        "time_of_day = df_train.groupby(['pickup_hour']).mean()\n",
        "plt.plot(time_of_day.index, time_of_day.fare_amount, color = 'r')\n",
        "plt.xlabel('Hour')\n",
        "plt.ylabel('Fare Price')\n",
        "plt.title('Average Fare Price During Time of Day')\n",
        "plt.show()"
      ],
      "id": "367b111e",
      "execution_count": 19,
      "outputs": [
        {
          "output_type": "display_data",
          "data": {
            "image/png": "[encoded data removed]",
            "text/plain": [
              "<Figure size 432x288 with 1 Axes>"
            ]
          },
          "metadata": {}
        }
      ]
    },
    {
      "cell_type": "code",
      "metadata": {
        "colab": {
          "base_uri": "https://localhost:8080/",
          "height": 0
        },
        "id": "4ffaf135",
        "outputId": "63c9f7d6-1640-4e49-c4fa-e0e56159bbb8"
      },
      "source": [
        "passenger_fare = df_train.groupby(['passenger_count']).mean()\n",
        "sns.barplot(passenger_fare.index, passenger_fare['fare_amount'], palette = \"Set3\")\n",
        "plt.xlabel('Number of Passengers')\n",
        "plt.ylabel('Average Fare Price')\n",
        "plt.title('Average Fare Price for Number of Passengers')\n",
        "plt.show()"
      ],
      "id": "4ffaf135",
      "execution_count": 20,
      "outputs": [
        {
          "output_type": "stream",
          "name": "stderr",
          "text": [
            "/usr/local/lib/python3.7/dist-packages/seaborn/_decorators.py:43: FutureWarning: Pass the following variables as keyword args: x, y. From version 0.12, the only valid positional argument will be `data`, and passing other arguments without an explicit keyword will result in an error or misinterpretation.\n",
            "  FutureWarning\n"
          ]
        },
        {
          "output_type": "display_data",
          "data": {
            "image/png": "[encoded data removed]",
            "text/plain": [
              "<Figure size 432x288 with 1 Axes>"
            ]
          },
          "metadata": {}
        }
      ]
    },
    {
      "cell_type": "code",
      "metadata": {
        "id": "c347ef8b"
      },
      "source": [
        "#let us convert day of the week to int datatyp\n",
        "def encodeDays(day_of_week):\n",
        "    day_dict={'Sunday':0,'Monday':1,'Tuesday':2,'Wednesday':3,'Thursday':4,'Friday':5,'Saturday':6}\n",
        "    return day_dict[day_of_week]"
      ],
      "id": "c347ef8b",
      "execution_count": 21,
      "outputs": []
    },
    {
      "cell_type": "code",
      "metadata": {
        "id": "97546464"
      },
      "source": [
        "df_train['pickup_day_of_week']=df_train['pickup_day_of_week'].apply(lambda x:encodeDays(x))"
      ],
      "id": "97546464",
      "execution_count": 22,
      "outputs": []
    },
    {
      "cell_type": "code",
      "metadata": {
        "colab": {
          "base_uri": "https://localhost:8080/"
        },
        "id": "e0d20cac",
        "outputId": "c8769329-85fd-427c-c4b6-7e711a9da2ea"
      },
      "source": [
        "df_train.dtypes"
      ],
      "id": "e0d20cac",
      "execution_count": 23,
      "outputs": [
        {
          "output_type": "execute_result",
          "data": {
            "text/plain": [
              "key                           object\n",
              "fare_amount                  float64\n",
              "pickup_datetime       datetime64[ns]\n",
              "pickup_longitude             float64\n",
              "pickup_latitude              float64\n",
              "dropoff_longitude            float64\n",
              "dropoff_latitude             float64\n",
              "passenger_count                int64\n",
              "pickup_date                   object\n",
              "pickup_day                     int64\n",
              "pickup_hour                    int64\n",
              "pickup_day_of_week             int64\n",
              "pickup_month                   int64\n",
              "pickup_year                    int64\n",
              "dtype: object"
            ]
          },
          "metadata": {},
          "execution_count": 23
        }
      ]
    },
    {
      "cell_type": "code",
      "metadata": {
        "colab": {
          "base_uri": "https://localhost:8080/",
          "height": 0
        },
        "id": "fb3ff2e1",
        "outputId": "0893ff12-b137-4cd0-8a7f-cf41ee187d7d"
      },
      "source": [
        "#dropping the unnecessary data\n",
        "df_train = df_train.drop(['key','pickup_datetime','pickup_date'], axis=1)\n",
        "df_train.head()"
      ],
      "id": "fb3ff2e1",
      "execution_count": 24,
      "outputs": [
        {
          "output_type": "execute_result",
          "data": {
            "text/html": [
              "<div>\n",
              "<style scoped>\n",
              "    .dataframe tbody tr th:only-of-type {\n",
              "        vertical-align: middle;\n",
              "    }\n",
              "\n",
              "    .dataframe tbody tr th {\n",
              "        vertical-align: top;\n",
              "    }\n",
              "\n",
              "    .dataframe thead th {\n",
              "        text-align: right;\n",
              "    }\n",
              "</style>\n",
              "<table border=\"1\" class=\"dataframe\">\n",
              "  <thead>\n",
              "    <tr style=\"text-align: right;\">\n",
              "      <th></th>\n",
              "      <th>fare_amount</th>\n",
              "      <th>pickup_longitude</th>\n",
              "      <th>pickup_latitude</th>\n",
              "      <th>dropoff_longitude</th>\n",
              "      <th>dropoff_latitude</th>\n",
              "      <th>passenger_count</th>\n",
              "      <th>pickup_day</th>\n",
              "      <th>pickup_hour</th>\n",
              "      <th>pickup_day_of_week</th>\n",
              "      <th>pickup_month</th>\n",
              "      <th>pickup_year</th>\n",
              "    </tr>\n",
              "  </thead>\n",
              "  <tbody>\n",
              "    <tr>\n",
              "      <th>0</th>\n",
              "      <td>4.5</td>\n",
              "      <td>-73.844311</td>\n",
              "      <td>40.721319</td>\n",
              "      <td>-73.841610</td>\n",
              "      <td>40.712278</td>\n",
              "      <td>1</td>\n",
              "      <td>15</td>\n",
              "      <td>17</td>\n",
              "      <td>1</td>\n",
              "      <td>6</td>\n",
              "      <td>2009</td>\n",
              "    </tr>\n",
              "    <tr>\n",
              "      <th>1</th>\n",
              "      <td>16.9</td>\n",
              "      <td>-74.016048</td>\n",
              "      <td>40.711303</td>\n",
              "      <td>-73.979268</td>\n",
              "      <td>40.782004</td>\n",
              "      <td>1</td>\n",
              "      <td>5</td>\n",
              "      <td>16</td>\n",
              "      <td>2</td>\n",
              "      <td>1</td>\n",
              "      <td>2010</td>\n",
              "    </tr>\n",
              "    <tr>\n",
              "      <th>2</th>\n",
              "      <td>5.7</td>\n",
              "      <td>-73.982738</td>\n",
              "      <td>40.761270</td>\n",
              "      <td>-73.991242</td>\n",
              "      <td>40.750562</td>\n",
              "      <td>2</td>\n",
              "      <td>18</td>\n",
              "      <td>0</td>\n",
              "      <td>4</td>\n",
              "      <td>8</td>\n",
              "      <td>2011</td>\n",
              "    </tr>\n",
              "    <tr>\n",
              "      <th>3</th>\n",
              "      <td>7.7</td>\n",
              "      <td>-73.987130</td>\n",
              "      <td>40.733143</td>\n",
              "      <td>-73.991567</td>\n",
              "      <td>40.758092</td>\n",
              "      <td>1</td>\n",
              "      <td>21</td>\n",
              "      <td>4</td>\n",
              "      <td>6</td>\n",
              "      <td>4</td>\n",
              "      <td>2012</td>\n",
              "    </tr>\n",
              "    <tr>\n",
              "      <th>4</th>\n",
              "      <td>5.3</td>\n",
              "      <td>-73.968095</td>\n",
              "      <td>40.768008</td>\n",
              "      <td>-73.956655</td>\n",
              "      <td>40.783762</td>\n",
              "      <td>1</td>\n",
              "      <td>9</td>\n",
              "      <td>7</td>\n",
              "      <td>2</td>\n",
              "      <td>3</td>\n",
              "      <td>2010</td>\n",
              "    </tr>\n",
              "  </tbody>\n",
              "</table>\n",
              "</div>"
            ],
            "text/plain": [
              "   fare_amount  pickup_longitude  ...  pickup_month  pickup_year\n",
              "0          4.5        -73.844311  ...             6         2009\n",
              "1         16.9        -74.016048  ...             1         2010\n",
              "2          5.7        -73.982738  ...             8         2011\n",
              "3          7.7        -73.987130  ...             4         2012\n",
              "4          5.3        -73.968095  ...             3         2010\n",
              "\n",
              "[5 rows x 11 columns]"
            ]
          },
          "metadata": {},
          "execution_count": 24
        }
      ]
    },
    {
      "cell_type": "markdown",
      "metadata": {
        "id": "0ea72542"
      },
      "source": [
        "## This is how the dataset looks after initial analysis and feature engineering on the pickup_date_time"
      ],
      "id": "0ea72542"
    },
    {
      "cell_type": "code",
      "metadata": {
        "colab": {
          "base_uri": "https://localhost:8080/",
          "height": 226
        },
        "id": "de5b2312",
        "outputId": "1f90260e-525c-46f6-91c1-f49356db56ea"
      },
      "source": [
        "df_train.head()"
      ],
      "id": "de5b2312",
      "execution_count": 25,
      "outputs": [
        {
          "output_type": "execute_result",
          "data": {
            "text/html": [
              "<div>\n",
              "<style scoped>\n",
              "    .dataframe tbody tr th:only-of-type {\n",
              "        vertical-align: middle;\n",
              "    }\n",
              "\n",
              "    .dataframe tbody tr th {\n",
              "        vertical-align: top;\n",
              "    }\n",
              "\n",
              "    .dataframe thead th {\n",
              "        text-align: right;\n",
              "    }\n",
              "</style>\n",
              "<table border=\"1\" class=\"dataframe\">\n",
              "  <thead>\n",
              "    <tr style=\"text-align: right;\">\n",
              "      <th></th>\n",
              "      <th>fare_amount</th>\n",
              "      <th>pickup_longitude</th>\n",
              "      <th>pickup_latitude</th>\n",
              "      <th>dropoff_longitude</th>\n",
              "      <th>dropoff_latitude</th>\n",
              "      <th>passenger_count</th>\n",
              "      <th>pickup_day</th>\n",
              "      <th>pickup_hour</th>\n",
              "      <th>pickup_day_of_week</th>\n",
              "      <th>pickup_month</th>\n",
              "      <th>pickup_year</th>\n",
              "    </tr>\n",
              "  </thead>\n",
              "  <tbody>\n",
              "    <tr>\n",
              "      <th>0</th>\n",
              "      <td>4.5</td>\n",
              "      <td>-73.844311</td>\n",
              "      <td>40.721319</td>\n",
              "      <td>-73.841610</td>\n",
              "      <td>40.712278</td>\n",
              "      <td>1</td>\n",
              "      <td>15</td>\n",
              "      <td>17</td>\n",
              "      <td>1</td>\n",
              "      <td>6</td>\n",
              "      <td>2009</td>\n",
              "    </tr>\n",
              "    <tr>\n",
              "      <th>1</th>\n",
              "      <td>16.9</td>\n",
              "      <td>-74.016048</td>\n",
              "      <td>40.711303</td>\n",
              "      <td>-73.979268</td>\n",
              "      <td>40.782004</td>\n",
              "      <td>1</td>\n",
              "      <td>5</td>\n",
              "      <td>16</td>\n",
              "      <td>2</td>\n",
              "      <td>1</td>\n",
              "      <td>2010</td>\n",
              "    </tr>\n",
              "    <tr>\n",
              "      <th>2</th>\n",
              "      <td>5.7</td>\n",
              "      <td>-73.982738</td>\n",
              "      <td>40.761270</td>\n",
              "      <td>-73.991242</td>\n",
              "      <td>40.750562</td>\n",
              "      <td>2</td>\n",
              "      <td>18</td>\n",
              "      <td>0</td>\n",
              "      <td>4</td>\n",
              "      <td>8</td>\n",
              "      <td>2011</td>\n",
              "    </tr>\n",
              "    <tr>\n",
              "      <th>3</th>\n",
              "      <td>7.7</td>\n",
              "      <td>-73.987130</td>\n",
              "      <td>40.733143</td>\n",
              "      <td>-73.991567</td>\n",
              "      <td>40.758092</td>\n",
              "      <td>1</td>\n",
              "      <td>21</td>\n",
              "      <td>4</td>\n",
              "      <td>6</td>\n",
              "      <td>4</td>\n",
              "      <td>2012</td>\n",
              "    </tr>\n",
              "    <tr>\n",
              "      <th>4</th>\n",
              "      <td>5.3</td>\n",
              "      <td>-73.968095</td>\n",
              "      <td>40.768008</td>\n",
              "      <td>-73.956655</td>\n",
              "      <td>40.783762</td>\n",
              "      <td>1</td>\n",
              "      <td>9</td>\n",
              "      <td>7</td>\n",
              "      <td>2</td>\n",
              "      <td>3</td>\n",
              "      <td>2010</td>\n",
              "    </tr>\n",
              "  </tbody>\n",
              "</table>\n",
              "</div>"
            ],
            "text/plain": [
              "   fare_amount  pickup_longitude  ...  pickup_month  pickup_year\n",
              "0          4.5        -73.844311  ...             6         2009\n",
              "1         16.9        -74.016048  ...             1         2010\n",
              "2          5.7        -73.982738  ...             8         2011\n",
              "3          7.7        -73.987130  ...             4         2012\n",
              "4          5.3        -73.968095  ...             3         2010\n",
              "\n",
              "[5 rows x 11 columns]"
            ]
          },
          "metadata": {},
          "execution_count": 25
        }
      ]
    },
    {
      "cell_type": "markdown",
      "metadata": {
        "id": "6898f19d"
      },
      "source": [
        "## Calculate distance between coordinates with the hypothesis being fare increases with increase in distance"
      ],
      "id": "6898f19d"
    },
    {
      "cell_type": "code",
      "metadata": {
        "id": "164b249d"
      },
      "source": [
        "def distance(lat1, lat2, lon1,lon2):\n",
        "    p = 0.017453292519943295 # Pi/180\n",
        "    a = 0.5 - np.cos((lat2 - lat1) * p)/2 + np.cos(lat1 * p) * np.cos(lat2 * p) * (1 - np.cos((lon2 - lon1) * p)) / 2\n",
        "    return 0.6213712 * 12742 * np.arcsin(np.sqrt(a))"
      ],
      "id": "164b249d",
      "execution_count": 26,
      "outputs": []
    },
    {
      "cell_type": "code",
      "metadata": {
        "id": "3c0a61e7"
      },
      "source": [
        "df_train['trip_distance']=df_train.apply(lambda row:distance(row['pickup_latitude'],row['dropoff_latitude']\n",
        "                                                             ,row['pickup_longitude'],row['dropoff_longitude']),axis=1)"
      ],
      "id": "3c0a61e7",
      "execution_count": 27,
      "outputs": []
    },
    {
      "cell_type": "code",
      "metadata": {
        "colab": {
          "base_uri": "https://localhost:8080/",
          "height": 329
        },
        "id": "d491a894",
        "outputId": "e53105b3-d324-4e5f-e5df-58b9d5b90d62"
      },
      "source": [
        "sns.kdeplot(np.log(df_train['trip_distance'].values)).set_title(\"Distribution of Trip Distance (log scale)\")"
      ],
      "id": "d491a894",
      "execution_count": 28,
      "outputs": [
        {
          "output_type": "stream",
          "name": "stderr",
          "text": [
            "/usr/local/lib/python3.7/dist-packages/ipykernel_launcher.py:1: RuntimeWarning: divide by zero encountered in log\n",
            "  \"\"\"Entry point for launching an IPython kernel.\n"
          ]
        },
        {
          "output_type": "execute_result",
          "data": {
            "text/plain": [
              "Text(0.5, 1.0, 'Distribution of Trip Distance (log scale)')"
            ]
          },
          "metadata": {},
          "execution_count": 28
        },
        {
          "output_type": "display_data",
          "data": {
            "image/png": "[encoded data removed]",
            "text/plain": [
              "<Figure size 432x288 with 1 Axes>"
            ]
          },
          "metadata": {}
        }
      ]
    },
    {
      "cell_type": "code",
      "metadata": {
        "colab": {
          "base_uri": "https://localhost:8080/",
          "height": 293
        },
        "id": "875d998d",
        "outputId": "c06f3e98-c9c8-4111-e5c0-4ce732f8c642"
      },
      "source": [
        "plt.scatter(x=df_train['trip_distance'],y=df_train['fare_amount'])\n",
        "plt.xlabel(\"Trip Distance\")\n",
        "plt.ylabel(\"Fare Amount\")"
      ],
      "id": "875d998d",
      "execution_count": 29,
      "outputs": [
        {
          "output_type": "execute_result",
          "data": {
            "text/plain": [
              "Text(0, 0.5, 'Fare Amount')"
            ]
          },
          "metadata": {},
          "execution_count": 29
        },
        {
          "output_type": "display_data",
          "data": {
            "image/png": "[encoded data removed]",
            "text/plain": [
              "<Figure size 432x288 with 1 Axes>"
            ]
          },
          "metadata": {}
        }
      ]
    },
    {
      "cell_type": "code",
      "metadata": {
        "colab": {
          "base_uri": "https://localhost:8080/",
          "height": 226
        },
        "id": "292c4fc7",
        "outputId": "c7e4b321-346c-4d20-ac46-677010e5e720"
      },
      "source": [
        "df_train.head()"
      ],
      "id": "292c4fc7",
      "execution_count": 30,
      "outputs": [
        {
          "output_type": "execute_result",
          "data": {
            "text/html": [
              "<div>\n",
              "<style scoped>\n",
              "    .dataframe tbody tr th:only-of-type {\n",
              "        vertical-align: middle;\n",
              "    }\n",
              "\n",
              "    .dataframe tbody tr th {\n",
              "        vertical-align: top;\n",
              "    }\n",
              "\n",
              "    .dataframe thead th {\n",
              "        text-align: right;\n",
              "    }\n",
              "</style>\n",
              "<table border=\"1\" class=\"dataframe\">\n",
              "  <thead>\n",
              "    <tr style=\"text-align: right;\">\n",
              "      <th></th>\n",
              "      <th>fare_amount</th>\n",
              "      <th>pickup_longitude</th>\n",
              "      <th>pickup_latitude</th>\n",
              "      <th>dropoff_longitude</th>\n",
              "      <th>dropoff_latitude</th>\n",
              "      <th>passenger_count</th>\n",
              "      <th>pickup_day</th>\n",
              "      <th>pickup_hour</th>\n",
              "      <th>pickup_day_of_week</th>\n",
              "      <th>pickup_month</th>\n",
              "      <th>pickup_year</th>\n",
              "      <th>trip_distance</th>\n",
              "    </tr>\n",
              "  </thead>\n",
              "  <tbody>\n",
              "    <tr>\n",
              "      <th>0</th>\n",
              "      <td>4.5</td>\n",
              "      <td>-73.844311</td>\n",
              "      <td>40.721319</td>\n",
              "      <td>-73.841610</td>\n",
              "      <td>40.712278</td>\n",
              "      <td>1</td>\n",
              "      <td>15</td>\n",
              "      <td>17</td>\n",
              "      <td>1</td>\n",
              "      <td>6</td>\n",
              "      <td>2009</td>\n",
              "      <td>0.640487</td>\n",
              "    </tr>\n",
              "    <tr>\n",
              "      <th>1</th>\n",
              "      <td>16.9</td>\n",
              "      <td>-74.016048</td>\n",
              "      <td>40.711303</td>\n",
              "      <td>-73.979268</td>\n",
              "      <td>40.782004</td>\n",
              "      <td>1</td>\n",
              "      <td>5</td>\n",
              "      <td>16</td>\n",
              "      <td>2</td>\n",
              "      <td>1</td>\n",
              "      <td>2010</td>\n",
              "      <td>5.250670</td>\n",
              "    </tr>\n",
              "    <tr>\n",
              "      <th>2</th>\n",
              "      <td>5.7</td>\n",
              "      <td>-73.982738</td>\n",
              "      <td>40.761270</td>\n",
              "      <td>-73.991242</td>\n",
              "      <td>40.750562</td>\n",
              "      <td>2</td>\n",
              "      <td>18</td>\n",
              "      <td>0</td>\n",
              "      <td>4</td>\n",
              "      <td>8</td>\n",
              "      <td>2011</td>\n",
              "      <td>0.863411</td>\n",
              "    </tr>\n",
              "    <tr>\n",
              "      <th>3</th>\n",
              "      <td>7.7</td>\n",
              "      <td>-73.987130</td>\n",
              "      <td>40.733143</td>\n",
              "      <td>-73.991567</td>\n",
              "      <td>40.758092</td>\n",
              "      <td>1</td>\n",
              "      <td>21</td>\n",
              "      <td>4</td>\n",
              "      <td>6</td>\n",
              "      <td>4</td>\n",
              "      <td>2012</td>\n",
              "      <td>1.739386</td>\n",
              "    </tr>\n",
              "    <tr>\n",
              "      <th>4</th>\n",
              "      <td>5.3</td>\n",
              "      <td>-73.968095</td>\n",
              "      <td>40.768008</td>\n",
              "      <td>-73.956655</td>\n",
              "      <td>40.783762</td>\n",
              "      <td>1</td>\n",
              "      <td>9</td>\n",
              "      <td>7</td>\n",
              "      <td>2</td>\n",
              "      <td>3</td>\n",
              "      <td>2010</td>\n",
              "      <td>1.242218</td>\n",
              "    </tr>\n",
              "  </tbody>\n",
              "</table>\n",
              "</div>"
            ],
            "text/plain": [
              "   fare_amount  pickup_longitude  ...  pickup_year  trip_distance\n",
              "0          4.5        -73.844311  ...         2009       0.640487\n",
              "1         16.9        -74.016048  ...         2010       5.250670\n",
              "2          5.7        -73.982738  ...         2011       0.863411\n",
              "3          7.7        -73.987130  ...         2012       1.739386\n",
              "4          5.3        -73.968095  ...         2010       1.242218\n",
              "\n",
              "[5 rows x 12 columns]"
            ]
          },
          "metadata": {},
          "execution_count": 30
        }
      ]
    },
    {
      "cell_type": "code",
      "metadata": {
        "id": "e5b21eb8"
      },
      "source": [
        "long_trips=df_train[df_train['trip_distance']>=50]"
      ],
      "id": "e5b21eb8",
      "execution_count": 31,
      "outputs": []
    },
    {
      "cell_type": "markdown",
      "metadata": {
        "id": "ad773c5b"
      },
      "source": [
        "## Fetching NYC coordinates and dividing the city into burroughs which provides us with new features being pickup and dropoff burroughs"
      ],
      "id": "ad773c5b"
    },
    {
      "cell_type": "code",
      "metadata": {
        "id": "2371d41e"
      },
      "source": [
        "nyc_boroughs={\n",
        "    'manhattan':{\n",
        "        'min_lng':-74.0479,\n",
        "        'min_lat':40.6829,\n",
        "        'max_lng':-73.9067,\n",
        "        'max_lat':40.8820\n",
        "    },\n",
        "    \n",
        "    'queens':{\n",
        "        'min_lng':-73.9630,\n",
        "        'min_lat':40.5431,\n",
        "        'max_lng':-73.7004,\n",
        "        'max_lat':40.8007\n",
        "\n",
        "    },\n",
        "\n",
        "    'brooklyn':{\n",
        "        'min_lng':-74.0421,\n",
        "        'min_lat':40.5707,\n",
        "        'max_lng':-73.8334,\n",
        "        'max_lat':40.7395\n",
        "\n",
        "    },\n",
        "\n",
        "    'bronx':{\n",
        "        'min_lng':-73.9339,\n",
        "        'min_lat':40.7855,\n",
        "        'max_lng':-73.7654,\n",
        "        'max_lat':40.9176\n",
        "\n",
        "    },\n",
        "\n",
        "    'staten_island':{\n",
        "        'min_lng':-74.2558,\n",
        "        'min_lat':40.4960,\n",
        "        'max_lng':-74.0522,\n",
        "        'max_lat':40.6490\n",
        "        \n",
        "    }  \n",
        "}"
      ],
      "id": "2371d41e",
      "execution_count": 32,
      "outputs": []
    },
    {
      "cell_type": "code",
      "metadata": {
        "id": "e72f27e8"
      },
      "source": [
        "def getBorough(lat,lng):\n",
        "    \n",
        "    locs=nyc_boroughs.keys()\n",
        "    for loc in locs:\n",
        "        if lat>=nyc_boroughs[loc]['min_lat'] and lat<=nyc_boroughs[loc]['max_lat'] and lng>=nyc_boroughs[loc]['min_lng'] and lng<=nyc_boroughs[loc]['max_lng']:\n",
        "            return loc\n",
        "    return 'others'"
      ],
      "id": "e72f27e8",
      "execution_count": 33,
      "outputs": []
    },
    {
      "cell_type": "code",
      "metadata": {
        "id": "7572ccba"
      },
      "source": [
        "df_train['pickup_borough']=df_train.apply(lambda row:getBorough(row['pickup_latitude'],row['pickup_longitude']),axis=1)\n",
        "df_train['dropoff_borough']=df_train.apply(lambda row:getBorough(row['dropoff_latitude'],row['dropoff_longitude']),axis=1)"
      ],
      "id": "7572ccba",
      "execution_count": 34,
      "outputs": []
    },
    {
      "cell_type": "markdown",
      "metadata": {
        "id": "cb86cbb5"
      },
      "source": [
        "## Statistical analysis of burroughs by count and also the average fare amount and distance across each burrough"
      ],
      "id": "cb86cbb5"
    },
    {
      "cell_type": "code",
      "metadata": {
        "colab": {
          "base_uri": "https://localhost:8080/",
          "height": 363
        },
        "id": "35f9bca6",
        "outputId": "9d961fd1-01a8-44cd-e1b5-e63ad87664b6"
      },
      "source": [
        "plt.figure(figsize=(8,5))\n",
        "sns.countplot(y=df_train['pickup_borough'])\n",
        "plt.title(\"Distribution of Pickup Boroughs\")"
      ],
      "id": "35f9bca6",
      "execution_count": 35,
      "outputs": [
        {
          "output_type": "execute_result",
          "data": {
            "text/plain": [
              "Text(0.5, 1.0, 'Distribution of Pickup Boroughs')"
            ]
          },
          "metadata": {},
          "execution_count": 35
        },
        {
          "output_type": "display_data",
          "data": {
            "image/png": "[encoded data removed]",
            "text/plain": [
              "<Figure size 576x360 with 1 Axes>"
            ]
          },
          "metadata": {}
        }
      ]
    },
    {
      "cell_type": "code",
      "metadata": {
        "colab": {
          "base_uri": "https://localhost:8080/",
          "height": 603
        },
        "id": "7a3a4099",
        "outputId": "53f33953-d1fa-483e-a0ce-49326d36b9e9"
      },
      "source": [
        "plt.figure(figsize=(16,10))\n",
        "plt.title(\"Distribution of Fare Amount Across Buroughs\")\n",
        "i=1\n",
        "for key in nyc_boroughs.keys():\n",
        "    plt.subplot(3,2,i)\n",
        "    sns.kdeplot(np.log(df_train.loc[df_train['pickup_borough']==key,'fare_amount'].values),label='Pickup '+ key)\n",
        "    sns.kdeplot(np.log(df_train.loc[df_train['dropoff_borough']==key,'fare_amount'].values),label='Dropoff'+ key).set_title(\"Fare Amount (log scale) for \"+key)\n",
        "    i=i+1"
      ],
      "id": "7a3a4099",
      "execution_count": 36,
      "outputs": [
        {
          "output_type": "display_data",
          "data": {
            "image/png": "[encoded data removed]",
            "text/plain": [
              "<Figure size 1152x720 with 5 Axes>"
            ]
          },
          "metadata": {}
        }
      ]
    },
    {
      "cell_type": "code",
      "metadata": {
        "colab": {
          "base_uri": "https://localhost:8080/",
          "height": 1000
        },
        "id": "f0f99392",
        "outputId": "98bdb70d-a804-4ff9-8633-762a69a3ce77"
      },
      "source": [
        "plt.figure(figsize=(24,15))\n",
        "plt.title(\"Distribution of Trip Distances Across Buroughs\")\n",
        "i=1\n",
        "for key in nyc_boroughs.keys():\n",
        "    plt.subplot(3,2,i)\n",
        "    sns.kdeplot(np.log(df_train.loc[df_train['pickup_borough']==key,'trip_distance'].values),label='Pickup '+ key)\n",
        "    sns.kdeplot(np.log(df_train.loc[df_train['dropoff_borough']==key,'trip_distance'].values),label='Dropoff'+ key).set_title\n",
        "    (\"Trip Distance (log) for \"+key)\n",
        "    i=i+1"
      ],
      "id": "f0f99392",
      "execution_count": 37,
      "outputs": [
        {
          "output_type": "stream",
          "name": "stderr",
          "text": [
            "/usr/local/lib/python3.7/dist-packages/ipykernel_launcher.py:6: RuntimeWarning: divide by zero encountered in log\n",
            "  \n",
            "/usr/local/lib/python3.7/dist-packages/ipykernel_launcher.py:7: RuntimeWarning: divide by zero encountered in log\n",
            "  import sys\n",
            "/usr/local/lib/python3.7/dist-packages/ipykernel_launcher.py:6: RuntimeWarning: divide by zero encountered in log\n",
            "  \n",
            "/usr/local/lib/python3.7/dist-packages/ipykernel_launcher.py:7: RuntimeWarning: divide by zero encountered in log\n",
            "  import sys\n",
            "/usr/local/lib/python3.7/dist-packages/ipykernel_launcher.py:6: RuntimeWarning: divide by zero encountered in log\n",
            "  \n",
            "/usr/local/lib/python3.7/dist-packages/ipykernel_launcher.py:7: RuntimeWarning: divide by zero encountered in log\n",
            "  import sys\n",
            "/usr/local/lib/python3.7/dist-packages/ipykernel_launcher.py:6: RuntimeWarning: divide by zero encountered in log\n",
            "  \n",
            "/usr/local/lib/python3.7/dist-packages/ipykernel_launcher.py:7: RuntimeWarning: divide by zero encountered in log\n",
            "  import sys\n",
            "/usr/local/lib/python3.7/dist-packages/ipykernel_launcher.py:6: RuntimeWarning: divide by zero encountered in log\n",
            "  \n",
            "/usr/local/lib/python3.7/dist-packages/ipykernel_launcher.py:7: RuntimeWarning: divide by zero encountered in log\n",
            "  import sys\n"
          ]
        },
        {
          "output_type": "display_data",
          "data": {
            "image/png": "[encoded data removed]",
            "text/plain": [
              "<Figure size 1728x1080 with 5 Axes>"
            ]
          },
          "metadata": {}
        }
      ]
    },
    {
      "cell_type": "code",
      "metadata": {
        "id": "dbd5a81f"
      },
      "source": [
        "lower_manhattan_boundary={'min_lng': -74.0194,\n",
        "                          'min_lat':40.6997,\n",
        "                          'max_lng':-73.9716,\n",
        "                          'max_lat':40.7427}\n",
        "\n",
        "def isLowerManhattan(lat,lng):\n",
        "    if lat>=lower_manhattan_boundary['min_lat'] and lat<=lower_manhattan_boundary['max_lat'] and lng>=lower_manhattan_boundary['min_lng'] and lng<=lower_manhattan_boundary['max_lng']:\n",
        "        return 1\n",
        "    else:\n",
        "        return 0"
      ],
      "id": "dbd5a81f",
      "execution_count": 38,
      "outputs": []
    },
    {
      "cell_type": "code",
      "metadata": {
        "id": "08a0706a"
      },
      "source": [
        "df_train['is_pickup_lower_manhattan']=df_train.apply(lambda row:isLowerManhattan(row['pickup_latitude'],row['pickup_longitude']),axis=1)\n",
        "df_train['is_dropoff_lower_manhattan']=df_train.apply(lambda row:isLowerManhattan(row['dropoff_latitude'],row['dropoff_longitude']),axis=1)"
      ],
      "id": "08a0706a",
      "execution_count": 39,
      "outputs": []
    },
    {
      "cell_type": "code",
      "metadata": {
        "colab": {
          "base_uri": "https://localhost:8080/",
          "height": 226
        },
        "id": "b4202422",
        "outputId": "dccfc305-2d92-419f-f4ec-d63f82565cc6"
      },
      "source": [
        "df_train.head()"
      ],
      "id": "b4202422",
      "execution_count": 40,
      "outputs": [
        {
          "output_type": "execute_result",
          "data": {
            "text/html": [
              "<div>\n",
              "<style scoped>\n",
              "    .dataframe tbody tr th:only-of-type {\n",
              "        vertical-align: middle;\n",
              "    }\n",
              "\n",
              "    .dataframe tbody tr th {\n",
              "        vertical-align: top;\n",
              "    }\n",
              "\n",
              "    .dataframe thead th {\n",
              "        text-align: right;\n",
              "    }\n",
              "</style>\n",
              "<table border=\"1\" class=\"dataframe\">\n",
              "  <thead>\n",
              "    <tr style=\"text-align: right;\">\n",
              "      <th></th>\n",
              "      <th>fare_amount</th>\n",
              "      <th>pickup_longitude</th>\n",
              "      <th>pickup_latitude</th>\n",
              "      <th>dropoff_longitude</th>\n",
              "      <th>dropoff_latitude</th>\n",
              "      <th>passenger_count</th>\n",
              "      <th>pickup_day</th>\n",
              "      <th>pickup_hour</th>\n",
              "      <th>pickup_day_of_week</th>\n",
              "      <th>pickup_month</th>\n",
              "      <th>pickup_year</th>\n",
              "      <th>trip_distance</th>\n",
              "      <th>pickup_borough</th>\n",
              "      <th>dropoff_borough</th>\n",
              "      <th>is_pickup_lower_manhattan</th>\n",
              "      <th>is_dropoff_lower_manhattan</th>\n",
              "    </tr>\n",
              "  </thead>\n",
              "  <tbody>\n",
              "    <tr>\n",
              "      <th>0</th>\n",
              "      <td>4.5</td>\n",
              "      <td>-73.844311</td>\n",
              "      <td>40.721319</td>\n",
              "      <td>-73.841610</td>\n",
              "      <td>40.712278</td>\n",
              "      <td>1</td>\n",
              "      <td>15</td>\n",
              "      <td>17</td>\n",
              "      <td>1</td>\n",
              "      <td>6</td>\n",
              "      <td>2009</td>\n",
              "      <td>0.640487</td>\n",
              "      <td>queens</td>\n",
              "      <td>queens</td>\n",
              "      <td>0</td>\n",
              "      <td>0</td>\n",
              "    </tr>\n",
              "    <tr>\n",
              "      <th>1</th>\n",
              "      <td>16.9</td>\n",
              "      <td>-74.016048</td>\n",
              "      <td>40.711303</td>\n",
              "      <td>-73.979268</td>\n",
              "      <td>40.782004</td>\n",
              "      <td>1</td>\n",
              "      <td>5</td>\n",
              "      <td>16</td>\n",
              "      <td>2</td>\n",
              "      <td>1</td>\n",
              "      <td>2010</td>\n",
              "      <td>5.250670</td>\n",
              "      <td>manhattan</td>\n",
              "      <td>manhattan</td>\n",
              "      <td>1</td>\n",
              "      <td>0</td>\n",
              "    </tr>\n",
              "    <tr>\n",
              "      <th>2</th>\n",
              "      <td>5.7</td>\n",
              "      <td>-73.982738</td>\n",
              "      <td>40.761270</td>\n",
              "      <td>-73.991242</td>\n",
              "      <td>40.750562</td>\n",
              "      <td>2</td>\n",
              "      <td>18</td>\n",
              "      <td>0</td>\n",
              "      <td>4</td>\n",
              "      <td>8</td>\n",
              "      <td>2011</td>\n",
              "      <td>0.863411</td>\n",
              "      <td>manhattan</td>\n",
              "      <td>manhattan</td>\n",
              "      <td>0</td>\n",
              "      <td>0</td>\n",
              "    </tr>\n",
              "    <tr>\n",
              "      <th>3</th>\n",
              "      <td>7.7</td>\n",
              "      <td>-73.987130</td>\n",
              "      <td>40.733143</td>\n",
              "      <td>-73.991567</td>\n",
              "      <td>40.758092</td>\n",
              "      <td>1</td>\n",
              "      <td>21</td>\n",
              "      <td>4</td>\n",
              "      <td>6</td>\n",
              "      <td>4</td>\n",
              "      <td>2012</td>\n",
              "      <td>1.739386</td>\n",
              "      <td>manhattan</td>\n",
              "      <td>manhattan</td>\n",
              "      <td>1</td>\n",
              "      <td>0</td>\n",
              "    </tr>\n",
              "    <tr>\n",
              "      <th>4</th>\n",
              "      <td>5.3</td>\n",
              "      <td>-73.968095</td>\n",
              "      <td>40.768008</td>\n",
              "      <td>-73.956655</td>\n",
              "      <td>40.783762</td>\n",
              "      <td>1</td>\n",
              "      <td>9</td>\n",
              "      <td>7</td>\n",
              "      <td>2</td>\n",
              "      <td>3</td>\n",
              "      <td>2010</td>\n",
              "      <td>1.242218</td>\n",
              "      <td>manhattan</td>\n",
              "      <td>manhattan</td>\n",
              "      <td>0</td>\n",
              "      <td>0</td>\n",
              "    </tr>\n",
              "  </tbody>\n",
              "</table>\n",
              "</div>"
            ],
            "text/plain": [
              "   fare_amount  ...  is_dropoff_lower_manhattan\n",
              "0          4.5  ...                           0\n",
              "1         16.9  ...                           0\n",
              "2          5.7  ...                           0\n",
              "3          7.7  ...                           0\n",
              "4          5.3  ...                           0\n",
              "\n",
              "[5 rows x 16 columns]"
            ]
          },
          "metadata": {},
          "execution_count": 40
        }
      ]
    },
    {
      "cell_type": "markdown",
      "metadata": {
        "id": "213cc65e"
      },
      "source": [
        "## Dividing trips by pickup and dropoff to airports as it was found that some coordinates having constant fare amount were the 3 airports in and around NYC"
      ],
      "id": "213cc65e"
    },
    {
      "cell_type": "code",
      "metadata": {
        "id": "82c83759"
      },
      "source": [
        "nyc_airports={'JFK':{'min_lng':-73.8352,\n",
        "     'min_lat':40.6195,\n",
        "     'max_lng':-73.7401, \n",
        "     'max_lat':40.6659},\n",
        "              \n",
        "    'EWR':{'min_lng':-74.1925,\n",
        "            'min_lat':40.6700, \n",
        "            'max_lng':-74.1531, \n",
        "            'max_lat':40.7081\n",
        "\n",
        "        },\n",
        "    'LaGuardia':{'min_lng':-73.8895, \n",
        "                  'min_lat':40.7664, \n",
        "                  'max_lng':-73.8550, \n",
        "                  'max_lat':40.7931\n",
        "        \n",
        "    }\n",
        "    \n",
        "}\n",
        "def isAirport(latitude,longitude,airport_name='JFK'):\n",
        "    \n",
        "    if latitude>=nyc_airports[airport_name]['min_lat'] and latitude<=nyc_airports[airport_name]['max_lat'] and longitude>=nyc_airports[airport_name]['min_lng'] and longitude<=nyc_airports[airport_name]['max_lng']:\n",
        "        return 1\n",
        "    else:\n",
        "        return 0\n",
        "        \n",
        "df_train['is_pickup_JFK']=df_train.apply(lambda row:isAirport(row['pickup_latitude'],row['pickup_longitude'],'JFK'),axis=1)\n",
        "df_train['is_dropoff_JFK']=df_train.apply(lambda row:isAirport(row['dropoff_latitude'],row['dropoff_longitude'],'JFK'),axis=1)"
      ],
      "id": "82c83759",
      "execution_count": 41,
      "outputs": []
    },
    {
      "cell_type": "code",
      "metadata": {
        "id": "d79e2b80"
      },
      "source": [
        "df_train['is_pickup_EWR']=df_train.apply(lambda row:isAirport(row['pickup_latitude'],row['pickup_longitude'],'EWR'),axis=1)\n",
        "df_train['is_dropoff_EWR']=df_train.apply(lambda row:isAirport(row['dropoff_latitude'],row['dropoff_longitude'],'EWR'),axis=1)"
      ],
      "id": "d79e2b80",
      "execution_count": 42,
      "outputs": []
    },
    {
      "cell_type": "code",
      "metadata": {
        "id": "b95c0229"
      },
      "source": [
        "df_train['is_pickup_la_guardia']=df_train.apply(lambda row:isAirport(row['pickup_latitude'],row['pickup_longitude'],'LaGuardia'),axis=1)\n",
        "df_train['is_dropoff_la_guardia']=df_train.apply(lambda row:isAirport(row['dropoff_latitude'],row['dropoff_longitude'],'LaGuardia'),axis=1)"
      ],
      "id": "b95c0229",
      "execution_count": 43,
      "outputs": []
    },
    {
      "cell_type": "code",
      "metadata": {
        "id": "23d78287"
      },
      "source": [
        "mean=np.mean(df_train['pickup_hour'].value_counts())\n",
        "dev=np.std(df_train['pickup_hour'].value_counts())\n",
        "taxi_count=df_train['pickup_hour'].value_counts()\n",
        "m1=mean-dev\n",
        "m2=mean+dev"
      ],
      "id": "23d78287",
      "execution_count": 44,
      "outputs": []
    },
    {
      "cell_type": "code",
      "metadata": {
        "colab": {
          "base_uri": "https://localhost:8080/"
        },
        "id": "b14bdcfe",
        "outputId": "6762454b-d072-4f44-fec7-88a3277bc446"
      },
      "source": [
        "from sklearn.preprocessing import LabelEncoder\n",
        "\n",
        "number = LabelEncoder()\n",
        "df_train[\"pickup_borough\"] = number.fit_transform(df_train[\"pickup_borough\"].astype('str'))\n",
        "df_train[\"dropoff_borough\"] = number.fit_transform(df_train[\"dropoff_borough\"].astype('str'))\n",
        "print (df_train.corr('pearson')[\"fare_amount\"])"
      ],
      "id": "b14bdcfe",
      "execution_count": 45,
      "outputs": [
        {
          "output_type": "stream",
          "name": "stdout",
          "text": [
            "fare_amount                   1.000000\n",
            "pickup_longitude              0.004688\n",
            "pickup_latitude              -0.004640\n",
            "dropoff_longitude             0.006379\n",
            "dropoff_latitude             -0.003678\n",
            "passenger_count               0.013600\n",
            "pickup_day                   -0.000554\n",
            "pickup_hour                  -0.018136\n",
            "pickup_day_of_week           -0.011963\n",
            "pickup_month                  0.022897\n",
            "pickup_year                   0.115301\n",
            "trip_distance                 0.043485\n",
            "pickup_borough                0.455330\n",
            "dropoff_borough               0.334012\n",
            "is_pickup_lower_manhattan    -0.042811\n",
            "is_dropoff_lower_manhattan   -0.083331\n",
            "is_pickup_JFK                 0.408714\n",
            "is_dropoff_JFK                0.324005\n",
            "is_pickup_EWR                 0.053971\n",
            "is_dropoff_EWR                0.222243\n",
            "is_pickup_la_guardia          0.279979\n",
            "is_dropoff_la_guardia         0.226536\n",
            "Name: fare_amount, dtype: float64\n"
          ]
        }
      ]
    },
    {
      "cell_type": "code",
      "metadata": {
        "id": "0i4wQ9xAD4gQ"
      },
      "source": [
        "pickup_JFK = df_train.apply(lambda column : True\n",
        "            if column['is_pickup_JFK'] == 1 else False, axis = 1)\n",
        "num_rows = len(df_train[pickup_JFK == True].index)\n",
        "pickup_EWR = df_train.apply(lambda column : True\n",
        "            if column['is_pickup_EWR'] == 1 else False, axis = 1)\n",
        "num_rows1 = len(df_train[pickup_EWR== True].index)\n",
        "pickup_la_guardia=df_train.apply(lambda column : True\n",
        "            if column['is_pickup_la_guardia'] == 1 else False, axis = 1)\n",
        "num_rows2 = len(df_train[pickup_la_guardia == True].index)\n",
        "pickup_borogh=df_train.apply(lambda column : True\n",
        "            if column['pickup_borough'] == 1 else False, axis = 1)\n",
        "num_rows3=len(df_train[pickup_borogh == True].index)\n",
        "\n"
      ],
      "id": "0i4wQ9xAD4gQ",
      "execution_count": 46,
      "outputs": []
    },
    {
      "cell_type": "code",
      "metadata": {
        "colab": {
          "base_uri": "https://localhost:8080/",
          "height": 131
        },
        "id": "iyN8KH_IItr1",
        "outputId": "560bba97-31c0-4518-ed4d-8d8144c6be76"
      },
      "source": [
        "\n",
        "values=[num_rows,num_rows1,num_rows2,num_rows3]\n",
        "labels=['pickup_JFK','pickup_EWR','pickup_la_guardia','pickup_borogh']\n",
        "import squarify\n",
        "sns.set_style(style=\"whitegrid\") # set seaborn plot style\n",
        "sizes= values# proportions of the categories\n",
        "label=labels\n",
        "squarify.plot(sizes=values, label=labels, alpha=0.9).set(title='Taxi pickups distribution acc to location')\n",
        "plt.axis('off')\n",
        "plt.show()"
      ],
      "id": "iyN8KH_IItr1",
      "execution_count": null,
      "outputs": [
        {
          "data": {
            "image/png": "[encoded data removed]",
            "text/plain": [
              "<Figure size 432x288 with 1 Axes>"
            ]
          },
          "metadata": {},
          "output_type": "display_data"
        }
      ]
    },
    {
      "cell_type": "code",
      "metadata": {
        "id": "7c407ff4"
      },
      "source": [
        "#Removing variables which are having low correlation coeficients\n",
        "df_train=df_train.drop(['pickup_longitude' , 'pickup_latitude' , 'dropoff_longitude' , 'dropoff_latitude' ,'pickup_day'],axis=1)\n",
        "df_train=df_train.drop(['passenger_count'],axis=1)\n",
        "X=df_train.drop(['fare_amount'],axis=1)\n",
        "y=df_train['fare_amount']\n",
        "X=X.iloc[0:999, :]\n",
        "y=y.iloc[0:999]\n",
        "\n",
        "\n",
        "\n"
      ],
      "id": "7c407ff4",
      "execution_count": 47,
      "outputs": []
    },
    {
      "cell_type": "markdown",
      "metadata": {
        "id": "ced84e90"
      },
      "source": [
        "## Final dataset after completing feature engineering"
      ],
      "id": "ced84e90"
    },
    {
      "cell_type": "code",
      "metadata": {
        "colab": {
          "base_uri": "https://localhost:8080/"
        },
        "id": "2ef4459f",
        "scrolled": true,
        "outputId": "326a5237-afe0-4ecc-c590-3d8c4d35115f"
      },
      "source": [
        "X_train, X_test, y_train, y_test = train_test_split(X,y, test_size=0.2)\n",
        "print(X_train.shape)\n",
        "X_train.dtypes\n",
        "X_train.shape\n",
        "X_train=np.array(X_train)\n",
        "y_train=np.array(y_train)\n",
        "X_test=np.array(X_test)\n",
        "y_test=np.array(y_test)\n",
        "y_train=np.resize(y_train,(y_train.shape[0],1))\n",
        "y_test=np.resize(y_test,(y_test.shape[0],1))\n",
        "print(X_train.shape)\n"
      ],
      "id": "2ef4459f",
      "execution_count": 48,
      "outputs": [
        {
          "output_type": "stream",
          "name": "stdout",
          "text": [
            "(799, 15)\n",
            "(799, 15)\n"
          ]
        }
      ]
    },
    {
      "cell_type": "code",
      "metadata": {
        "colab": {
          "base_uri": "https://localhost:8080/",
          "height": 166
        },
        "id": "6e4cf067",
        "outputId": "b3981985-7b28-4cbc-8526-aa903e99f2c7"
      },
      "source": [
        "X_train.dtypes"
      ],
      "id": "6e4cf067",
      "execution_count": null,
      "outputs": [
        {
          "ename": "AttributeError",
          "evalue": "ignored",
          "output_type": "error",
          "traceback": [
            "\u001b[0;31m---------------------------------------------------------------------------\u001b[0m",
            "\u001b[0;31mAttributeError\u001b[0m                            Traceback (most recent call last)",
            "\u001b[0;32m<ipython-input-121-cc83edadec36>\u001b[0m in \u001b[0;36m<module>\u001b[0;34m()\u001b[0m\n\u001b[0;32m----> 1\u001b[0;31m \u001b[0mX_train\u001b[0m\u001b[0;34m.\u001b[0m\u001b[0mdtypes\u001b[0m\u001b[0;34m\u001b[0m\u001b[0;34m\u001b[0m\u001b[0m\n\u001b[0m",
            "\u001b[0;31mAttributeError\u001b[0m: 'numpy.ndarray' object has no attribute 'dtypes'"
          ]
        }
      ]
    },
    {
      "cell_type": "code",
      "metadata": {
        "id": "3166d38c"
      },
      "source": [
        "class Node1():\n",
        "  #Defining Node class and initializing parameters\n",
        "  def __init__(self, feature_index=None, limit=None, left_tree=None, right_tree=None, var_red=None, value=None):\n",
        "    self.feature_index=feature_index\n",
        "    self.limit=limit\n",
        "    self.left_tree=left_tree\n",
        "    self.right_tree=right_tree\n",
        "    self.var_red=var_red\n",
        "    self.value=value\n"
      ],
      "id": "3166d38c",
      "execution_count": null,
      "outputs": []
    },
    {
      "cell_type": "code",
      "metadata": {
        "id": "3WF3wqitvO38"
      },
      "source": [
        "class DecisionTreeRegressor1():\n",
        " def __init__(self, min_samples_split=2, max_depth=3):\n",
        "  \n",
        "  self.root=None\n",
        "  self.min_samples_split=min_samples_split\n",
        "  self.max_depth=max_depth\n",
        " #defining build tree function\n",
        " def build_tree(self,data,curr_depth=0):\n",
        "  X,Y=data[:,:-1],data[:,-1]\n",
        "  total_samples=X.shape[0]\n",
        "  total_features=X.shape[1]\n",
        "  best_split_condition={}\n",
        "  #To continue if stopping criteria is not met.\n",
        "  if total_samples>=self.min_samples_split and curr_depth<=self.max_depth:\n",
        "   #geting best split by calling best split function.\n",
        "   best_split_condition=self.get_best_split_condition(data,total_samples,total_features)\n",
        "   #if best split var_reduction is less than zero we can make that node has leaf node,Since to happen split varaince should decrease.\n",
        "   if best_split_condition.get('var_red')>0:\n",
        "    #Recursive calling to build tree function to create multiple trees until stopping criteria is met.\n",
        "    left_subtree=self.build_tree(best_split_condition['data_left'],curr_depth+1)\n",
        "    right_subtree=self.build_tree(best_split_condition['data_right'],curr_depth+1)\n",
        "    #Creating node with best split and best split feature\n",
        "    return Node1(best_split_condition['feature_index'],best_split_condition['limit'],left_subtree,right_subtree,best_split_condition['var_red'])\n",
        "  #Calling get leaf value for predicting value Since only leaf node will have value\n",
        "  leaf_value=self.get_leaf_value(Y)\n",
        "  return Node1(value=leaf_value)\n",
        " def get_best_split_condition(self,data,total_samples,total_features):\n",
        "  #intializing best split as zero and max_var_red to - infinity\n",
        "  best_split_condition={'feature_index':0,'limit':0,'data_left':0,'data_right':0,'var_red':0}\n",
        "  max_var_red=-float('inf')\n",
        "  #Iterating on feature_index and feature_values\n",
        "  for feature_index in range(total_features):\n",
        "   feature_values=data[:,feature_index]\n",
        "   unique_limits=np.unique(feature_values)\n",
        "   for limit in unique_limits:\n",
        "    #calling split function for splitting into left and right sub tree\n",
        "    data_left,data_right=self.split(data,feature_index,limit)\n",
        "    #finding for which feature_value getting maximum variance reduction from parent to child subtree\n",
        "    if len(data_left)>0 and len(data_right)>0:\n",
        "     y,left_y,right_y=data[:,-1],data_left[:,-1],data_right[:,-1]\n",
        "     #calling variance_reduction function \n",
        "     curr_var_red=self.variance_reduction(y,left_y,right_y)\n",
        "     \n",
        "     if curr_var_red>max_var_red:\n",
        "       #updating the values from best_split_condition dictionary\n",
        "      best_split_condition['feature_index']=feature_index\n",
        "      best_split_condition['limit']=limit\n",
        "      best_split_condition['data_left']=data_left\n",
        "      best_split_condition['data_right']=data_right\n",
        "      best_split_condition['var_red']=curr_var_red\n",
        "      #for updating the maximum variance reduction\n",
        "      max_var_red=curr_var_red\n",
        "  return best_split_condition\n",
        " def split(self,data,feature_index,limit):\n",
        "   #If value is less than limit value then split into left tree and greater then split it on right_tree\n",
        "  data_left=np.array([row for row in data if row[feature_index]<=limit])\n",
        "  data_right=np.array([row for row in data if row[feature_index]>limit])\n",
        "  return data_left,data_right\n",
        " def variance_reduction(self,parent,l_child,r_child):\n",
        "  weight_l=len(l_child)/len(parent)\n",
        "  weight_r=len(r_child)/len(parent)\n",
        "  #computing variance reduction according to the formula\n",
        "  reduction=np.var(parent-(weight_l*np.var(l_child)+weight_r*np.var(r_child)))\n",
        "  return reduction\n",
        " def get_leaf_value(self,Y):\n",
        "  #leaf value is nothing but mean of all the y come under that leaf node\n",
        "  val=np.mean(Y)\n",
        "  return val\n",
        " def fit(self,X,Y):\n",
        "  data=np.concatenate((X,Y),axis=1)\n",
        "  #giving build tree return node to root which will be useful for accessing node values\n",
        "  self.root=self.build_tree(data)\n",
        " def make_prediction(self, x, tree):\n",
        "  #since we are having node class reference variable in tree we can access node class variables\n",
        "  #if node value is None we know that it is a leaf node\n",
        "  if tree.value!=None:\n",
        "     return tree.value\n",
        "  feature_val = x[tree.feature_index]\n",
        "  if feature_val<=tree.limit:\n",
        "    #recursing thtough makeprediction function until we get leaf node \n",
        "   return self.make_prediction(x, tree.left_tree)\n",
        "  else:\n",
        "   return self.make_prediction(x, tree.right_tree)\n",
        "  \n",
        " def predict(self, X):\n",
        "        \n",
        "  #Noting the values prediciting from all X passing node reference  \n",
        "  #In fit method we have intiliaized root with node reference so we can access node class values   \n",
        "  predictions = [self.make_prediction(x, self.root) for x in X]\n",
        "  return predictions\n",
        "  \n",
        "    \n",
        "\n"
      ],
      "id": "3WF3wqitvO38",
      "execution_count": null,
      "outputs": []
    },
    {
      "cell_type": "code",
      "metadata": {
        "id": "d5thVEz-4BxC"
      },
      "source": [
        "#Fitting scratch decision tree regression on small train _data\n",
        "regressor1=DecisionTreeRegressor1(min_samples_split=2, max_depth=3)\n",
        "regressor1.fit(X_train,y_train) \n",
        "\n",
        "\n"
      ],
      "id": "d5thVEz-4BxC",
      "execution_count": null,
      "outputs": []
    },
    {
      "cell_type": "code",
      "metadata": {
        "colab": {
          "base_uri": "https://localhost:8080/"
        },
        "id": "UimaxWdi8zo3",
        "outputId": "858628ed-534f-442b-d506-a9dd3225f294"
      },
      "source": [
        "#predicting scratch decision tree on small test data\n",
        "Y_pred_tree_scratch=regressor1.predict(X_test)\n",
        "\n",
        "y_test1=np.ravel(y_test)\n",
        "\n",
        "from sklearn.metrics import mean_squared_error\n",
        "print(np.sqrt(mean_squared_error(y_test1, Y_pred_tree_scratch)))\n",
        "from sklearn.metrics import r2_score\n",
        "print(r2_score(y_test1, Y_pred_tree_scratch))\n",
        "#np.sqrt(mean_squared_error(y_test1,regressor.predict(X_test)))"
      ],
      "id": "UimaxWdi8zo3",
      "execution_count": null,
      "outputs": [
        {
          "name": "stdout",
          "output_type": "stream",
          "text": [
            "7.895774683305629\n",
            "0.2458072866981612\n"
          ]
        }
      ]
    },
    {
      "cell_type": "markdown",
      "metadata": {
        "id": "ipjamf8nUkid"
      },
      "source": [
        "ADABOOST REGRESSION IMPLEMENTATION"
      ],
      "id": "ipjamf8nUkid"
    },
    {
      "cell_type": "code",
      "metadata": {
        "id": "KG036nP3RTKd"
      },
      "source": [
        "class ADA_BOOST_REGREESSOR():\n",
        " def __init__(self,X_train,y_train,base_estimator,learning_rate,n_estimators):\n",
        "   self.X_train=X_train\n",
        "   self.y_train=y_train\n",
        "   self.learning_rate=learning_rate\n",
        "   self.n_estimators=n_estimators\n",
        "   self.base_estimator=base_estimator\n",
        " def boost(self,X_test,y_test,sample_weight):\n",
        "   sample_weight=np.ravel(sample_weight)\n",
        "   #Since we have to select training samples i with probability of smaple weight we are using random choice function\n",
        "   bootstrap_idx = np.random.choice(np.arange(self.X_train.shape[0]),size=self.X_train.shape[0],replace=True,p=sample_weight)\n",
        "   #selecting samples from training samples\n",
        "   X_ = self.X_train[bootstrap_idx]\n",
        "   y_ = self.y_train[bootstrap_idx]\n",
        "   #fitting weak learner with selected sample\n",
        "   self.base_estimator.fit(X_, y_)\n",
        "   \n",
        "   Y_predict=np.resize(self.base_estimator.predict(self.X_train),(self.X_train.shape[0],1))\n",
        "   #predicting for test data with this base estimator which had trained on X_,y_\n",
        "   Y_out=self.base_estimator.predict(X_test)\n",
        "\n",
        "   error_vector=np.abs(Y_predict-self.y_train)\n",
        "   \n",
        "   error_vector_max=error_vector.max()\n",
        "  \n",
        "   error_vector=error_vector/error_vector_max\n",
        "  \n",
        "   sample_weight=np.resize(sample_weight,(self.X_train.shape[0],1))\n",
        "   \n",
        "   estimator_error=(sample_weight*error_vector).sum()\n",
        "   #calculating beta which will be useful for updating sample weights\n",
        "   beta=estimator_error/(1-estimator_error)\n",
        "   #calculating estimator weight which will be useful while taking weighted _median over results\n",
        "   estimator_weight=self.learning_rate*np.log(1/beta)\n",
        "   #updating sample weigts\n",
        "   sample_weight=np.power(beta,(1-error_vector)*self.learning_rate)\n",
        "   #dividing by whole sum to make 0 t0 1 because sample weights will be probabilities for next estimator\n",
        "   sample_weight=sample_weight/np.sum(sample_weight)\n",
        "  \n",
        "   return sample_weight,estimator_weight,estimator_error,Y_out\n",
        " def predict1(self,X_test,y_test):\n",
        "  \n",
        "  #intializing predictions,estimator_weight with empty array\n",
        "  predictions=np.empty((1,X_test.shape[0]))\n",
        "  estimator_weight=np.array([])\n",
        "  #we have to intialize initially with 1/N values \n",
        "  sample_weights1=np.ones((1,self.X_train.shape[0]))/self.X_train.shape[0]\n",
        "  sample_weight=sample_weights1\n",
        "  \n",
        "  #iterating over number of estimators\n",
        "  for i in range(self.n_estimators):\n",
        "    #updating sampleweights,estimator_weight for every iteration\n",
        "    sample_weight,estimator_weight1,estimator_error1,Y_out1=self.boost(X_test,y_test,sample_weight)\n",
        "    #storing all estimator _weights\n",
        "    estimator_weight=np.append(estimator_weight,estimator_weight1)\n",
        "    #storing all estimator predictions\n",
        "    predictions=np.append(predictions,np.resize(Y_out1,(1,X_test.shape[0])),axis=0)\n",
        "   \n",
        "    sample_weight=np.resize(sample_weight,(1,self.X_train.shape[0]))\n",
        "   \n",
        "  \n",
        "  predictions=np.delete(predictions,0,axis=0) \n",
        "  predictions=predictions.T \n",
        "  #finding sorted indices\n",
        "  sorted_idx=np.argsort(predictions)\n",
        "  #With indices calculating cumulative sum of estimator_weights\n",
        "  weighted=np.cumsum(estimator_weight[sorted_idx],axis=1)\n",
        "  #weighted median in the list is the one which is more than half of the last cumulative sum\n",
        "  Median=weighted>=0.5*weighted[:,-1][:,np.newaxis]\n",
        " \n",
        "  Median_index=Median.argmax(axis=1)\n",
        "  #corresponding indices in predictions list is the prediction of the adabooost algorithm\n",
        "  Median_estimator=sorted_idx[np.arange(X_test.shape[0]),Median_index]\n",
        "  return predictions[np.arange(X_test.shape[0]),Median_estimator]\n"
      ],
      "id": "KG036nP3RTKd",
      "execution_count": null,
      "outputs": []
    },
    {
      "cell_type": "markdown",
      "metadata": {
        "id": "tsL4_M6taVBS"
      },
      "source": [
        "CALCULATING RMSE OF ADABOOST ALGORITHM IMPLEMENTED FROM SCRATCH WHICH IS BOOSTED ON DECISION TREE REGRESSION WHICH GOT IMPLEMENTED FROM SCRATCH"
      ],
      "id": "tsL4_M6taVBS"
    },
    {
      "cell_type": "code",
      "metadata": {
        "colab": {
          "base_uri": "https://localhost:8080/"
        },
        "id": "gQJE_aQzvEPr",
        "outputId": "cb2f5890-f979-4c04-a1bb-a85747c56968"
      },
      "source": [
        "#passing regressor1 as base estimator which is decision tree regression which implemented from scratch.\n",
        "Adaboost_regressor=ADA_BOOST_REGREESSOR(X_train,y_train,regressor1,learning_rate=1,n_estimators=3)\n",
        "Y_pred1_adaboost=Adaboost_regressor.predict1(X_test,y_test)\n",
        "from sklearn.metrics import mean_squared_error\n",
        "print(np.sqrt(mean_squared_error(y_test, Y_pred1_adaboost)))\n",
        "from sklearn.metrics import r2_score\n",
        "print(r2_score(y_test, Y_pred1_adaboost))"
      ],
      "id": "gQJE_aQzvEPr",
      "execution_count": null,
      "outputs": [
        {
          "name": "stdout",
          "output_type": "stream",
          "text": [
            "6.77939605678501\n",
            "0.4439999230983547\n"
          ]
        }
      ]
    },
    {
      "cell_type": "markdown",
      "metadata": {
        "id": "p7kD8GyaSThP"
      },
      "source": [
        "RMSE OF SCIKIT IMPLEMENTATION OF ADABOOST REGRESSOR"
      ],
      "id": "p7kD8GyaSThP"
    },
    {
      "cell_type": "code",
      "metadata": {
        "colab": {
          "base_uri": "https://localhost:8080/"
        },
        "id": "-BBGj_ZLvZ01",
        "outputId": "7a247286-05e5-4d37-96a7-f7bf319d08c0"
      },
      "source": [
        "#scikitlearn implementation\n",
        "from sklearn.ensemble import AdaBoostRegressor\n",
        "y_train_ravel=np.ravel(y_train)\n",
        "l1=[0]\n",
        "\n",
        "ada_boost_regressor=AdaBoostRegressor(n_estimators=100,learning_rate=.01)\n",
        "ada_boost_regressor.fit(X_train,y_train_ravel)\n",
        "Y_pred1=ada_boost_regressor.predict(X_test)\n",
        "from sklearn.metrics import mean_squared_error\n",
        "np.sqrt(mean_squared_error(y_test, Y_pred1))\n",
        "from sklearn.metrics import r2_score\n",
        "print(r2_score(y_test, Y_pred1))"
      ],
      "id": "-BBGj_ZLvZ01",
      "execution_count": null,
      "outputs": [
        {
          "name": "stdout",
          "output_type": "stream",
          "text": [
            "0.6639869708658168\n"
          ]
        }
      ]
    },
    {
      "cell_type": "markdown",
      "metadata": {
        "id": "zaJO0GcpSb8X"
      },
      "source": [
        "TAKING BULK DATA SET OF 99999 SAMPLES"
      ],
      "id": "zaJO0GcpSb8X"
    },
    {
      "cell_type": "code",
      "metadata": {
        "colab": {
          "base_uri": "https://localhost:8080/"
        },
        "id": "qz6MUDm7GzH8",
        "outputId": "bebbf9f7-c4a5-4703-8094-e4fdbb663c9a"
      },
      "source": [
        "X1=X=df_train.drop(['fare_amount'],axis=1)\n",
        "X1=X1.iloc[0:99999, :]\n",
        "y1=df_train['fare_amount']\n",
        "y1=y1.iloc[0:99999]\n",
        "X_train1, X_test1, y_train1, y_test1 = train_test_split(X1,y1, test_size=0.2)\n",
        "X_train1.shape\n",
        "X_train1=np.array(X_train1)\n",
        "y_train1=np.array(y_train1)\n",
        "X_test1=np.array(X_test1)\n",
        "y_test1=np.array(y_test1)\n",
        "y_train1=np.resize(y_train1,(y_train1.shape[0],1))\n",
        "y_test1=np.resize(y_test1,(y_test1.shape[0],1))\n",
        "print(X_train1.shape)\n",
        "#scikit learn implementation of decision tree regression \n",
        "from sklearn.tree import DecisionTreeRegressor\n",
        "regressor_tree_scikit=DecisionTreeRegressor(random_state=0)\n",
        "regressor_tree_scikit.fit(X_train,y_train)\n",
        "Ytree_predict_scikit_small=regressor_tree_scikit.predict(X_test)\n",
        "np.sqrt(mean_squared_error(y_test,Ytree_predict_scikit_small))\n",
        "from sklearn.metrics import r2_score\n",
        "print(r2_score(y_test,Ytree_predict_scikit_small))\n"
      ],
      "id": "qz6MUDm7GzH8",
      "execution_count": null,
      "outputs": [
        {
          "name": "stdout",
          "output_type": "stream",
          "text": [
            "(79999, 15)\n",
            "0.4212194777316536\n"
          ]
        }
      ]
    },
    {
      "cell_type": "markdown",
      "metadata": {
        "id": "W6GDVrt_TM-5"
      },
      "source": [
        "RMSE OF ADABOOST REGRESSOR SCRATCH ALGORITHM IMPLEMENTED ON SCIKIT LEARN DECISION TREE REGRESSOR"
      ],
      "id": "W6GDVrt_TM-5"
    },
    {
      "cell_type": "code",
      "metadata": {
        "colab": {
          "base_uri": "https://localhost:8080/"
        },
        "id": "k_acW4C69cYU",
        "outputId": "f0c7979e-1060-43c5-86f2-5c005c96fc61"
      },
      "source": [
        "#Boosting 'regressor' estimator which is scikit learn decision tree regressor\n",
        "Adaboost_regressor=ADA_BOOST_REGREESSOR(X_train,y_train,regressor,learning_rate=.01,n_estimators=50)\n",
        "Y_prediction=Adaboost_regressor.predict1(X_test,y_test)\n",
        "from sklearn.metrics import mean_squared_error\n",
        "np.sqrt(mean_squared_error(y_test, Y_prediction))\n",
        "from sklearn.metrics import r2_score\n",
        "print(r2_score(y_test, Y_prediction))"
      ],
      "id": "k_acW4C69cYU",
      "execution_count": null,
      "outputs": [
        {
          "name": "stdout",
          "output_type": "stream",
          "text": [
            "0.6124502598913427\n"
          ]
        }
      ]
    },
    {
      "cell_type": "code",
      "metadata": {
        "id": "SzG7xLlITea1"
      },
      "source": [
        "FITTING X_train1(BULK DATA_SET) ON SCIKIT LEARN DECISION TREE REGRESSOR"
      ],
      "id": "SzG7xLlITea1",
      "execution_count": null,
      "outputs": []
    },
    {
      "cell_type": "code",
      "metadata": {
        "colab": {
          "base_uri": "https://localhost:8080/"
        },
        "id": "W-1U8MwM_ilC",
        "outputId": "02cc38a6-0bbb-4ef7-cc0f-86ab2b012fc1"
      },
      "source": [
        "#Fitting bulk dataset on scikit learn implementation for decision tree\n",
        "from sklearn.tree import DecisionTreeRegressor\n",
        "regressor2=DecisionTreeRegressor(random_state=0)\n",
        "regressor2.fit(X_train1,y_train1)\n",
        "Ytree_predict_scikit=regressor2.predict(X_test1)\n",
        "np.sqrt(mean_squared_error(y_test1,Ytree_predict_scikit))\n",
        "from sklearn.metrics import r2_score\n",
        "print('r2score is',r2_score(y_test1,Ytree_predict_scikit))"
      ],
      "id": "W-1U8MwM_ilC",
      "execution_count": null,
      "outputs": [
        {
          "name": "stdout",
          "output_type": "stream",
          "text": [
            "r2score is 0.414926203245941\n"
          ]
        }
      ]
    },
    {
      "cell_type": "markdown",
      "metadata": {
        "id": "-usKhonKT9vi"
      },
      "source": [
        "BOOSTING ON SCIKIT LEARN DECISION TREE ON BULK DATASET"
      ],
      "id": "-usKhonKT9vi"
    },
    {
      "cell_type": "code",
      "metadata": {
        "colab": {
          "base_uri": "https://localhost:8080/"
        },
        "id": "WGJvWWSc__YE",
        "outputId": "2f8a14cb-d24c-4458-f53c-31f950376431"
      },
      "source": [
        "#Boosting scikit learn 'regressor2' using our scratch adaboost algorithm\n",
        "rmse=[]\n",
        "r2score=[]\n",
        "from sklearn.metrics import mean_squared_error\n",
        "from sklearn.metrics import r2_score\n",
        "for n_est in [50,100,150]:\n",
        "  Adaboost_regressor=ADA_BOOST_REGREESSOR(X_train1,y_train1,regressor2,learning_rate=0.01,n_estimators=n_est)\n",
        "\n",
        "  Y_predd_adaboost=Adaboost_regressor.predict1(X_test1,y_test1)\n",
        " \n",
        "  rmse.append(np.sqrt(mean_squared_error(y_test1, Y_predd_adaboost)))\n",
        "  r2score.append(r2_score(y_test1,Y_predd_adaboost))\n",
        "print(rmse)\n",
        "print(r2score)"
      ],
      "id": "WGJvWWSc__YE",
      "execution_count": null,
      "outputs": [
        {
          "name": "stdout",
          "output_type": "stream",
          "text": [
            "[4.423203226735123, 4.377363085237504, 4.401976600346713]\n",
            "[0.782998772487921, 0.7874732772253992, 0.7850765208209325]\n"
          ]
        }
      ]
    },
    {
      "cell_type": "markdown",
      "metadata": {
        "id": "NdDkmJdnUVct"
      },
      "source": [
        "SCIKIT LEARN ADABOOST RMSE CALCULATION"
      ],
      "id": "NdDkmJdnUVct"
    },
    {
      "cell_type": "code",
      "metadata": {
        "colab": {
          "base_uri": "https://localhost:8080/"
        },
        "id": "nSdWceqoAKnC",
        "outputId": "14a7086c-c626-4d32-ae69-00a14763cdff"
      },
      "source": [
        "from sklearn.ensemble import AdaBoostRegressor\n",
        "from sklearn.metrics import mean_squared_error\n",
        "from sklearn.metrics import r2_score\n",
        "rmse=[]\n",
        "r2score1=[]\n",
        "\n",
        "for hyper_parameter_n in [50,100,150]:\n",
        "  y_train1_ravel=np.ravel(y_train1)\n",
        "  ada_boost_regressor=AdaBoostRegressor(n_estimators=hyper_parameter_n,learning_rate=0.01)\n",
        "  ada_boost_regressor.fit(X_train1,y_train1_ravel)\n",
        "  Y_pred_scikit=ada_boost_regressor.predict(X_test1)\n",
        "  rmse.append(np.sqrt(mean_squared_error(y_test1,Y_pred_scikit)))\n",
        "  r2score1.append(r2_score(y_test1,Y_pred_scikit))\n",
        "print(rmse)\n",
        "print(r2score1)"
      ],
      "id": "nSdWceqoAKnC",
      "execution_count": null,
      "outputs": [
        {
          "name": "stdout",
          "output_type": "stream",
          "text": [
            "[4.935742602263195, 4.9822994171631505, 5.043234702316933]\n",
            "[0.7297949823186979, 0.7246734772350096, 0.71789761183708]\n"
          ]
        }
      ]
    },
    {
      "cell_type": "code",
      "metadata": {
        "id": "lhsJ4weBHFCf"
      },
      "source": [
        ""
      ],
      "id": "lhsJ4weBHFCf",
      "execution_count": null,
      "outputs": []
    },
    {
      "cell_type": "code",
      "metadata": {
        "id": "AlMgLQFtcaVb"
      },
      "source": [
        ""
      ],
      "id": "AlMgLQFtcaVb",
      "execution_count": null,
      "outputs": []
    }
  ]
}