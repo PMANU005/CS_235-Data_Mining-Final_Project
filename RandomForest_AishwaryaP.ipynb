{
  "nbformat": 4,
  "nbformat_minor": 0,
  "metadata": {
    "colab": {
      "name": "DM_RandomForest_AishwaryaP.ipynb",
      "provenance": []
    },
    "kernelspec": {
      "name": "python3",
      "display_name": "Python 3"
    },
    "language_info": {
      "name": "python"
    }
  },
  "cells": [
    {
      "cell_type": "markdown",
      "metadata": {
        "id": "ZIA0GK82aXN7"
      },
      "source": [
        "## Import the required libraries\n",
        "\n",
        "---\n",
        "\n"
      ]
    },
    {
      "cell_type": "code",
      "metadata": {
        "id": "sVM3iXMUWK-H"
      },
      "source": [
        "import numpy as np\n",
        "import pandas as pd\n",
        "\n",
        "import matplotlib.pyplot as plt\n",
        "import seaborn as sns\n",
        "from sklearn import preprocessing\n",
        "from sklearn.model_selection import train_test_split\n",
        "from sklearn.metrics import mean_squared_error\n",
        "from sklearn.metrics import r2_score\n",
        "from datetime import datetime\n",
        "import calendar"
      ],
      "execution_count": null,
      "outputs": []
    },
    {
      "cell_type": "markdown",
      "metadata": {
        "id": "uplV30nt-IlR"
      },
      "source": [
        "##Data Loading\n",
        "\n",
        "---\n",
        "\n"
      ]
    },
    {
      "cell_type": "code",
      "metadata": {
        "id": "Nl9B-FVWWe4-",
        "colab": {
          "base_uri": "https://localhost:8080/",
          "height": 293
        },
        "outputId": "7bd7b550-aecf-42d1-c790-a5921ac88036"
      },
      "source": [
        "#Load data in  dataframe\n",
        "train_df =  pd.read_csv('/content/drive/MyDrive/CS_235-Group16-Final_Project/NYCTaxiFare_TrainData.csv', nrows = 10000, parse_dates=[\"pickup_datetime\"])\n",
        "# list first few rows (datapoints)\n",
        "train_df.head()"
      ],
      "execution_count": null,
      "outputs": [
        {
          "output_type": "execute_result",
          "data": {
            "text/html": [
              "<div>\n",
              "<style scoped>\n",
              "    .dataframe tbody tr th:only-of-type {\n",
              "        vertical-align: middle;\n",
              "    }\n",
              "\n",
              "    .dataframe tbody tr th {\n",
              "        vertical-align: top;\n",
              "    }\n",
              "\n",
              "    .dataframe thead th {\n",
              "        text-align: right;\n",
              "    }\n",
              "</style>\n",
              "<table border=\"1\" class=\"dataframe\">\n",
              "  <thead>\n",
              "    <tr style=\"text-align: right;\">\n",
              "      <th></th>\n",
              "      <th>key</th>\n",
              "      <th>fare_amount</th>\n",
              "      <th>pickup_datetime</th>\n",
              "      <th>pickup_longitude</th>\n",
              "      <th>pickup_latitude</th>\n",
              "      <th>dropoff_longitude</th>\n",
              "      <th>dropoff_latitude</th>\n",
              "      <th>passenger_count</th>\n",
              "    </tr>\n",
              "  </thead>\n",
              "  <tbody>\n",
              "    <tr>\n",
              "      <th>0</th>\n",
              "      <td>2009-06-15 17:26:21.0000001</td>\n",
              "      <td>4.5</td>\n",
              "      <td>2009-06-15 17:26:21+00:00</td>\n",
              "      <td>-73.844311</td>\n",
              "      <td>40.721319</td>\n",
              "      <td>-73.841610</td>\n",
              "      <td>40.712278</td>\n",
              "      <td>1</td>\n",
              "    </tr>\n",
              "    <tr>\n",
              "      <th>1</th>\n",
              "      <td>2010-01-05 16:52:16.0000002</td>\n",
              "      <td>16.9</td>\n",
              "      <td>2010-01-05 16:52:16+00:00</td>\n",
              "      <td>-74.016048</td>\n",
              "      <td>40.711303</td>\n",
              "      <td>-73.979268</td>\n",
              "      <td>40.782004</td>\n",
              "      <td>1</td>\n",
              "    </tr>\n",
              "    <tr>\n",
              "      <th>2</th>\n",
              "      <td>2011-08-18 00:35:00.00000049</td>\n",
              "      <td>5.7</td>\n",
              "      <td>2011-08-18 00:35:00+00:00</td>\n",
              "      <td>-73.982738</td>\n",
              "      <td>40.761270</td>\n",
              "      <td>-73.991242</td>\n",
              "      <td>40.750562</td>\n",
              "      <td>2</td>\n",
              "    </tr>\n",
              "    <tr>\n",
              "      <th>3</th>\n",
              "      <td>2012-04-21 04:30:42.0000001</td>\n",
              "      <td>7.7</td>\n",
              "      <td>2012-04-21 04:30:42+00:00</td>\n",
              "      <td>-73.987130</td>\n",
              "      <td>40.733143</td>\n",
              "      <td>-73.991567</td>\n",
              "      <td>40.758092</td>\n",
              "      <td>1</td>\n",
              "    </tr>\n",
              "    <tr>\n",
              "      <th>4</th>\n",
              "      <td>2010-03-09 07:51:00.000000135</td>\n",
              "      <td>5.3</td>\n",
              "      <td>2010-03-09 07:51:00+00:00</td>\n",
              "      <td>-73.968095</td>\n",
              "      <td>40.768008</td>\n",
              "      <td>-73.956655</td>\n",
              "      <td>40.783762</td>\n",
              "      <td>1</td>\n",
              "    </tr>\n",
              "  </tbody>\n",
              "</table>\n",
              "</div>"
            ],
            "text/plain": [
              "                             key  ...  passenger_count\n",
              "0    2009-06-15 17:26:21.0000001  ...                1\n",
              "1    2010-01-05 16:52:16.0000002  ...                1\n",
              "2   2011-08-18 00:35:00.00000049  ...                2\n",
              "3    2012-04-21 04:30:42.0000001  ...                1\n",
              "4  2010-03-09 07:51:00.000000135  ...                1\n",
              "\n",
              "[5 rows x 8 columns]"
            ]
          },
          "metadata": {},
          "execution_count": 2
        }
      ]
    },
    {
      "cell_type": "markdown",
      "metadata": {
        "id": "W4WO4HaOwWCx"
      },
      "source": [
        "Check datatypes"
      ]
    },
    {
      "cell_type": "code",
      "metadata": {
        "id": "8rcZm8erl5Ml",
        "colab": {
          "base_uri": "https://localhost:8080/"
        },
        "outputId": "7447df77-6e36-4df4-ec96-a9465220be49"
      },
      "source": [
        "train_df.dtypes"
      ],
      "execution_count": null,
      "outputs": [
        {
          "output_type": "execute_result",
          "data": {
            "text/plain": [
              "key                               object\n",
              "fare_amount                      float64\n",
              "pickup_datetime      datetime64[ns, UTC]\n",
              "pickup_longitude                 float64\n",
              "pickup_latitude                  float64\n",
              "dropoff_longitude                float64\n",
              "dropoff_latitude                 float64\n",
              "passenger_count                    int64\n",
              "dtype: object"
            ]
          },
          "metadata": {},
          "execution_count": 3
        }
      ]
    },
    {
      "cell_type": "markdown",
      "metadata": {
        "id": "T-9UiLIZwbvG"
      },
      "source": [
        "Training data description"
      ]
    },
    {
      "cell_type": "code",
      "metadata": {
        "id": "4b4n79DlmMUt",
        "colab": {
          "base_uri": "https://localhost:8080/",
          "height": 300
        },
        "outputId": "470329c2-25fd-4bf4-d90f-43a1175d48f5"
      },
      "source": [
        "train_df.describe()"
      ],
      "execution_count": null,
      "outputs": [
        {
          "output_type": "execute_result",
          "data": {
            "text/html": [
              "<div>\n",
              "<style scoped>\n",
              "    .dataframe tbody tr th:only-of-type {\n",
              "        vertical-align: middle;\n",
              "    }\n",
              "\n",
              "    .dataframe tbody tr th {\n",
              "        vertical-align: top;\n",
              "    }\n",
              "\n",
              "    .dataframe thead th {\n",
              "        text-align: right;\n",
              "    }\n",
              "</style>\n",
              "<table border=\"1\" class=\"dataframe\">\n",
              "  <thead>\n",
              "    <tr style=\"text-align: right;\">\n",
              "      <th></th>\n",
              "      <th>fare_amount</th>\n",
              "      <th>pickup_longitude</th>\n",
              "      <th>pickup_latitude</th>\n",
              "      <th>dropoff_longitude</th>\n",
              "      <th>dropoff_latitude</th>\n",
              "      <th>passenger_count</th>\n",
              "    </tr>\n",
              "  </thead>\n",
              "  <tbody>\n",
              "    <tr>\n",
              "      <th>count</th>\n",
              "      <td>10000.000000</td>\n",
              "      <td>10000.000000</td>\n",
              "      <td>10000.000000</td>\n",
              "      <td>10000.000000</td>\n",
              "      <td>10000.000000</td>\n",
              "      <td>10000.000000</td>\n",
              "    </tr>\n",
              "    <tr>\n",
              "      <th>mean</th>\n",
              "      <td>11.235464</td>\n",
              "      <td>-72.466660</td>\n",
              "      <td>39.920448</td>\n",
              "      <td>-72.474094</td>\n",
              "      <td>39.893281</td>\n",
              "      <td>1.644700</td>\n",
              "    </tr>\n",
              "    <tr>\n",
              "      <th>std</th>\n",
              "      <td>9.584258</td>\n",
              "      <td>10.609729</td>\n",
              "      <td>7.318932</td>\n",
              "      <td>10.579732</td>\n",
              "      <td>6.339919</td>\n",
              "      <td>1.271229</td>\n",
              "    </tr>\n",
              "    <tr>\n",
              "      <th>min</th>\n",
              "      <td>-2.900000</td>\n",
              "      <td>-74.438233</td>\n",
              "      <td>-74.006893</td>\n",
              "      <td>-74.429332</td>\n",
              "      <td>-73.994392</td>\n",
              "      <td>0.000000</td>\n",
              "    </tr>\n",
              "    <tr>\n",
              "      <th>25%</th>\n",
              "      <td>6.000000</td>\n",
              "      <td>-73.992058</td>\n",
              "      <td>40.734547</td>\n",
              "      <td>-73.991112</td>\n",
              "      <td>40.735230</td>\n",
              "      <td>1.000000</td>\n",
              "    </tr>\n",
              "    <tr>\n",
              "      <th>50%</th>\n",
              "      <td>8.500000</td>\n",
              "      <td>-73.981758</td>\n",
              "      <td>40.752693</td>\n",
              "      <td>-73.980083</td>\n",
              "      <td>40.753738</td>\n",
              "      <td>1.000000</td>\n",
              "    </tr>\n",
              "    <tr>\n",
              "      <th>75%</th>\n",
              "      <td>12.500000</td>\n",
              "      <td>-73.966925</td>\n",
              "      <td>40.767694</td>\n",
              "      <td>-73.963504</td>\n",
              "      <td>40.768186</td>\n",
              "      <td>2.000000</td>\n",
              "    </tr>\n",
              "    <tr>\n",
              "      <th>max</th>\n",
              "      <td>180.000000</td>\n",
              "      <td>40.766125</td>\n",
              "      <td>401.083332</td>\n",
              "      <td>40.802437</td>\n",
              "      <td>41.366138</td>\n",
              "      <td>6.000000</td>\n",
              "    </tr>\n",
              "  </tbody>\n",
              "</table>\n",
              "</div>"
            ],
            "text/plain": [
              "        fare_amount  pickup_longitude  ...  dropoff_latitude  passenger_count\n",
              "count  10000.000000      10000.000000  ...      10000.000000     10000.000000\n",
              "mean      11.235464        -72.466660  ...         39.893281         1.644700\n",
              "std        9.584258         10.609729  ...          6.339919         1.271229\n",
              "min       -2.900000        -74.438233  ...        -73.994392         0.000000\n",
              "25%        6.000000        -73.992058  ...         40.735230         1.000000\n",
              "50%        8.500000        -73.981758  ...         40.753738         1.000000\n",
              "75%       12.500000        -73.966925  ...         40.768186         2.000000\n",
              "max      180.000000         40.766125  ...         41.366138         6.000000\n",
              "\n",
              "[8 rows x 6 columns]"
            ]
          },
          "metadata": {},
          "execution_count": 4
        }
      ]
    },
    {
      "cell_type": "code",
      "metadata": {
        "id": "mXUX66EYmZZx",
        "colab": {
          "base_uri": "https://localhost:8080/",
          "height": 368
        },
        "outputId": "fd9cd589-8676-4d5d-f691-6b3861f09ba1"
      },
      "source": [
        "sns.distplot(train_df['fare_amount'])\n",
        "plt.title('Distribution of Fare Amount')"
      ],
      "execution_count": null,
      "outputs": [
        {
          "output_type": "stream",
          "name": "stderr",
          "text": [
            "/usr/local/lib/python3.7/dist-packages/seaborn/distributions.py:2619: FutureWarning: `distplot` is a deprecated function and will be removed in a future version. Please adapt your code to use either `displot` (a figure-level function with similar flexibility) or `histplot` (an axes-level function for histograms).\n",
            "  warnings.warn(msg, FutureWarning)\n"
          ]
        },
        {
          "output_type": "execute_result",
          "data": {
            "text/plain": [
              "Text(0.5, 1.0, 'Distribution of Fare Amount')"
            ]
          },
          "metadata": {},
          "execution_count": 5
        },
        {
          "output_type": "display_data",
          "data": {
            "image/png": "[encoded data removed]",
            "text/plain": [
              "<Figure size 432x288 with 1 Axes>"
            ]
          },
          "metadata": {
            "needs_background": "light"
          }
        }
      ]
    },
    {
      "cell_type": "markdown",
      "metadata": {
        "id": "-dB1lJLslih2"
      },
      "source": [
        "##Data Preprocessing\n",
        "\n",
        "---\n",
        "\n"
      ]
    },
    {
      "cell_type": "markdown",
      "source": [
        "###Removal all the taxi trips that has negative fare amount."
      ],
      "metadata": {
        "id": "uihsSt-A6zeq"
      }
    },
    {
      "cell_type": "code",
      "metadata": {
        "id": "ZJT5BuQWm5j5",
        "colab": {
          "base_uri": "https://localhost:8080/"
        },
        "outputId": "80baf9d1-7c53-4f2e-c093-13d099f0d74e"
      },
      "source": [
        "#Remove data which has the fare amount negative.\n",
        "print('Old size: %d' % len(train_df))\n",
        "train_df = train_df[train_df.fare_amount>=0]\n",
        "print('New size: %d' % len(train_df))"
      ],
      "execution_count": null,
      "outputs": [
        {
          "output_type": "stream",
          "name": "stdout",
          "text": [
            "Old size: 10000\n",
            "New size: 9998\n"
          ]
        }
      ]
    },
    {
      "cell_type": "markdown",
      "source": [
        "###Removal taxi trips with missing data."
      ],
      "metadata": {
        "id": "nkZjVh_T65Gg"
      }
    },
    {
      "cell_type": "code",
      "metadata": {
        "id": "ixGFWAVym69g",
        "colab": {
          "base_uri": "https://localhost:8080/"
        },
        "outputId": "44b15564-3889-4673-a766-d3bed034e0a4"
      },
      "source": [
        "#count of missing data with respect to attributes:\n",
        "print(train_df.isnull().sum())"
      ],
      "execution_count": null,
      "outputs": [
        {
          "output_type": "stream",
          "name": "stdout",
          "text": [
            "key                  0\n",
            "fare_amount          0\n",
            "pickup_datetime      0\n",
            "pickup_longitude     0\n",
            "pickup_latitude      0\n",
            "dropoff_longitude    0\n",
            "dropoff_latitude     0\n",
            "passenger_count      0\n",
            "dtype: int64\n"
          ]
        }
      ]
    },
    {
      "cell_type": "code",
      "metadata": {
        "id": "_-UoWtQ6m-wN",
        "colab": {
          "base_uri": "https://localhost:8080/"
        },
        "outputId": "92ae955a-f730-4d8f-9c6e-0cdd7c03c4e9"
      },
      "source": [
        "#Removing the records with missing data.\n",
        "print('Old size: %d' % len(train_df))\n",
        "train_df = train_df.dropna(how = 'any', axis = 'rows')\n",
        "print('New size: %d' % len(train_df))"
      ],
      "execution_count": null,
      "outputs": [
        {
          "output_type": "stream",
          "name": "stdout",
          "text": [
            "Old size: 9998\n",
            "New size: 9998\n"
          ]
        }
      ]
    },
    {
      "cell_type": "markdown",
      "source": [
        "###Removal of taxi trips with passenger count less than zero and greater than six."
      ],
      "metadata": {
        "id": "6o5a27oR7QkM"
      }
    },
    {
      "cell_type": "code",
      "metadata": {
        "id": "GNVMH9Abpyva",
        "colab": {
          "base_uri": "https://localhost:8080/"
        },
        "outputId": "435234e9-b599-4d10-924b-8b164cbac192"
      },
      "source": [
        "print('Old size: %d' % len(train_df))\n",
        "train_df = train_df[train_df.passenger_count<=6]\n",
        "train_df = train_df[train_df.passenger_count>0]\n",
        "print('New size: %d' % len(train_df))\n"
      ],
      "execution_count": null,
      "outputs": [
        {
          "output_type": "stream",
          "name": "stdout",
          "text": [
            "Old size: 9998\n",
            "New size: 9960\n"
          ]
        }
      ]
    },
    {
      "cell_type": "code",
      "metadata": {
        "id": "xKkR962Jp5TA",
        "colab": {
          "base_uri": "https://localhost:8080/"
        },
        "outputId": "111f84cc-fd5a-495f-e350-07ec8119833b"
      },
      "source": [
        "passenger = train_df.groupby(['passenger_count']).count()\n",
        "sns.barplot(passenger.index, passenger['key'], palette = \"Set3\")\n",
        "plt.xlabel('Number of Passengers')\n",
        "plt.ylabel('Count')\n",
        "plt.title('Count of Passengers')\n",
        "plt.show()"
      ],
      "execution_count": null,
      "outputs": [
        {
          "output_type": "stream",
          "name": "stderr",
          "text": [
            "/usr/local/lib/python3.7/dist-packages/seaborn/_decorators.py:43: FutureWarning: Pass the following variables as keyword args: x, y. From version 0.12, the only valid positional argument will be `data`, and passing other arguments without an explicit keyword will result in an error or misinterpretation.\n",
            "  FutureWarning\n"
          ]
        },
        {
          "output_type": "display_data",
          "data": {
            "image/png": "[encoded data removed]",
            "text/plain": [
              "<Figure size 432x288 with 1 Axes>"
            ]
          },
          "metadata": {
            "needs_background": "light"
          }
        }
      ]
    },
    {
      "cell_type": "code",
      "metadata": {
        "id": "QXMfw1Khp7uQ",
        "colab": {
          "base_uri": "https://localhost:8080/"
        },
        "outputId": "f979a51b-f646-4f6b-8536-4e7366a41df9"
      },
      "source": [
        "train_df.head()"
      ],
      "execution_count": null,
      "outputs": [
        {
          "output_type": "execute_result",
          "data": {
            "text/html": [
              "<div>\n",
              "<style scoped>\n",
              "    .dataframe tbody tr th:only-of-type {\n",
              "        vertical-align: middle;\n",
              "    }\n",
              "\n",
              "    .dataframe tbody tr th {\n",
              "        vertical-align: top;\n",
              "    }\n",
              "\n",
              "    .dataframe thead th {\n",
              "        text-align: right;\n",
              "    }\n",
              "</style>\n",
              "<table border=\"1\" class=\"dataframe\">\n",
              "  <thead>\n",
              "    <tr style=\"text-align: right;\">\n",
              "      <th></th>\n",
              "      <th>key</th>\n",
              "      <th>fare_amount</th>\n",
              "      <th>pickup_datetime</th>\n",
              "      <th>pickup_longitude</th>\n",
              "      <th>pickup_latitude</th>\n",
              "      <th>dropoff_longitude</th>\n",
              "      <th>dropoff_latitude</th>\n",
              "      <th>passenger_count</th>\n",
              "    </tr>\n",
              "  </thead>\n",
              "  <tbody>\n",
              "    <tr>\n",
              "      <th>0</th>\n",
              "      <td>2009-06-15 17:26:21.0000001</td>\n",
              "      <td>4.5</td>\n",
              "      <td>2009-06-15 17:26:21+00:00</td>\n",
              "      <td>-73.844311</td>\n",
              "      <td>40.721319</td>\n",
              "      <td>-73.841610</td>\n",
              "      <td>40.712278</td>\n",
              "      <td>1</td>\n",
              "    </tr>\n",
              "    <tr>\n",
              "      <th>1</th>\n",
              "      <td>2010-01-05 16:52:16.0000002</td>\n",
              "      <td>16.9</td>\n",
              "      <td>2010-01-05 16:52:16+00:00</td>\n",
              "      <td>-74.016048</td>\n",
              "      <td>40.711303</td>\n",
              "      <td>-73.979268</td>\n",
              "      <td>40.782004</td>\n",
              "      <td>1</td>\n",
              "    </tr>\n",
              "    <tr>\n",
              "      <th>2</th>\n",
              "      <td>2011-08-18 00:35:00.00000049</td>\n",
              "      <td>5.7</td>\n",
              "      <td>2011-08-18 00:35:00+00:00</td>\n",
              "      <td>-73.982738</td>\n",
              "      <td>40.761270</td>\n",
              "      <td>-73.991242</td>\n",
              "      <td>40.750562</td>\n",
              "      <td>2</td>\n",
              "    </tr>\n",
              "    <tr>\n",
              "      <th>3</th>\n",
              "      <td>2012-04-21 04:30:42.0000001</td>\n",
              "      <td>7.7</td>\n",
              "      <td>2012-04-21 04:30:42+00:00</td>\n",
              "      <td>-73.987130</td>\n",
              "      <td>40.733143</td>\n",
              "      <td>-73.991567</td>\n",
              "      <td>40.758092</td>\n",
              "      <td>1</td>\n",
              "    </tr>\n",
              "    <tr>\n",
              "      <th>4</th>\n",
              "      <td>2010-03-09 07:51:00.000000135</td>\n",
              "      <td>5.3</td>\n",
              "      <td>2010-03-09 07:51:00+00:00</td>\n",
              "      <td>-73.968095</td>\n",
              "      <td>40.768008</td>\n",
              "      <td>-73.956655</td>\n",
              "      <td>40.783762</td>\n",
              "      <td>1</td>\n",
              "    </tr>\n",
              "  </tbody>\n",
              "</table>\n",
              "</div>"
            ],
            "text/plain": [
              "                             key  ...  passenger_count\n",
              "0    2009-06-15 17:26:21.0000001  ...                1\n",
              "1    2010-01-05 16:52:16.0000002  ...                1\n",
              "2   2011-08-18 00:35:00.00000049  ...                2\n",
              "3    2012-04-21 04:30:42.0000001  ...                1\n",
              "4  2010-03-09 07:51:00.000000135  ...                1\n",
              "\n",
              "[5 rows x 8 columns]"
            ]
          },
          "metadata": {},
          "execution_count": 11
        }
      ]
    },
    {
      "cell_type": "code",
      "metadata": {
        "id": "K0XIm4iSp-Zm"
      },
      "source": [
        "def groupandplot(data,groupby_key,value,aggregate='mean'):\n",
        "    agg_data=data.groupby([groupby_key])[value].agg(aggregate).reset_index().rename(columns={value:aggregate+'_'+value})\n",
        "    sns.barplot(x=groupby_key,y=aggregate+'_'+value,data=agg_data).set_title(aggregate+'_'+value+\" vs \"+groupby_key)"
      ],
      "execution_count": null,
      "outputs": []
    },
    {
      "cell_type": "code",
      "metadata": {
        "id": "XYUvW1D_qbRd",
        "colab": {
          "base_uri": "https://localhost:8080/"
        },
        "outputId": "14da59ee-fb80-4024-c76f-0db7f7f7cb30"
      },
      "source": [
        "groupandplot(train_df,'passenger_count','fare_amount')"
      ],
      "execution_count": null,
      "outputs": [
        {
          "output_type": "display_data",
          "data": {
            "image/png": "[encoded data removed]",
            "text/plain": [
              "<Figure size 432x288 with 1 Axes>"
            ]
          },
          "metadata": {
            "needs_background": "light"
          }
        }
      ]
    },
    {
      "cell_type": "markdown",
      "source": [
        "###Removal of taxi trips having zero feature value."
      ],
      "metadata": {
        "id": "3kob40qR7a2-"
      }
    },
    {
      "cell_type": "code",
      "metadata": {
        "id": "43K0yineqdvg",
        "colab": {
          "base_uri": "https://localhost:8080/"
        },
        "outputId": "668a4773-1f35-4c18-cf87-22682962957b"
      },
      "source": [
        "print('Old size: %d' % len(train_df))\n",
        "train_df = train_df.loc[~(train_df == 0).any(axis=1)]\n",
        "print('New size: %d' % len(train_df))"
      ],
      "execution_count": null,
      "outputs": [
        {
          "output_type": "stream",
          "name": "stdout",
          "text": [
            "Old size: 9960\n",
            "New size: 9764\n"
          ]
        }
      ]
    },
    {
      "cell_type": "markdown",
      "source": [
        "###Converting the pickup_datetime attribute of type Object to different primitive types using lambda functions."
      ],
      "metadata": {
        "id": "Os67LjTw7ge7"
      }
    },
    {
      "cell_type": "code",
      "metadata": {
        "id": "miLsdNNhqgQ1",
        "colab": {
          "base_uri": "https://localhost:8080/"
        },
        "outputId": "61ab0d60-31e7-4c61-af1f-04985db3590f"
      },
      "source": [
        "train_df['pickup_datetime']=pd.to_datetime(train_df['pickup_datetime'],format='%Y-%m-%d %H:%M:%S UTC')\n",
        "\n",
        "train_df['pickup_date']= train_df['pickup_datetime'].dt.date\n",
        "train_df['pickup_day']=train_df['pickup_datetime'].apply(lambda x:x.day)\n",
        "train_df['pickup_hour']=train_df['pickup_datetime'].apply(lambda x:x.hour)\n",
        "train_df['pickup_day_of_week']=train_df['pickup_datetime'].apply(lambda x:calendar.day_name[x.weekday()])\n",
        "train_df['pickup_month']=train_df['pickup_datetime'].apply(lambda x:x.month)\n",
        "train_df['pickup_year']=train_df['pickup_datetime'].apply(lambda x:x.year)"
      ],
      "execution_count": null,
      "outputs": [
        {
          "output_type": "stream",
          "name": "stderr",
          "text": [
            "/usr/local/lib/python3.7/dist-packages/ipykernel_launcher.py:1: SettingWithCopyWarning: \n",
            "A value is trying to be set on a copy of a slice from a DataFrame.\n",
            "Try using .loc[row_indexer,col_indexer] = value instead\n",
            "\n",
            "See the caveats in the documentation: https://pandas.pydata.org/pandas-docs/stable/user_guide/indexing.html#returning-a-view-versus-a-copy\n",
            "  \"\"\"Entry point for launching an IPython kernel.\n",
            "/usr/local/lib/python3.7/dist-packages/ipykernel_launcher.py:3: SettingWithCopyWarning: \n",
            "A value is trying to be set on a copy of a slice from a DataFrame.\n",
            "Try using .loc[row_indexer,col_indexer] = value instead\n",
            "\n",
            "See the caveats in the documentation: https://pandas.pydata.org/pandas-docs/stable/user_guide/indexing.html#returning-a-view-versus-a-copy\n",
            "  This is separate from the ipykernel package so we can avoid doing imports until\n",
            "/usr/local/lib/python3.7/dist-packages/ipykernel_launcher.py:4: SettingWithCopyWarning: \n",
            "A value is trying to be set on a copy of a slice from a DataFrame.\n",
            "Try using .loc[row_indexer,col_indexer] = value instead\n",
            "\n",
            "See the caveats in the documentation: https://pandas.pydata.org/pandas-docs/stable/user_guide/indexing.html#returning-a-view-versus-a-copy\n",
            "  after removing the cwd from sys.path.\n",
            "/usr/local/lib/python3.7/dist-packages/ipykernel_launcher.py:5: SettingWithCopyWarning: \n",
            "A value is trying to be set on a copy of a slice from a DataFrame.\n",
            "Try using .loc[row_indexer,col_indexer] = value instead\n",
            "\n",
            "See the caveats in the documentation: https://pandas.pydata.org/pandas-docs/stable/user_guide/indexing.html#returning-a-view-versus-a-copy\n",
            "  \"\"\"\n",
            "/usr/local/lib/python3.7/dist-packages/ipykernel_launcher.py:6: SettingWithCopyWarning: \n",
            "A value is trying to be set on a copy of a slice from a DataFrame.\n",
            "Try using .loc[row_indexer,col_indexer] = value instead\n",
            "\n",
            "See the caveats in the documentation: https://pandas.pydata.org/pandas-docs/stable/user_guide/indexing.html#returning-a-view-versus-a-copy\n",
            "  \n",
            "/usr/local/lib/python3.7/dist-packages/ipykernel_launcher.py:7: SettingWithCopyWarning: \n",
            "A value is trying to be set on a copy of a slice from a DataFrame.\n",
            "Try using .loc[row_indexer,col_indexer] = value instead\n",
            "\n",
            "See the caveats in the documentation: https://pandas.pydata.org/pandas-docs/stable/user_guide/indexing.html#returning-a-view-versus-a-copy\n",
            "  import sys\n",
            "/usr/local/lib/python3.7/dist-packages/ipykernel_launcher.py:8: SettingWithCopyWarning: \n",
            "A value is trying to be set on a copy of a slice from a DataFrame.\n",
            "Try using .loc[row_indexer,col_indexer] = value instead\n",
            "\n",
            "See the caveats in the documentation: https://pandas.pydata.org/pandas-docs/stable/user_guide/indexing.html#returning-a-view-versus-a-copy\n",
            "  \n"
          ]
        }
      ]
    },
    {
      "cell_type": "markdown",
      "source": [
        "###Statistical Visualizations using Matplotlib"
      ],
      "metadata": {
        "id": "rMT3JbFu7lbf"
      }
    },
    {
      "cell_type": "code",
      "metadata": {
        "id": "ouXMbD3vqjUX",
        "colab": {
          "base_uri": "https://localhost:8080/"
        },
        "outputId": "48e8ddbb-5e3c-4d82-da99-826e4f00002c"
      },
      "source": [
        "day_count = train_df.groupby(['pickup_day_of_week']).count().sort_values(by = 'key', ascending = False)\n",
        "sns.barplot(day_count.index, day_count['key'], palette = \"Set3\")\n",
        "plt.xlabel('Day of Week')\n",
        "plt.ylabel('Count')\n",
        "plt.title('Count of Taxi Rides per Day of Week')"
      ],
      "execution_count": null,
      "outputs": [
        {
          "output_type": "stream",
          "name": "stderr",
          "text": [
            "/usr/local/lib/python3.7/dist-packages/seaborn/_decorators.py:43: FutureWarning: Pass the following variables as keyword args: x, y. From version 0.12, the only valid positional argument will be `data`, and passing other arguments without an explicit keyword will result in an error or misinterpretation.\n",
            "  FutureWarning\n"
          ]
        },
        {
          "output_type": "execute_result",
          "data": {
            "text/plain": [
              "Text(0.5, 1.0, 'Count of Taxi Rides per Day of Week')"
            ]
          },
          "metadata": {},
          "execution_count": 16
        },
        {
          "output_type": "display_data",
          "data": {
            "image/png": "[encoded data removed]",
            "text/plain": [
              "<Figure size 432x288 with 1 Axes>"
            ]
          },
          "metadata": {
            "needs_background": "light"
          }
        }
      ]
    },
    {
      "cell_type": "code",
      "metadata": {
        "id": "l7VfDisVqmHw",
        "colab": {
          "base_uri": "https://localhost:8080/"
        },
        "outputId": "3bdb2c39-38d1-4cec-9ce5-d7f124dbc82d"
      },
      "source": [
        "day_count = train_df.groupby(['pickup_day']).count().sort_values(by = 'key', ascending = False)\n",
        "sns.barplot(day_count.index, day_count['key'], palette = \"Set3\")\n",
        "plt.xlabel('Day of month')\n",
        "plt.ylabel('Count')\n",
        "plt.title('Count of Taxi Rides per Day of Month')"
      ],
      "execution_count": null,
      "outputs": [
        {
          "output_type": "stream",
          "name": "stderr",
          "text": [
            "/usr/local/lib/python3.7/dist-packages/seaborn/_decorators.py:43: FutureWarning: Pass the following variables as keyword args: x, y. From version 0.12, the only valid positional argument will be `data`, and passing other arguments without an explicit keyword will result in an error or misinterpretation.\n",
            "  FutureWarning\n"
          ]
        },
        {
          "output_type": "execute_result",
          "data": {
            "text/plain": [
              "Text(0.5, 1.0, 'Count of Taxi Rides per Day of Month')"
            ]
          },
          "metadata": {},
          "execution_count": 17
        },
        {
          "output_type": "display_data",
          "data": {
            "image/png": "[encoded data removed]",
            "text/plain": [
              "<Figure size 432x288 with 1 Axes>"
            ]
          },
          "metadata": {
            "needs_background": "light"
          }
        }
      ]
    },
    {
      "cell_type": "code",
      "metadata": {
        "id": "Woj-eZa9qoRp",
        "colab": {
          "base_uri": "https://localhost:8080/"
        },
        "outputId": "508e7db9-8e46-46b3-9cac-7cfd5187d3ab"
      },
      "source": [
        "day_fare = train_df.groupby(['pickup_day_of_week']).mean().sort_values(by = 'fare_amount', ascending = False)\n",
        "\n",
        "sns.barplot(day_fare.index, day_fare.fare_amount, palette = \"Set3\")\n",
        "\n",
        "plt.xlabel('Day of Week')\n",
        "plt.ylabel('Average Fare Amount')\n",
        "plt.title('Average Fare Amount per Day of Week')"
      ],
      "execution_count": null,
      "outputs": [
        {
          "output_type": "stream",
          "name": "stderr",
          "text": [
            "/usr/local/lib/python3.7/dist-packages/seaborn/_decorators.py:43: FutureWarning: Pass the following variables as keyword args: x, y. From version 0.12, the only valid positional argument will be `data`, and passing other arguments without an explicit keyword will result in an error or misinterpretation.\n",
            "  FutureWarning\n"
          ]
        },
        {
          "output_type": "execute_result",
          "data": {
            "text/plain": [
              "Text(0.5, 1.0, 'Average Fare Amount per Day of Week')"
            ]
          },
          "metadata": {},
          "execution_count": 18
        },
        {
          "output_type": "display_data",
          "data": {
            "image/png": "[encoded data removed]",
            "text/plain": [
              "<Figure size 432x288 with 1 Axes>"
            ]
          },
          "metadata": {
            "needs_background": "light"
          }
        }
      ]
    },
    {
      "cell_type": "code",
      "metadata": {
        "id": "nmgDRzdMqqXU",
        "colab": {
          "base_uri": "https://localhost:8080/"
        },
        "outputId": "de047851-b591-4c0f-fa75-a445b51780b2"
      },
      "source": [
        "day_sum = train_df.groupby(['pickup_day_of_week']).sum().sort_values(by = 'fare_amount', ascending = False)\n",
        "\n",
        "sns.barplot(day_sum.index, day_sum.fare_amount, palette = \"Set3\")\n",
        "\n",
        "plt.xlabel('Day of Week')\n",
        "plt.ylabel('Count')\n",
        "plt.title('Count of Total Rides Given During Each Day')"
      ],
      "execution_count": null,
      "outputs": [
        {
          "output_type": "stream",
          "name": "stderr",
          "text": [
            "/usr/local/lib/python3.7/dist-packages/seaborn/_decorators.py:43: FutureWarning: Pass the following variables as keyword args: x, y. From version 0.12, the only valid positional argument will be `data`, and passing other arguments without an explicit keyword will result in an error or misinterpretation.\n",
            "  FutureWarning\n"
          ]
        },
        {
          "output_type": "execute_result",
          "data": {
            "text/plain": [
              "Text(0.5, 1.0, 'Count of Total Rides Given During Each Day')"
            ]
          },
          "metadata": {},
          "execution_count": 19
        },
        {
          "output_type": "display_data",
          "data": {
            "image/png": "[encoded data removed]",
            "text/plain": [
              "<Figure size 432x288 with 1 Axes>"
            ]
          },
          "metadata": {
            "needs_background": "light"
          }
        }
      ]
    },
    {
      "cell_type": "code",
      "metadata": {
        "id": "KMtmjTFYqtCV",
        "colab": {
          "base_uri": "https://localhost:8080/"
        },
        "outputId": "c4bed81a-3452-45f5-c7f8-40a79c8ddc4b"
      },
      "source": [
        "time_of_day = train_df.groupby(['pickup_hour']).mean()\n",
        "plt.plot(time_of_day.index, time_of_day.fare_amount, color = 'r')\n",
        "plt.xlabel('Hour')\n",
        "plt.ylabel('Fare Price')\n",
        "plt.title('Average Fare Price During Time of Day')\n",
        "plt.show()"
      ],
      "execution_count": null,
      "outputs": [
        {
          "output_type": "display_data",
          "data": {
            "image/png": "[encoded data removed]",
            "text/plain": [
              "<Figure size 432x288 with 1 Axes>"
            ]
          },
          "metadata": {
            "needs_background": "light"
          }
        }
      ]
    },
    {
      "cell_type": "code",
      "metadata": {
        "id": "wU8CjPh3qyxS",
        "colab": {
          "base_uri": "https://localhost:8080/"
        },
        "outputId": "89f5f9e6-b8ac-4f4c-e5d1-c29d95cb5984"
      },
      "source": [
        "passenger_fare = train_df.groupby(['passenger_count']).mean()\n",
        "sns.barplot(passenger_fare.index, passenger_fare['fare_amount'], palette = \"Set3\")\n",
        "plt.xlabel('Number of Passengers')\n",
        "plt.ylabel('Average Fare Price')\n",
        "plt.title('Average Fare Price for Number of Passengers')\n",
        "plt.show()"
      ],
      "execution_count": null,
      "outputs": [
        {
          "output_type": "stream",
          "name": "stderr",
          "text": [
            "/usr/local/lib/python3.7/dist-packages/seaborn/_decorators.py:43: FutureWarning: Pass the following variables as keyword args: x, y. From version 0.12, the only valid positional argument will be `data`, and passing other arguments without an explicit keyword will result in an error or misinterpretation.\n",
            "  FutureWarning\n"
          ]
        },
        {
          "output_type": "display_data",
          "data": {
            "image/png": "[encoded data removed]",
            "text/plain": [
              "<Figure size 432x288 with 1 Axes>"
            ]
          },
          "metadata": {
            "needs_background": "light"
          }
        }
      ]
    },
    {
      "cell_type": "code",
      "metadata": {
        "id": "PsGPsTBPq-VX"
      },
      "source": [
        "# Let us encode day of the week to numbers\n",
        "def encodeDays(day_of_week):\n",
        "    day_dict={'Sunday':0,'Monday':1,'Tuesday':2,'Wednesday':3,'Thursday':4,'Friday':5,'Saturday':6}\n",
        "    return day_dict[day_of_week]"
      ],
      "execution_count": null,
      "outputs": []
    },
    {
      "cell_type": "code",
      "metadata": {
        "id": "UGlZTw-sq_gw"
      },
      "source": [
        "train_df['pickup_day_of_week']=train_df['pickup_day_of_week'].apply(lambda x:encodeDays(x))"
      ],
      "execution_count": null,
      "outputs": []
    },
    {
      "cell_type": "code",
      "metadata": {
        "id": "QRWOa19ZrB_F",
        "colab": {
          "base_uri": "https://localhost:8080/"
        },
        "outputId": "efa342b4-1c95-43be-9243-b50affb40e4c"
      },
      "source": [
        "train_df.dtypes"
      ],
      "execution_count": null,
      "outputs": [
        {
          "output_type": "execute_result",
          "data": {
            "text/plain": [
              "key                                object\n",
              "fare_amount                       float64\n",
              "pickup_datetime       datetime64[ns, UTC]\n",
              "pickup_longitude                  float64\n",
              "pickup_latitude                   float64\n",
              "dropoff_longitude                 float64\n",
              "dropoff_latitude                  float64\n",
              "passenger_count                     int64\n",
              "pickup_date                        object\n",
              "pickup_day                          int64\n",
              "pickup_hour                         int64\n",
              "pickup_day_of_week                  int64\n",
              "pickup_month                        int64\n",
              "pickup_year                         int64\n",
              "dtype: object"
            ]
          },
          "metadata": {},
          "execution_count": 24
        }
      ]
    },
    {
      "cell_type": "code",
      "metadata": {
        "id": "RoUIfw6wrDkT",
        "colab": {
          "base_uri": "https://localhost:8080/"
        },
        "outputId": "c74825a2-bbbd-4290-9293-ba59ea3c2870"
      },
      "source": [
        "train_df = train_df.drop(['key','pickup_datetime','pickup_date'], axis=1)\n",
        "train_df.head()"
      ],
      "execution_count": null,
      "outputs": [
        {
          "output_type": "execute_result",
          "data": {
            "text/html": [
              "<div>\n",
              "<style scoped>\n",
              "    .dataframe tbody tr th:only-of-type {\n",
              "        vertical-align: middle;\n",
              "    }\n",
              "\n",
              "    .dataframe tbody tr th {\n",
              "        vertical-align: top;\n",
              "    }\n",
              "\n",
              "    .dataframe thead th {\n",
              "        text-align: right;\n",
              "    }\n",
              "</style>\n",
              "<table border=\"1\" class=\"dataframe\">\n",
              "  <thead>\n",
              "    <tr style=\"text-align: right;\">\n",
              "      <th></th>\n",
              "      <th>fare_amount</th>\n",
              "      <th>pickup_longitude</th>\n",
              "      <th>pickup_latitude</th>\n",
              "      <th>dropoff_longitude</th>\n",
              "      <th>dropoff_latitude</th>\n",
              "      <th>passenger_count</th>\n",
              "      <th>pickup_day</th>\n",
              "      <th>pickup_hour</th>\n",
              "      <th>pickup_day_of_week</th>\n",
              "      <th>pickup_month</th>\n",
              "      <th>pickup_year</th>\n",
              "    </tr>\n",
              "  </thead>\n",
              "  <tbody>\n",
              "    <tr>\n",
              "      <th>0</th>\n",
              "      <td>4.5</td>\n",
              "      <td>-73.844311</td>\n",
              "      <td>40.721319</td>\n",
              "      <td>-73.841610</td>\n",
              "      <td>40.712278</td>\n",
              "      <td>1</td>\n",
              "      <td>15</td>\n",
              "      <td>17</td>\n",
              "      <td>1</td>\n",
              "      <td>6</td>\n",
              "      <td>2009</td>\n",
              "    </tr>\n",
              "    <tr>\n",
              "      <th>1</th>\n",
              "      <td>16.9</td>\n",
              "      <td>-74.016048</td>\n",
              "      <td>40.711303</td>\n",
              "      <td>-73.979268</td>\n",
              "      <td>40.782004</td>\n",
              "      <td>1</td>\n",
              "      <td>5</td>\n",
              "      <td>16</td>\n",
              "      <td>2</td>\n",
              "      <td>1</td>\n",
              "      <td>2010</td>\n",
              "    </tr>\n",
              "    <tr>\n",
              "      <th>2</th>\n",
              "      <td>5.7</td>\n",
              "      <td>-73.982738</td>\n",
              "      <td>40.761270</td>\n",
              "      <td>-73.991242</td>\n",
              "      <td>40.750562</td>\n",
              "      <td>2</td>\n",
              "      <td>18</td>\n",
              "      <td>0</td>\n",
              "      <td>4</td>\n",
              "      <td>8</td>\n",
              "      <td>2011</td>\n",
              "    </tr>\n",
              "    <tr>\n",
              "      <th>3</th>\n",
              "      <td>7.7</td>\n",
              "      <td>-73.987130</td>\n",
              "      <td>40.733143</td>\n",
              "      <td>-73.991567</td>\n",
              "      <td>40.758092</td>\n",
              "      <td>1</td>\n",
              "      <td>21</td>\n",
              "      <td>4</td>\n",
              "      <td>6</td>\n",
              "      <td>4</td>\n",
              "      <td>2012</td>\n",
              "    </tr>\n",
              "    <tr>\n",
              "      <th>4</th>\n",
              "      <td>5.3</td>\n",
              "      <td>-73.968095</td>\n",
              "      <td>40.768008</td>\n",
              "      <td>-73.956655</td>\n",
              "      <td>40.783762</td>\n",
              "      <td>1</td>\n",
              "      <td>9</td>\n",
              "      <td>7</td>\n",
              "      <td>2</td>\n",
              "      <td>3</td>\n",
              "      <td>2010</td>\n",
              "    </tr>\n",
              "  </tbody>\n",
              "</table>\n",
              "</div>"
            ],
            "text/plain": [
              "   fare_amount  pickup_longitude  ...  pickup_month  pickup_year\n",
              "0          4.5        -73.844311  ...             6         2009\n",
              "1         16.9        -74.016048  ...             1         2010\n",
              "2          5.7        -73.982738  ...             8         2011\n",
              "3          7.7        -73.987130  ...             4         2012\n",
              "4          5.3        -73.968095  ...             3         2010\n",
              "\n",
              "[5 rows x 11 columns]"
            ]
          },
          "metadata": {},
          "execution_count": 25
        }
      ]
    },
    {
      "cell_type": "markdown",
      "source": [
        "##Location data"
      ],
      "metadata": {
        "id": "AHqfKTJy7uWv"
      }
    },
    {
      "cell_type": "code",
      "metadata": {
        "id": "zJHcphHOrPMz"
      },
      "source": [
        "# this function will also be used with the test set below\n",
        "def select_within_boundingbox(df, BB):\n",
        "    return (df.pickup_longitude >= BB[0]) & (df.pickup_longitude <= BB[1]) & \\\n",
        "           (df.pickup_latitude >= BB[2]) & (df.pickup_latitude <= BB[3]) & \\\n",
        "           (df.dropoff_longitude >= BB[0]) & (df.dropoff_longitude <= BB[1]) & \\\n",
        "           (df.dropoff_latitude >= BB[2]) & (df.dropoff_latitude <= BB[3])            \n"
      ],
      "execution_count": null,
      "outputs": []
    },
    {
      "cell_type": "code",
      "metadata": {
        "id": "h89IIyGns2QQ",
        "colab": {
          "base_uri": "https://localhost:8080/"
        },
        "outputId": "8ac26af3-0a1c-4e3b-f89c-39e795b61136"
      },
      "source": [
        "train_df.head()"
      ],
      "execution_count": null,
      "outputs": [
        {
          "output_type": "execute_result",
          "data": {
            "text/html": [
              "<div>\n",
              "<style scoped>\n",
              "    .dataframe tbody tr th:only-of-type {\n",
              "        vertical-align: middle;\n",
              "    }\n",
              "\n",
              "    .dataframe tbody tr th {\n",
              "        vertical-align: top;\n",
              "    }\n",
              "\n",
              "    .dataframe thead th {\n",
              "        text-align: right;\n",
              "    }\n",
              "</style>\n",
              "<table border=\"1\" class=\"dataframe\">\n",
              "  <thead>\n",
              "    <tr style=\"text-align: right;\">\n",
              "      <th></th>\n",
              "      <th>fare_amount</th>\n",
              "      <th>pickup_longitude</th>\n",
              "      <th>pickup_latitude</th>\n",
              "      <th>dropoff_longitude</th>\n",
              "      <th>dropoff_latitude</th>\n",
              "      <th>passenger_count</th>\n",
              "      <th>pickup_day</th>\n",
              "      <th>pickup_hour</th>\n",
              "      <th>pickup_day_of_week</th>\n",
              "      <th>pickup_month</th>\n",
              "      <th>pickup_year</th>\n",
              "    </tr>\n",
              "  </thead>\n",
              "  <tbody>\n",
              "    <tr>\n",
              "      <th>0</th>\n",
              "      <td>4.5</td>\n",
              "      <td>-73.844311</td>\n",
              "      <td>40.721319</td>\n",
              "      <td>-73.841610</td>\n",
              "      <td>40.712278</td>\n",
              "      <td>1</td>\n",
              "      <td>15</td>\n",
              "      <td>17</td>\n",
              "      <td>1</td>\n",
              "      <td>6</td>\n",
              "      <td>2009</td>\n",
              "    </tr>\n",
              "    <tr>\n",
              "      <th>1</th>\n",
              "      <td>16.9</td>\n",
              "      <td>-74.016048</td>\n",
              "      <td>40.711303</td>\n",
              "      <td>-73.979268</td>\n",
              "      <td>40.782004</td>\n",
              "      <td>1</td>\n",
              "      <td>5</td>\n",
              "      <td>16</td>\n",
              "      <td>2</td>\n",
              "      <td>1</td>\n",
              "      <td>2010</td>\n",
              "    </tr>\n",
              "    <tr>\n",
              "      <th>2</th>\n",
              "      <td>5.7</td>\n",
              "      <td>-73.982738</td>\n",
              "      <td>40.761270</td>\n",
              "      <td>-73.991242</td>\n",
              "      <td>40.750562</td>\n",
              "      <td>2</td>\n",
              "      <td>18</td>\n",
              "      <td>0</td>\n",
              "      <td>4</td>\n",
              "      <td>8</td>\n",
              "      <td>2011</td>\n",
              "    </tr>\n",
              "    <tr>\n",
              "      <th>3</th>\n",
              "      <td>7.7</td>\n",
              "      <td>-73.987130</td>\n",
              "      <td>40.733143</td>\n",
              "      <td>-73.991567</td>\n",
              "      <td>40.758092</td>\n",
              "      <td>1</td>\n",
              "      <td>21</td>\n",
              "      <td>4</td>\n",
              "      <td>6</td>\n",
              "      <td>4</td>\n",
              "      <td>2012</td>\n",
              "    </tr>\n",
              "    <tr>\n",
              "      <th>4</th>\n",
              "      <td>5.3</td>\n",
              "      <td>-73.968095</td>\n",
              "      <td>40.768008</td>\n",
              "      <td>-73.956655</td>\n",
              "      <td>40.783762</td>\n",
              "      <td>1</td>\n",
              "      <td>9</td>\n",
              "      <td>7</td>\n",
              "      <td>2</td>\n",
              "      <td>3</td>\n",
              "      <td>2010</td>\n",
              "    </tr>\n",
              "  </tbody>\n",
              "</table>\n",
              "</div>"
            ],
            "text/plain": [
              "   fare_amount  pickup_longitude  ...  pickup_month  pickup_year\n",
              "0          4.5        -73.844311  ...             6         2009\n",
              "1         16.9        -74.016048  ...             1         2010\n",
              "2          5.7        -73.982738  ...             8         2011\n",
              "3          7.7        -73.987130  ...             4         2012\n",
              "4          5.3        -73.968095  ...             3         2010\n",
              "\n",
              "[5 rows x 11 columns]"
            ]
          },
          "metadata": {},
          "execution_count": 27
        }
      ]
    },
    {
      "cell_type": "code",
      "metadata": {
        "id": "48VnMbJIuo1u"
      },
      "source": [
        "def distance(lat1, lat2, lon1,lon2):\n",
        "    p = 0.017453292519943295 # Pi/180\n",
        "    a = 0.5 - np.cos((lat2 - lat1) * p)/2 + np.cos(lat1 * p) * np.cos(lat2 * p) * (1 - np.cos((lon2 - lon1) * p)) / 2\n",
        "    return 0.6213712 * 12742 * np.arcsin(np.sqrt(a))"
      ],
      "execution_count": null,
      "outputs": []
    },
    {
      "cell_type": "code",
      "metadata": {
        "id": "zd0Iq7c5vJUt"
      },
      "source": [
        "train_df['trip_distance']=train_df.apply(lambda row:distance(row['pickup_latitude'],row['dropoff_latitude']\n",
        "                                                             ,row['pickup_longitude'],row['dropoff_longitude']),axis=1)"
      ],
      "execution_count": null,
      "outputs": []
    },
    {
      "cell_type": "code",
      "metadata": {
        "id": "HHovazzRvP2L",
        "colab": {
          "base_uri": "https://localhost:8080/"
        },
        "outputId": "956ac81e-2052-40ef-c9f2-5f7da1f7410d"
      },
      "source": [
        "sns.kdeplot(train_df['trip_distance'].values).set_title(\"Distribution of Trip Distance (log scale)\")"
      ],
      "execution_count": null,
      "outputs": [
        {
          "output_type": "execute_result",
          "data": {
            "text/plain": [
              "Text(0.5, 1.0, 'Distribution of Trip Distance (log scale)')"
            ]
          },
          "metadata": {},
          "execution_count": 30
        },
        {
          "output_type": "display_data",
          "data": {
            "image/png": "[encoded data removed]",
            "text/plain": [
              "<Figure size 432x288 with 1 Axes>"
            ]
          },
          "metadata": {
            "needs_background": "light"
          }
        }
      ]
    },
    {
      "cell_type": "code",
      "metadata": {
        "id": "EO5cWmIIvb0R",
        "colab": {
          "base_uri": "https://localhost:8080/"
        },
        "outputId": "322f58b8-68fa-4839-9ac7-5168741b1224"
      },
      "source": [
        "a_plot=sns.lmplot(x='trip_distance', y='fare_amount',data=train_df)\n",
        "a_plot.set(xlim=(0, 80))\n",
        "a_plot.set(ylim=(0, 500))\n",
        "\n",
        "plt.title('Distance of Ride Vs Taxi Fare')\n",
        "# Set x-axis label\n",
        "plt.xlabel('Distance of Ride')\n",
        "# Set y-axis label\n",
        "plt.ylabel('Taxi Fare')"
      ],
      "execution_count": null,
      "outputs": [
        {
          "output_type": "execute_result",
          "data": {
            "text/plain": [
              "Text(12.456249999999997, 0.5, 'Taxi Fare')"
            ]
          },
          "metadata": {},
          "execution_count": 31
        },
        {
          "output_type": "display_data",
          "data": {
            "image/png": "[encoded data removed]",
            "text/plain": [
              "<Figure size 360x360 with 1 Axes>"
            ]
          },
          "metadata": {
            "needs_background": "light"
          }
        }
      ]
    },
    {
      "cell_type": "code",
      "metadata": {
        "id": "p4zlhRWhvh25",
        "colab": {
          "base_uri": "https://localhost:8080/"
        },
        "outputId": "89c3b9c5-cfe0-484c-faba-14c6f92b6593"
      },
      "source": [
        "train_df.head()"
      ],
      "execution_count": null,
      "outputs": [
        {
          "output_type": "execute_result",
          "data": {
            "text/html": [
              "<div>\n",
              "<style scoped>\n",
              "    .dataframe tbody tr th:only-of-type {\n",
              "        vertical-align: middle;\n",
              "    }\n",
              "\n",
              "    .dataframe tbody tr th {\n",
              "        vertical-align: top;\n",
              "    }\n",
              "\n",
              "    .dataframe thead th {\n",
              "        text-align: right;\n",
              "    }\n",
              "</style>\n",
              "<table border=\"1\" class=\"dataframe\">\n",
              "  <thead>\n",
              "    <tr style=\"text-align: right;\">\n",
              "      <th></th>\n",
              "      <th>fare_amount</th>\n",
              "      <th>pickup_longitude</th>\n",
              "      <th>pickup_latitude</th>\n",
              "      <th>dropoff_longitude</th>\n",
              "      <th>dropoff_latitude</th>\n",
              "      <th>passenger_count</th>\n",
              "      <th>pickup_day</th>\n",
              "      <th>pickup_hour</th>\n",
              "      <th>pickup_day_of_week</th>\n",
              "      <th>pickup_month</th>\n",
              "      <th>pickup_year</th>\n",
              "      <th>trip_distance</th>\n",
              "    </tr>\n",
              "  </thead>\n",
              "  <tbody>\n",
              "    <tr>\n",
              "      <th>0</th>\n",
              "      <td>4.5</td>\n",
              "      <td>-73.844311</td>\n",
              "      <td>40.721319</td>\n",
              "      <td>-73.841610</td>\n",
              "      <td>40.712278</td>\n",
              "      <td>1</td>\n",
              "      <td>15</td>\n",
              "      <td>17</td>\n",
              "      <td>1</td>\n",
              "      <td>6</td>\n",
              "      <td>2009</td>\n",
              "      <td>0.640487</td>\n",
              "    </tr>\n",
              "    <tr>\n",
              "      <th>1</th>\n",
              "      <td>16.9</td>\n",
              "      <td>-74.016048</td>\n",
              "      <td>40.711303</td>\n",
              "      <td>-73.979268</td>\n",
              "      <td>40.782004</td>\n",
              "      <td>1</td>\n",
              "      <td>5</td>\n",
              "      <td>16</td>\n",
              "      <td>2</td>\n",
              "      <td>1</td>\n",
              "      <td>2010</td>\n",
              "      <td>5.250670</td>\n",
              "    </tr>\n",
              "    <tr>\n",
              "      <th>2</th>\n",
              "      <td>5.7</td>\n",
              "      <td>-73.982738</td>\n",
              "      <td>40.761270</td>\n",
              "      <td>-73.991242</td>\n",
              "      <td>40.750562</td>\n",
              "      <td>2</td>\n",
              "      <td>18</td>\n",
              "      <td>0</td>\n",
              "      <td>4</td>\n",
              "      <td>8</td>\n",
              "      <td>2011</td>\n",
              "      <td>0.863411</td>\n",
              "    </tr>\n",
              "    <tr>\n",
              "      <th>3</th>\n",
              "      <td>7.7</td>\n",
              "      <td>-73.987130</td>\n",
              "      <td>40.733143</td>\n",
              "      <td>-73.991567</td>\n",
              "      <td>40.758092</td>\n",
              "      <td>1</td>\n",
              "      <td>21</td>\n",
              "      <td>4</td>\n",
              "      <td>6</td>\n",
              "      <td>4</td>\n",
              "      <td>2012</td>\n",
              "      <td>1.739386</td>\n",
              "    </tr>\n",
              "    <tr>\n",
              "      <th>4</th>\n",
              "      <td>5.3</td>\n",
              "      <td>-73.968095</td>\n",
              "      <td>40.768008</td>\n",
              "      <td>-73.956655</td>\n",
              "      <td>40.783762</td>\n",
              "      <td>1</td>\n",
              "      <td>9</td>\n",
              "      <td>7</td>\n",
              "      <td>2</td>\n",
              "      <td>3</td>\n",
              "      <td>2010</td>\n",
              "      <td>1.242218</td>\n",
              "    </tr>\n",
              "  </tbody>\n",
              "</table>\n",
              "</div>"
            ],
            "text/plain": [
              "   fare_amount  pickup_longitude  ...  pickup_year  trip_distance\n",
              "0          4.5        -73.844311  ...         2009       0.640487\n",
              "1         16.9        -74.016048  ...         2010       5.250670\n",
              "2          5.7        -73.982738  ...         2011       0.863411\n",
              "3          7.7        -73.987130  ...         2012       1.739386\n",
              "4          5.3        -73.968095  ...         2010       1.242218\n",
              "\n",
              "[5 rows x 12 columns]"
            ]
          },
          "metadata": {},
          "execution_count": 32
        }
      ]
    },
    {
      "cell_type": "code",
      "metadata": {
        "id": "x3l5WXRwvph3"
      },
      "source": [
        "long_trips=train_df[train_df['trip_distance']>=50]"
      ],
      "execution_count": null,
      "outputs": []
    },
    {
      "cell_type": "code",
      "metadata": {
        "id": "gaoKweGyvsyo"
      },
      "source": [
        "nyc_boroughs={\n",
        "    'manhattan':{\n",
        "        'min_lng':-74.0479,\n",
        "        'min_lat':40.6829,\n",
        "        'max_lng':-73.9067,\n",
        "        'max_lat':40.8820\n",
        "    },\n",
        "    \n",
        "    'queens':{\n",
        "        'min_lng':-73.9630,\n",
        "        'min_lat':40.5431,\n",
        "        'max_lng':-73.7004,\n",
        "        'max_lat':40.8007\n",
        "\n",
        "    },\n",
        "\n",
        "    'brooklyn':{\n",
        "        'min_lng':-74.0421,\n",
        "        'min_lat':40.5707,\n",
        "        'max_lng':-73.8334,\n",
        "        'max_lat':40.7395\n",
        "\n",
        "    },\n",
        "\n",
        "    'bronx':{\n",
        "        'min_lng':-73.9339,\n",
        "        'min_lat':40.7855,\n",
        "        'max_lng':-73.7654,\n",
        "        'max_lat':40.9176\n",
        "\n",
        "    },\n",
        "\n",
        "    'staten_island':{\n",
        "        'min_lng':-74.2558,\n",
        "        'min_lat':40.4960,\n",
        "        'max_lng':-74.0522,\n",
        "        'max_lat':40.6490\n",
        "        \n",
        "    }  \n",
        "}"
      ],
      "execution_count": null,
      "outputs": []
    },
    {
      "cell_type": "code",
      "metadata": {
        "id": "gT5CPV6FvxL0"
      },
      "source": [
        "def getBorough(lat,lng):\n",
        "    \n",
        "    locs=nyc_boroughs.keys()\n",
        "    for loc in locs:\n",
        "        if lat>=nyc_boroughs[loc]['min_lat'] and lat<=nyc_boroughs[loc]['max_lat'] and lng>=nyc_boroughs[loc]['min_lng'] and lng<=nyc_boroughs[loc]['max_lng']:\n",
        "            return loc\n",
        "    return 'others'"
      ],
      "execution_count": null,
      "outputs": []
    },
    {
      "cell_type": "code",
      "metadata": {
        "id": "RWvruOmavz9Y"
      },
      "source": [
        "train_df['pickup_borough']=train_df.apply(lambda row:getBorough(row['pickup_latitude'],row['pickup_longitude']),axis=1)\n",
        "train_df['dropoff_borough']=train_df.apply(lambda row:getBorough(row['dropoff_latitude'],row['dropoff_longitude']),axis=1)"
      ],
      "execution_count": null,
      "outputs": []
    },
    {
      "cell_type": "code",
      "metadata": {
        "id": "lmiJg3V-v6gg",
        "colab": {
          "base_uri": "https://localhost:8080/"
        },
        "outputId": "2a7bd17a-a30d-4a66-ac70-3e3cc605449e"
      },
      "source": [
        "plt.figure(figsize=(8,5))\n",
        "sns.countplot(y=train_df['pickup_borough'])\n",
        "plt.title(\"Distribution of Pickup Boroughs\")"
      ],
      "execution_count": null,
      "outputs": [
        {
          "output_type": "execute_result",
          "data": {
            "text/plain": [
              "Text(0.5, 1.0, 'Distribution of Pickup Boroughs')"
            ]
          },
          "metadata": {},
          "execution_count": 37
        },
        {
          "output_type": "display_data",
          "data": {
            "image/png": "[encoded data removed]",
            "text/plain": [
              "<Figure size 576x360 with 1 Axes>"
            ]
          },
          "metadata": {
            "needs_background": "light"
          }
        }
      ]
    },
    {
      "cell_type": "code",
      "metadata": {
        "id": "WVMWgz0lv9Re",
        "colab": {
          "base_uri": "https://localhost:8080/"
        },
        "outputId": "2a0210c8-73fa-49b4-f3e0-9b843a431708"
      },
      "source": [
        "plt.figure(figsize=(16,10))\n",
        "plt.title(\"Distribution of Fare Amount Across Buroughs\")\n",
        "i=1\n",
        "for key in nyc_boroughs.keys():\n",
        "    plt.subplot(3,2,i)\n",
        "    sns.kdeplot(np.log(train_df.loc[train_df['pickup_borough']==key,'fare_amount'].values),label='Pickup '+ key)\n",
        "    sns.kdeplot(np.log(train_df.loc[train_df['dropoff_borough']==key,'fare_amount'].values),label='Dropoff'+ key).set_title(\"Fare Amount (log scale) for \"+key)\n",
        "    i=i+1"
      ],
      "execution_count": null,
      "outputs": [
        {
          "output_type": "stream",
          "name": "stderr",
          "text": [
            "/usr/local/lib/python3.7/dist-packages/seaborn/distributions.py:316: UserWarning: Dataset has 0 variance; skipping density estimate. Pass `warn_singular=False` to disable this warning.\n",
            "  warnings.warn(msg, UserWarning)\n"
          ]
        },
        {
          "output_type": "display_data",
          "data": {
            "image/png": "[encoded data removed]",
            "text/plain": [
              "<Figure size 1152x720 with 5 Axes>"
            ]
          },
          "metadata": {
            "needs_background": "light"
          }
        }
      ]
    },
    {
      "cell_type": "code",
      "metadata": {
        "id": "OWKSOq0_wCju",
        "colab": {
          "base_uri": "https://localhost:8080/"
        },
        "outputId": "cea791f6-5ce9-43bc-b742-28de3a0b3f13"
      },
      "source": [
        "plt.figure(figsize=(24,15))\n",
        "plt.title(\"Distribution of Trip Distances Across Buroughs\")\n",
        "i=1\n",
        "for key in nyc_boroughs.keys():\n",
        "    plt.subplot(3,2,i)\n",
        "    sns.kdeplot(train_df.loc[train_df['pickup_borough']==key,'trip_distance'].values,label='Pickup '+ key)\n",
        "    sns.kdeplot(train_df.loc[train_df['dropoff_borough']==key,'trip_distance'].values,label='Dropoff'+ key).set_title\n",
        "    (\"Trip Distance (log) for \"+key)\n",
        "    i=i+1"
      ],
      "execution_count": null,
      "outputs": [
        {
          "output_type": "stream",
          "name": "stderr",
          "text": [
            "/usr/local/lib/python3.7/dist-packages/seaborn/distributions.py:316: UserWarning: Dataset has 0 variance; skipping density estimate. Pass `warn_singular=False` to disable this warning.\n",
            "  warnings.warn(msg, UserWarning)\n"
          ]
        },
        {
          "output_type": "display_data",
          "data": {
            "image/png": "[encoded data removed]",
            "text/plain": [
              "<Figure size 1728x1080 with 5 Axes>"
            ]
          },
          "metadata": {
            "needs_background": "light"
          }
        }
      ]
    },
    {
      "cell_type": "code",
      "metadata": {
        "id": "JavUjM8DwMKV"
      },
      "source": [
        "lower_manhattan_boundary={'min_lng': -74.0194,\n",
        "                          'min_lat':40.6997,\n",
        "                          'max_lng':-73.9716,\n",
        "                          'max_lat':40.7427}\n",
        "\n",
        "def isLowerManhattan(lat,lng):\n",
        "    if lat>=lower_manhattan_boundary['min_lat'] and lat<=lower_manhattan_boundary['max_lat'] and lng>=lower_manhattan_boundary['min_lng'] and lng<=lower_manhattan_boundary['max_lng']:\n",
        "        return 1\n",
        "    else:\n",
        "        return 0"
      ],
      "execution_count": null,
      "outputs": []
    },
    {
      "cell_type": "code",
      "metadata": {
        "id": "7F-os-0sxJ-_"
      },
      "source": [
        "train_df['is_pickup_lower_manhattan']=train_df.apply(lambda row:isLowerManhattan(row['pickup_latitude'],row['pickup_longitude']),axis=1)\n",
        "train_df['is_dropoff_lower_manhattan']=train_df.apply(lambda row:isLowerManhattan(row['dropoff_latitude'],row['dropoff_longitude']),axis=1)"
      ],
      "execution_count": null,
      "outputs": []
    },
    {
      "cell_type": "code",
      "metadata": {
        "id": "V7DR5zzYx1vg",
        "colab": {
          "base_uri": "https://localhost:8080/"
        },
        "outputId": "aafc7788-8189-4009-db0f-3f08b5b0d72a"
      },
      "source": [
        "train_df.head()"
      ],
      "execution_count": null,
      "outputs": [
        {
          "output_type": "execute_result",
          "data": {
            "text/html": [
              "<div>\n",
              "<style scoped>\n",
              "    .dataframe tbody tr th:only-of-type {\n",
              "        vertical-align: middle;\n",
              "    }\n",
              "\n",
              "    .dataframe tbody tr th {\n",
              "        vertical-align: top;\n",
              "    }\n",
              "\n",
              "    .dataframe thead th {\n",
              "        text-align: right;\n",
              "    }\n",
              "</style>\n",
              "<table border=\"1\" class=\"dataframe\">\n",
              "  <thead>\n",
              "    <tr style=\"text-align: right;\">\n",
              "      <th></th>\n",
              "      <th>fare_amount</th>\n",
              "      <th>pickup_longitude</th>\n",
              "      <th>pickup_latitude</th>\n",
              "      <th>dropoff_longitude</th>\n",
              "      <th>dropoff_latitude</th>\n",
              "      <th>passenger_count</th>\n",
              "      <th>pickup_day</th>\n",
              "      <th>pickup_hour</th>\n",
              "      <th>pickup_day_of_week</th>\n",
              "      <th>pickup_month</th>\n",
              "      <th>pickup_year</th>\n",
              "      <th>trip_distance</th>\n",
              "      <th>pickup_borough</th>\n",
              "      <th>dropoff_borough</th>\n",
              "      <th>is_pickup_lower_manhattan</th>\n",
              "      <th>is_dropoff_lower_manhattan</th>\n",
              "    </tr>\n",
              "  </thead>\n",
              "  <tbody>\n",
              "    <tr>\n",
              "      <th>0</th>\n",
              "      <td>4.5</td>\n",
              "      <td>-73.844311</td>\n",
              "      <td>40.721319</td>\n",
              "      <td>-73.841610</td>\n",
              "      <td>40.712278</td>\n",
              "      <td>1</td>\n",
              "      <td>15</td>\n",
              "      <td>17</td>\n",
              "      <td>1</td>\n",
              "      <td>6</td>\n",
              "      <td>2009</td>\n",
              "      <td>0.640487</td>\n",
              "      <td>queens</td>\n",
              "      <td>queens</td>\n",
              "      <td>0</td>\n",
              "      <td>0</td>\n",
              "    </tr>\n",
              "    <tr>\n",
              "      <th>1</th>\n",
              "      <td>16.9</td>\n",
              "      <td>-74.016048</td>\n",
              "      <td>40.711303</td>\n",
              "      <td>-73.979268</td>\n",
              "      <td>40.782004</td>\n",
              "      <td>1</td>\n",
              "      <td>5</td>\n",
              "      <td>16</td>\n",
              "      <td>2</td>\n",
              "      <td>1</td>\n",
              "      <td>2010</td>\n",
              "      <td>5.250670</td>\n",
              "      <td>manhattan</td>\n",
              "      <td>manhattan</td>\n",
              "      <td>1</td>\n",
              "      <td>0</td>\n",
              "    </tr>\n",
              "    <tr>\n",
              "      <th>2</th>\n",
              "      <td>5.7</td>\n",
              "      <td>-73.982738</td>\n",
              "      <td>40.761270</td>\n",
              "      <td>-73.991242</td>\n",
              "      <td>40.750562</td>\n",
              "      <td>2</td>\n",
              "      <td>18</td>\n",
              "      <td>0</td>\n",
              "      <td>4</td>\n",
              "      <td>8</td>\n",
              "      <td>2011</td>\n",
              "      <td>0.863411</td>\n",
              "      <td>manhattan</td>\n",
              "      <td>manhattan</td>\n",
              "      <td>0</td>\n",
              "      <td>0</td>\n",
              "    </tr>\n",
              "    <tr>\n",
              "      <th>3</th>\n",
              "      <td>7.7</td>\n",
              "      <td>-73.987130</td>\n",
              "      <td>40.733143</td>\n",
              "      <td>-73.991567</td>\n",
              "      <td>40.758092</td>\n",
              "      <td>1</td>\n",
              "      <td>21</td>\n",
              "      <td>4</td>\n",
              "      <td>6</td>\n",
              "      <td>4</td>\n",
              "      <td>2012</td>\n",
              "      <td>1.739386</td>\n",
              "      <td>manhattan</td>\n",
              "      <td>manhattan</td>\n",
              "      <td>1</td>\n",
              "      <td>0</td>\n",
              "    </tr>\n",
              "    <tr>\n",
              "      <th>4</th>\n",
              "      <td>5.3</td>\n",
              "      <td>-73.968095</td>\n",
              "      <td>40.768008</td>\n",
              "      <td>-73.956655</td>\n",
              "      <td>40.783762</td>\n",
              "      <td>1</td>\n",
              "      <td>9</td>\n",
              "      <td>7</td>\n",
              "      <td>2</td>\n",
              "      <td>3</td>\n",
              "      <td>2010</td>\n",
              "      <td>1.242218</td>\n",
              "      <td>manhattan</td>\n",
              "      <td>manhattan</td>\n",
              "      <td>0</td>\n",
              "      <td>0</td>\n",
              "    </tr>\n",
              "  </tbody>\n",
              "</table>\n",
              "</div>"
            ],
            "text/plain": [
              "   fare_amount  ...  is_dropoff_lower_manhattan\n",
              "0          4.5  ...                           0\n",
              "1         16.9  ...                           0\n",
              "2          5.7  ...                           0\n",
              "3          7.7  ...                           0\n",
              "4          5.3  ...                           0\n",
              "\n",
              "[5 rows x 16 columns]"
            ]
          },
          "metadata": {},
          "execution_count": 42
        }
      ]
    },
    {
      "cell_type": "code",
      "metadata": {
        "id": "9r5sL8vXx2YR"
      },
      "source": [
        "nyc_airports={'JFK':{'min_lng':-73.8352,\n",
        "     'min_lat':40.6195,\n",
        "     'max_lng':-73.7401, \n",
        "     'max_lat':40.6659},\n",
        "              \n",
        "    'EWR':{'min_lng':-74.1925,\n",
        "            'min_lat':40.6700, \n",
        "            'max_lng':-74.1531, \n",
        "            'max_lat':40.7081\n",
        "\n",
        "        },\n",
        "    'LaGuardia':{'min_lng':-73.8895, \n",
        "                  'min_lat':40.7664, \n",
        "                  'max_lng':-73.8550, \n",
        "                  'max_lat':40.7931\n",
        "        \n",
        "    }\n",
        "    \n",
        "}\n",
        "def isAirport(latitude,longitude,airport_name='JFK'):\n",
        "    \n",
        "    if latitude>=nyc_airports[airport_name]['min_lat'] and latitude<=nyc_airports[airport_name]['max_lat'] and longitude>=nyc_airports[airport_name]['min_lng'] and longitude<=nyc_airports[airport_name]['max_lng']:\n",
        "        return 1\n",
        "    else:\n",
        "        return 0"
      ],
      "execution_count": null,
      "outputs": []
    },
    {
      "cell_type": "code",
      "metadata": {
        "id": "bj49lhrfx9SG"
      },
      "source": [
        "train_df['is_pickup_JFK']=train_df.apply(lambda row:isAirport(row['pickup_latitude'],row['pickup_longitude'],'JFK'),axis=1)\n",
        "train_df['is_dropoff_JFK']=train_df.apply(lambda row:isAirport(row['dropoff_latitude'],row['dropoff_longitude'],'JFK'),axis=1)"
      ],
      "execution_count": null,
      "outputs": []
    },
    {
      "cell_type": "code",
      "metadata": {
        "id": "0pr0QqlqyEpo"
      },
      "source": [
        "train_df['is_pickup_EWR']=train_df.apply(lambda row:isAirport(row['pickup_latitude'],row['pickup_longitude'],'EWR'),axis=1)\n",
        "train_df['is_dropoff_EWR']=train_df.apply(lambda row:isAirport(row['dropoff_latitude'],row['dropoff_longitude'],'EWR'),axis=1)"
      ],
      "execution_count": null,
      "outputs": []
    },
    {
      "cell_type": "code",
      "metadata": {
        "id": "9Off58lnyKWZ"
      },
      "source": [
        "train_df['is_pickup_la_guardia']=train_df.apply(lambda row:isAirport(row['pickup_latitude'],row['pickup_longitude'],'LaGuardia'),axis=1)\n",
        "train_df['is_dropoff_la_guardia']=train_df.apply(lambda row:isAirport(row['dropoff_latitude'],row['dropoff_longitude'],'LaGuardia'),axis=1)"
      ],
      "execution_count": null,
      "outputs": []
    },
    {
      "cell_type": "code",
      "metadata": {
        "id": "-pOpmdX3yQ4H"
      },
      "source": [
        "mean=np.mean(train_df['pickup_hour'].value_counts())\n",
        "dev=np.std(train_df['pickup_hour'].value_counts())\n",
        "taxi_count=train_df['pickup_hour'].value_counts()\n",
        "m1=mean-dev\n",
        "m2=mean+dev"
      ],
      "execution_count": null,
      "outputs": []
    },
    {
      "cell_type": "code",
      "metadata": {
        "id": "FLty_aHYyT5_"
      },
      "source": [
        "from sklearn.preprocessing import LabelEncoder\n",
        "\n",
        "number = LabelEncoder()\n",
        "train_df[\"pickup_borough\"] = number.fit_transform(train_df[\"pickup_borough\"].astype('str'))\n",
        "train_df[\"dropoff_borough\"] = number.fit_transform(train_df[\"dropoff_borough\"].astype('str'))"
      ],
      "execution_count": null,
      "outputs": []
    },
    {
      "cell_type": "markdown",
      "source": [
        "##Feature Elimination using Spearman correlation"
      ],
      "metadata": {
        "id": "CRJXMfQCh4xz"
      }
    },
    {
      "cell_type": "code",
      "metadata": {
        "id": "h_qN9R6X8p_F",
        "colab": {
          "base_uri": "https://localhost:8080/"
        },
        "outputId": "2daf02c7-bd98-4f9a-a7e1-9519ba94de10"
      },
      "source": [
        "spearman_correlation = train_df.corr(method=\"spearman\")\n",
        "\n",
        "spearman_correlation['features'] = spearman_correlation.index\n",
        "print(spearman_correlation['fare_amount'])"
      ],
      "execution_count": null,
      "outputs": [
        {
          "output_type": "stream",
          "name": "stdout",
          "text": [
            "fare_amount                   1.000000\n",
            "pickup_longitude              0.044799\n",
            "pickup_latitude              -0.073185\n",
            "dropoff_longitude             0.130486\n",
            "dropoff_latitude             -0.066624\n",
            "passenger_count               0.028128\n",
            "pickup_day                   -0.008141\n",
            "pickup_hour                  -0.012802\n",
            "pickup_day_of_week           -0.008087\n",
            "pickup_month                  0.036534\n",
            "pickup_year                   0.137468\n",
            "trip_distance                 0.848801\n",
            "pickup_borough                0.238552\n",
            "dropoff_borough               0.176572\n",
            "is_pickup_lower_manhattan     0.018168\n",
            "is_dropoff_lower_manhattan   -0.050381\n",
            "is_pickup_JFK                 0.187564\n",
            "is_dropoff_JFK                0.130428\n",
            "is_pickup_EWR                      NaN\n",
            "is_dropoff_EWR                0.066088\n",
            "is_pickup_la_guardia          0.205976\n",
            "is_dropoff_la_guardia         0.166415\n",
            "Name: fare_amount, dtype: float64\n"
          ]
        }
      ]
    },
    {
      "cell_type": "code",
      "metadata": {
        "id": "621I6HCbDk2u",
        "colab": {
          "base_uri": "https://localhost:8080/"
        },
        "outputId": "eb40fb34-a9de-4943-ce1c-6e8851c1f450"
      },
      "source": [
        "ax = spearman_correlation.plot.bar(x='features', y='fare_amount', rot=90)"
      ],
      "execution_count": null,
      "outputs": [
        {
          "output_type": "display_data",
          "data": {
            "image/png": "[encoded data removed]",
            "text/plain": [
              "<Figure size 432x288 with 1 Axes>"
            ]
          },
          "metadata": {
            "needs_background": "light"
          }
        }
      ]
    },
    {
      "cell_type": "code",
      "metadata": {
        "id": "t20RiqWQPzXU",
        "colab": {
          "base_uri": "https://localhost:8080/"
        },
        "outputId": "873cb81a-4eb5-450b-a857-df25fe567f88"
      },
      "source": [
        "print(train_df.columns)"
      ],
      "execution_count": null,
      "outputs": [
        {
          "output_type": "stream",
          "name": "stdout",
          "text": [
            "Index(['fare_amount', 'pickup_longitude', 'pickup_latitude',\n",
            "       'dropoff_longitude', 'dropoff_latitude', 'passenger_count',\n",
            "       'pickup_day', 'pickup_hour', 'pickup_day_of_week', 'pickup_month',\n",
            "       'pickup_year', 'trip_distance', 'pickup_borough', 'dropoff_borough',\n",
            "       'is_pickup_lower_manhattan', 'is_dropoff_lower_manhattan',\n",
            "       'is_pickup_JFK', 'is_dropoff_JFK', 'is_pickup_EWR', 'is_dropoff_EWR',\n",
            "       'is_pickup_la_guardia', 'is_dropoff_la_guardia'],\n",
            "      dtype='object')\n"
          ]
        }
      ]
    },
    {
      "cell_type": "code",
      "metadata": {
        "id": "T0MxkosF7hnM"
      },
      "source": [
        "train_df = train_df.drop(['is_pickup_EWR', 'pickup_day', 'pickup_day_of_week', 'pickup_month'],axis=1)"
      ],
      "execution_count": null,
      "outputs": []
    },
    {
      "cell_type": "markdown",
      "source": [
        "##Splitting dataset into Train and Test sets"
      ],
      "metadata": {
        "id": "YP4b9nXr7-Xs"
      }
    },
    {
      "cell_type": "code",
      "metadata": {
        "id": "twt9R_jvygqS"
      },
      "source": [
        "X=train_df.drop(['fare_amount'],axis=1)\n",
        "y=train_df['fare_amount']\n",
        "X_train, X_test, y_train, y_test = train_test_split(X,y, test_size=0.2)"
      ],
      "execution_count": null,
      "outputs": []
    },
    {
      "cell_type": "markdown",
      "metadata": {
        "id": "Zj5LdEQGkLEV"
      },
      "source": [
        "##Custom Implementation of Decision Tree Regressor\n",
        "\n",
        "---\n",
        "\n"
      ]
    },
    {
      "cell_type": "code",
      "metadata": {
        "id": "T-Jzry_M13Ae"
      },
      "source": [
        "# Importing basic libraries\n",
        "import numpy as np\n",
        "import pandas as pd\n",
        "\n",
        "# Class for constructing decision tree node\n",
        "class TreeNode():\n",
        "    def __init__(self, \n",
        "                 idxFeature=None, \n",
        "                 variance_reduction=None, \n",
        "                 threshold_value=None, \n",
        "                 tree_left=None, \n",
        "                 tree_right=None,                 \n",
        "                 leafNode_value=None):\n",
        "        self.idxFeature = idxFeature        \n",
        "        self.variance_reduction = variance_reduction\n",
        "        self.threshold_value = threshold_value\n",
        "        self.tree_left = tree_left\n",
        "        self.tree_right = tree_right\n",
        "        self.leafNode_value = leafNode_value"
      ],
      "execution_count": null,
      "outputs": []
    },
    {
      "cell_type": "code",
      "metadata": {
        "id": "9SMgvZ1B1_Fj"
      },
      "source": [
        "class Decision_Tree_Regressor():\n",
        "    def __init__(self, \n",
        "                 min_samples_split=2, \n",
        "                 max_depth=2):\n",
        "        self.root = None\n",
        "        self.min_samples_split = min_samples_split\n",
        "        self.max_depth = max_depth        \n",
        "    \n",
        "    # This function helps determine leaf node value by computing mean. \n",
        "    def compute_leaf_value(self, Y):        \n",
        "        mean_value = np.mean(Y)\n",
        "        return mean_value  \n",
        "\n",
        "    # This function helps split data based on threshold value.\n",
        "    def split(self, \n",
        "              dataframe, \n",
        "              idxFeature, \n",
        "              threshold_value):        \n",
        "        dataframe_tree_left = np.array([dr for dr in dataframe \n",
        "                                        if dr[idxFeature]<=threshold_value])\n",
        "        dataframe_tree_right = np.array([dr for dr in dataframe \n",
        "                                         if dr[idxFeature]>threshold_value])\n",
        "        \n",
        "        return dataframe_tree_left, dataframe_tree_right\n",
        "    \n",
        "     # This function helps calculate variance reduction of a Node.\n",
        "    def variance_reduction(self, \n",
        "                           parent_Node, \n",
        "                           leftChild_Node, \n",
        "                           rightChild_Node):\n",
        "        nParentNode = len(parent_Node)\n",
        "        nleft = len(leftChild_Node) / nParentNode\n",
        "        nright = len(rightChild_Node) / nParentNode\n",
        "\n",
        "        weighted_vreduc_left_right = (nleft * np.var(leftChild_Node) + \n",
        "                                   nright * np.var(rightChild_Node))\n",
        "        vreduction_value = np.var(parent_Node) - weighted_vreduc_left_right\n",
        "\n",
        "        return vreduction_value\n",
        "\n",
        "    # This function recursively builds the tree on basis of best splitting criterion.    \n",
        "    def construct_tree(self, \n",
        "                       dataframe, \n",
        "                       currentDepth=0):\n",
        "        data_X = dataframe[:,:-1]\n",
        "        data_Y = dataframe[:,-1]\n",
        "\n",
        "        split_criterion_best = {}\n",
        "\n",
        "        nSamples, nFeatures = np.shape(X)\n",
        "\n",
        "        # split until stopping conditions are met\n",
        "        if nSamples >= self.min_samples_split and currentDepth <= self.max_depth:\n",
        "            # find the best split\n",
        "            split_criterion_best = self.get_split_criterion_best(dataframe, nSamples, nFeatures)\n",
        "            # check if information gain is positive\n",
        "            if \"variance_reduction\" in split_criterion_best and split_criterion_best[\"variance_reduction\"]>0:\n",
        "                # recursively call left and right sub tree\n",
        "                tree_left_subtree = self.construct_tree(split_criterion_best[\"dataframe_tree_left\"], currentDepth+1)\n",
        "                tree_right_subtree = self.construct_tree(split_criterion_best[\"dataframe_tree_right\"], currentDepth+1)\n",
        "                # return decision node\n",
        "                return TreeNode(idxFeature = split_criterion_best[\"idxFeature\"], \n",
        "                                variance_reduction = split_criterion_best[\"variance_reduction\"],\n",
        "                                threshold_value = split_criterion_best[\"threshold_value\"], \n",
        "                                tree_left = tree_left_subtree, \n",
        "                                tree_right = tree_right_subtree)\n",
        "        \n",
        "        # compute leaf node\n",
        "        leaf_value = self.compute_leaf_value(data_Y)\n",
        "        # return leaf node\n",
        "        return TreeNode(leafNode_value=leaf_value)\n",
        "    \n",
        "    # This function helps find the best splitting node.\n",
        "    def get_split_criterion_best(self, \n",
        "                                 dataframe, \n",
        "                                 nSamples, \n",
        "                                 nFeatures):\n",
        "              \n",
        "        # Maintain a dictionary to store the best split\n",
        "        split_criterion_best = {}\n",
        "\n",
        "        # To keep track of max variance for a feature.\n",
        "        max_variance_reduction = -float(\"inf\")\n",
        "\n",
        "        # loop over all the features\n",
        "        for idxFeature in range(nFeatures):\n",
        "            feature_values = dataframe[:, idxFeature]\n",
        "            possible_threshold_values = np.unique(feature_values)\n",
        "            # loop over all the feature values present in the data\n",
        "            for threshold_value in possible_threshold_values:\n",
        "                # get current split\n",
        "                dataframe_tree_left, dataframe_tree_right = self.split(dataframe, idxFeature, threshold_value)\n",
        "                # check if childs are not null\n",
        "                if len(dataframe_tree_left)>0 and len(dataframe_tree_right)>0:\n",
        "                    parent_y = dataframe[:, -1]\n",
        "                    tree_left_y = dataframe_tree_left[:, -1]\n",
        "                    tree_right_y = dataframe_tree_right[:, -1]\n",
        "                    # compute information gain\n",
        "                    cur_variance_reduction = self.variance_reduction(parent_y, tree_left_y, tree_right_y)\n",
        "                    # update the best split only if max variance reduction is less than new value .i.e good split\n",
        "                    if cur_variance_reduction > max_variance_reduction: \n",
        "                        # Update max variance reduction\n",
        "                        max_variance_reduction = cur_variance_reduction     \n",
        "                        # Update corresponding values.\n",
        "                        split_criterion_best[\"variance_reduction\"] = cur_variance_reduction\n",
        "                        split_criterion_best[\"threshold_value\"] = threshold_value\n",
        "                        split_criterion_best[\"idxFeature\"] = idxFeature            \n",
        "                        split_criterion_best[\"dataframe_tree_left\"] = dataframe_tree_left\n",
        "                        split_criterion_best[\"dataframe_tree_right\"] = dataframe_tree_right\n",
        "\n",
        "        # return best split\n",
        "        return split_criterion_best  \n",
        "\n",
        "    # Function to train the decision tree.\n",
        "    def fit(self, \n",
        "            X, \n",
        "            Y):\n",
        "        dataframe = np.concatenate((X, Y), axis=1)\n",
        "        self.root = self.construct_tree(dataframe)\n",
        "\n",
        "    # Predict Function\n",
        "    def predict(self, \n",
        "                X):\n",
        "        preditions = [self.make_prediction(x, self.root) for x in X]\n",
        "        return preditions  \n",
        "\n",
        "    # Helper function for Predict funtion to determine the new data value.    \n",
        "    def make_prediction(self, \n",
        "                        xNode, \n",
        "                        decisionTree):\n",
        "              \n",
        "        if decisionTree.leafNode_value!=None: \n",
        "          return decisionTree.leafNode_value\n",
        "\n",
        "        feature_val = xNode[decisionTree.idxFeature]\n",
        "        if feature_val <= decisionTree.threshold_value:\n",
        "            return self.make_prediction(xNode, decisionTree.tree_left)\n",
        "        else:\n",
        "            return self.make_prediction(xNode, decisionTree.tree_right)   \n",
        "    "
      ],
      "execution_count": null,
      "outputs": []
    },
    {
      "cell_type": "code",
      "metadata": {
        "id": "WOBWt0lbbok5"
      },
      "source": [
        "TreeRegressor = Decision_Tree_Regressor(min_samples_split = 3, max_depth = 3)"
      ],
      "execution_count": null,
      "outputs": []
    },
    {
      "cell_type": "code",
      "metadata": {
        "id": "hlBEDbpGb6sL"
      },
      "source": [
        "y_train = y_train.values.reshape(-1,1)"
      ],
      "execution_count": null,
      "outputs": []
    },
    {
      "cell_type": "code",
      "metadata": {
        "id": "N-hATq_Ub3KD"
      },
      "source": [
        "TreeRegressor.fit(X_train,y_train)"
      ],
      "execution_count": null,
      "outputs": []
    },
    {
      "cell_type": "code",
      "metadata": {
        "id": "TXFWkGowhtUB"
      },
      "source": [
        "X_test = X_test.values"
      ],
      "execution_count": null,
      "outputs": []
    },
    {
      "cell_type": "code",
      "metadata": {
        "id": "asezuGpNcrdr",
        "colab": {
          "base_uri": "https://localhost:8080/"
        },
        "outputId": "0c3cfc75-2bad-4d96-97ea-4ac7d2efd2d8"
      },
      "source": [
        "Y_pred = TreeRegressor.predict(X_test) \n",
        "\n",
        "TreeRegressor_r2 = r2_score(Y_pred, y_test)\n",
        "print(\"R2 for Custom Decision Tree is \",TreeRegressor_r2)\n",
        "\n",
        "TreeRegressor_RMSE = np.sqrt(mean_squared_error(Y_pred, y_test))\n",
        "print(\"RMSE for Custom Decision Tree is \",TreeRegressor_RMSE)"
      ],
      "execution_count": null,
      "outputs": [
        {
          "output_type": "stream",
          "name": "stdout",
          "text": [
            "R2 for Custom Decision Tree is  0.67382374510272\n",
            "RMSE for Custom Decision Tree is  4.752681021870103\n"
          ]
        }
      ]
    },
    {
      "cell_type": "markdown",
      "metadata": {
        "id": "CMW7IfAkkhQl"
      },
      "source": [
        "##SKLEARN Implementation of Decision Tree Regressor\n",
        "\n",
        "---\n",
        "\n"
      ]
    },
    {
      "cell_type": "code",
      "metadata": {
        "id": "gXU6KhLBMSzI"
      },
      "source": [
        "from sklearn.tree import DecisionTreeRegressor"
      ],
      "execution_count": null,
      "outputs": []
    },
    {
      "cell_type": "code",
      "metadata": {
        "id": "Zq8yiBjNNFJp",
        "colab": {
          "base_uri": "https://localhost:8080/"
        },
        "outputId": "123ee307-f787-4cd2-de6e-57014755f37d"
      },
      "source": [
        "SkLearn_TreeRegressor = DecisionTreeRegressor(min_samples_split = 3, max_depth = 3)\n",
        "SkLearn_TreeRegressor.fit(X_train, y_train)"
      ],
      "execution_count": null,
      "outputs": [
        {
          "output_type": "execute_result",
          "data": {
            "text/plain": [
              "DecisionTreeRegressor(max_depth=3, min_samples_split=3)"
            ]
          },
          "metadata": {},
          "execution_count": 62
        }
      ]
    },
    {
      "cell_type": "code",
      "metadata": {
        "id": "Yv7W2xHIVsP4",
        "colab": {
          "base_uri": "https://localhost:8080/"
        },
        "outputId": "af7e9c84-2880-4ec2-e4e2-0753dd8d7200"
      },
      "source": [
        "SkLearn_Y_pred = SkLearn_TreeRegressor.predict(X_test) \n",
        "\n",
        "SkLearn_TreeRegressor_r2 = r2_score(SkLearn_Y_pred, y_test)\n",
        "print(\"R2 for SKlearn Decision Tree is \", SkLearn_TreeRegressor_r2)\n",
        "\n",
        "SkLearn_TreeRegressor_RMSE = np.sqrt(mean_squared_error(SkLearn_Y_pred, y_test))\n",
        "print(\"RMSE for SKlearn Decision Tree is \", SkLearn_TreeRegressor_RMSE)"
      ],
      "execution_count": null,
      "outputs": [
        {
          "output_type": "stream",
          "name": "stdout",
          "text": [
            "R2 for SKlearn Decision Tree is  0.6078414592209112\n",
            "RMSE for SKlearn Decision Tree is  5.079722005575151\n"
          ]
        },
        {
          "output_type": "stream",
          "name": "stderr",
          "text": [
            "/usr/local/lib/python3.7/dist-packages/sklearn/base.py:446: UserWarning: X does not have valid feature names, but DecisionTreeRegressor was fitted with feature names\n",
            "  \"X does not have valid feature names, but\"\n"
          ]
        }
      ]
    },
    {
      "cell_type": "markdown",
      "metadata": {
        "id": "lsahWXGWkqLy"
      },
      "source": [
        "\n",
        "##Custom Implementation of Random Forest Regressor\n",
        "\n",
        "---\n",
        "\n"
      ]
    },
    {
      "cell_type": "code",
      "metadata": {
        "id": "njQbbsDo6zQS"
      },
      "source": [
        "#Helper functions for custom random forest regressor\n",
        "\n",
        "# Bootstraping helps divide the data for trees construction\n",
        "def bootstrap_sample(X, \n",
        "                     y):\n",
        "    nSamples_data = X.shape[0] \n",
        "    indices = np.random.choice(nSamples_data,nSamples_data, replace=True)\n",
        "    return X[indices], y[indices]\n",
        "    \n",
        "# This function helps determine leaf node value by computing mean.\n",
        "def combined_average_label(y):\n",
        "    mean_val = np.mean(y)\n",
        "    return mean_val;"
      ],
      "execution_count": null,
      "outputs": []
    },
    {
      "cell_type": "code",
      "metadata": {
        "id": "E-JyJddlkqeS"
      },
      "source": [
        "class Random_Forest_Regressor:\n",
        "    def __init__(self, \n",
        "                 n_trees=10, \n",
        "                 min_samples_split=2, \n",
        "                 max_depth=100):\n",
        "        self.n_trees = n_trees\n",
        "        self.min_samples_split = min_samples_split\n",
        "        self.max_depth = max_depth\n",
        "        self.trees = []\n",
        " \n",
        "    # Fits data into model and trains our random forest model.\n",
        "    def fit(self, \n",
        "            X, \n",
        "            y):\n",
        "        # holds collection of trees.\n",
        "        self.trees = []\n",
        "        # Build n trees by splitting the data with replacement using bootstrapping.\n",
        "        for _ in range(self.n_trees):\n",
        "            decisionTree = Decision_Tree_Regressor(min_samples_split = self.min_samples_split,\n",
        "                                                   max_depth = self.max_depth)\n",
        "            X_samp, y_samp = bootstrap_sample(X, y)\n",
        "            # Fit the bootstrapped data into the custom decision tree.\n",
        "            decisionTree.fit(X_samp, y_samp)\n",
        "            self.trees.append(decisionTree)\n",
        "\n",
        "    # Predict funtion determines the new data value by taking the mean of all the results from n decision trees.\n",
        "    def predict(self, \n",
        "                X):\n",
        "        decisionTree_predictions = np.array([decisionTree.predict(X) for decisionTree in self.trees])\n",
        "        decisionTree_predictions = np.swapaxes(decisionTree_predictions, 0, 1)\n",
        "        y_predictions = [combined_average_label(decisiontree_pred) for decisiontree_pred in decisionTree_predictions]\n",
        "        return np.array(y_predictions)"
      ],
      "execution_count": null,
      "outputs": []
    },
    {
      "cell_type": "code",
      "metadata": {
        "id": "Jl-6kbUBk47o"
      },
      "source": [
        "ForestRegressor = Random_Forest_Regressor(n_trees = 10, min_samples_split = 2, max_depth = 100)\n",
        "X_train_values = X_train.values\n",
        "ForestRegressor.fit(X_train_values, y_train)"
      ],
      "execution_count": null,
      "outputs": []
    },
    {
      "cell_type": "code",
      "metadata": {
        "id": "oPRAL4n12SCn",
        "colab": {
          "base_uri": "https://localhost:8080/"
        },
        "outputId": "6d25deb3-ae10-4034-fe91-8789b5df5c1c"
      },
      "source": [
        "Y_pred = ForestRegressor.predict(X_test) \n",
        "\n",
        "ForestRegressor_r2 = r2_score(Y_pred, y_test)\n",
        "print(\"R2 for Custom Random Forest regression model is \", ForestRegressor_r2)\n",
        "\n",
        "ForestRegressor_RMSE = np.sqrt(mean_squared_error(Y_pred, y_test))\n",
        "print(\"RMSE for Custom Random Forest regression model is \", ForestRegressor_RMSE)"
      ],
      "execution_count": null,
      "outputs": [
        {
          "output_type": "stream",
          "name": "stdout",
          "text": [
            "R2 for Custom Random Forest regression model is  0.6777709922784986\n",
            "RMSE for Custom Random Forest regression model is  5.207655728431738\n"
          ]
        }
      ]
    },
    {
      "cell_type": "markdown",
      "metadata": {
        "id": "THsVMGkDkv-9"
      },
      "source": [
        "##SKLEARN Implementation of Random Forest Regressor\n",
        "\n",
        "---\n",
        "\n"
      ]
    },
    {
      "cell_type": "code",
      "metadata": {
        "id": "vsAkVCNKClx5"
      },
      "source": [
        "from sklearn.ensemble import RandomForestRegressor"
      ],
      "execution_count": null,
      "outputs": []
    },
    {
      "cell_type": "code",
      "metadata": {
        "id": "7LK35PZ1-icj",
        "colab": {
          "base_uri": "https://localhost:8080/"
        },
        "outputId": "a06ad514-f694-443e-a263-87507c3b773a"
      },
      "source": [
        "SkLearn_ForestRegressor =  RandomForestRegressor(n_estimators = 10, min_samples_split = 2, max_depth = 100)\n",
        "SkLearn_ForestRegressor.fit(X_train_values, y_train.ravel())"
      ],
      "execution_count": null,
      "outputs": [
        {
          "output_type": "execute_result",
          "data": {
            "text/plain": [
              "RandomForestRegressor(max_depth=100, n_estimators=10)"
            ]
          },
          "metadata": {},
          "execution_count": 69
        }
      ]
    },
    {
      "cell_type": "code",
      "metadata": {
        "id": "D_agtzYWSRFI",
        "colab": {
          "base_uri": "https://localhost:8080/"
        },
        "outputId": "fcbce61d-ee06-4ec8-84b4-5e68975ee3ae"
      },
      "source": [
        "SkLearn_Y_pred = SkLearn_ForestRegressor.predict(X_test) \n",
        "\n",
        "SkLearn_ForestRegressor_r2 = r2_score(SkLearn_Y_pred, y_test)\n",
        "print(\"R2 for SKlearn Random Forest regression model is \", SkLearn_ForestRegressor_r2)\n",
        "\n",
        "SkLearn_ForestRegressor_RMSE = np.sqrt(mean_squared_error(SkLearn_Y_pred, y_test))\n",
        "print(\"RMSE for SKlearn Random Forest regression model is \", SkLearn_ForestRegressor_RMSE)"
      ],
      "execution_count": null,
      "outputs": [
        {
          "output_type": "stream",
          "name": "stdout",
          "text": [
            "R2 for SKlearn Random Forest regression model is  0.7558678053209729\n",
            "RMSE for SKlearn Random Forest regression model is  4.425487183586003\n"
          ]
        }
      ]
    }
  ]
}